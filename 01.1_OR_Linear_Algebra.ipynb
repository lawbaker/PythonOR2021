{
  "nbformat": 4,
  "nbformat_minor": 0,
  "metadata": {
    "colab": {
      "name": "OR - Linear Algebra",
      "provenance": [],
      "collapsed_sections": [
        "abQRGutXnHTc",
        "RwUR8c_LfRqm",
        "atP4JNm8ywnj",
        "-bNRopJC2iA2",
        "44Vwxlh_yiNF",
        "npi40mot0Ej2",
        "viQbQOxU1F25"
      ],
      "toc_visible": true,
      "authorship_tag": "ABX9TyPWJwalUXrE4LeLsJ1VWfdY",
      "include_colab_link": true
    },
    "kernelspec": {
      "display_name": "Python 3",
      "name": "python3"
    },
    "language_info": {
      "name": "python"
    }
  },
  "cells": [
    {
      "cell_type": "markdown",
      "metadata": {
        "id": "view-in-github",
        "colab_type": "text"
      },
      "source": [
        "<a href=\"https://colab.research.google.com/github/lawbaker/PythonOR2021/blob/main/01.1_OR_Linear_Algebra.ipynb\" target=\"_parent\"><img src=\"https://colab.research.google.com/assets/colab-badge.svg\" alt=\"Open In Colab\"/></a>"
      ]
    },
    {
      "cell_type": "markdown",
      "metadata": {
        "id": "pZCxmb88tg4I"
      },
      "source": [
        "# Operations Research 2021 TA Session 2.1: Linear Algebra in Python\n",
        "\n",
        "## Lawrence Baker"
      ]
    },
    {
      "cell_type": "markdown",
      "metadata": {
        "id": "Ix98a5uIiB0P"
      },
      "source": [
        "## Sessions\n",
        "1.   An introduction to python (and colab)\n",
        "2.   **Linear algebra** & unconstrained convex optimization problems\n",
        "3.   Constraints and integer programming\n",
        "4.   *TBD - Networks? Dataframes? What do you want?*\n",
        "5.   An introduction to machine learning"
      ]
    },
    {
      "cell_type": "markdown",
      "metadata": {
        "id": "vEOgAmh1toRm"
      },
      "source": [
        "# Introduction\n",
        "\n",
        "For some of our OR problems we basically want to use python as a fancy calculator that can handle linear algebra. The alternative used in the 'normal' OR class is Octave, which is a GNU (free) version of Matlab.\n",
        "\n",
        "In this session we'll cover arrays and how to manipulate them like matrices. I'll also show you how to use markdown for mathematical formulas and we'll do some practice questions"
      ]
    },
    {
      "cell_type": "markdown",
      "metadata": {
        "id": "Fih8gWN7ufWv"
      },
      "source": [
        "# Packages\n",
        "\n",
        "From now on we're going to import all the packages we need at the top of the code. This is generally accepted practice. If you get half way through writing a file and you realise you need a new package, go back and import it at the top."
      ]
    },
    {
      "cell_type": "code",
      "metadata": {
        "id": "Ov3fMZMUtkyM"
      },
      "source": [
        "import numpy as np\n",
        "import numpy.linalg as la"
      ],
      "execution_count": null,
      "outputs": []
    },
    {
      "cell_type": "markdown",
      "metadata": {
        "id": "L9GiM0sRvSFN"
      },
      "source": [
        "# NumPy arrays\n",
        "\n",
        "There is no base support for arrays/matrices in python, instead we reply on NumPy. The closest you can get in base python is a list, you might think we can write the horizontal vector:\n",
        "\n",
        "$H =\n",
        " \\begin{pmatrix}\n",
        "  3 & 19 \n",
        " \\end{pmatrix}$\n",
        "\n",
        " As a list \n",
        "\n",
        " ```\n",
        "H = [3, 19]\n",
        " ```\n",
        "But this doesn't act the way we want it to, instead we have to initalize this object as an NumPy array, which is a list of lists which understands that you are specifying spacially ordered data. An array made with a single list-level is a vector."
      ]
    },
    {
      "cell_type": "code",
      "metadata": {
        "colab": {
          "base_uri": "https://localhost:8080/"
        },
        "id": "UulV28lhvA_f",
        "outputId": "29621a49-00bd-492e-8ceb-cb8d43c3015b"
      },
      "source": [
        "H = np.array([3, 19])\n",
        "\n",
        "H"
      ],
      "execution_count": null,
      "outputs": [
        {
          "output_type": "execute_result",
          "data": {
            "text/plain": [
              "array([ 3, 19])"
            ]
          },
          "metadata": {
            "tags": []
          },
          "execution_count": 2
        }
      ]
    },
    {
      "cell_type": "markdown",
      "metadata": {
        "id": "Lv-Pk50pww4b"
      },
      "source": [
        "You can also specify multidimensional arrays (for our purposes, these are matrices). Here are two ways of specifying a matrix using a list of lists. They are identical in terms of code but I strongly recommend the second for readability."
      ]
    },
    {
      "cell_type": "code",
      "metadata": {
        "colab": {
          "base_uri": "https://localhost:8080/"
        },
        "id": "kPOabr8Ewuik",
        "outputId": "0727ce18-d982-4494-92f7-2de60dafecf3"
      },
      "source": [
        "M1 = np.array([[1 ,2 ,3], [4, 5, 6], [7, 8, 9]])\n",
        "M1"
      ],
      "execution_count": null,
      "outputs": [
        {
          "output_type": "execute_result",
          "data": {
            "text/plain": [
              "array([[1, 2, 3],\n",
              "       [4, 5, 6],\n",
              "       [7, 8, 9]])"
            ]
          },
          "metadata": {
            "tags": []
          },
          "execution_count": 3
        }
      ]
    },
    {
      "cell_type": "code",
      "metadata": {
        "colab": {
          "base_uri": "https://localhost:8080/"
        },
        "id": "I6Y9P0OwxPfy",
        "outputId": "bf4ac21e-3b86-46f3-8d62-a33b1a490fdc"
      },
      "source": [
        "M2 = np.array([[1 ,2 ,3], \n",
        "               [4, 5, 6], \n",
        "               [7, 8, 9]])\n",
        "M2"
      ],
      "execution_count": null,
      "outputs": [
        {
          "output_type": "execute_result",
          "data": {
            "text/plain": [
              "array([[1, 2, 3],\n",
              "       [4, 5, 6],\n",
              "       [7, 8, 9]])"
            ]
          },
          "metadata": {
            "tags": []
          },
          "execution_count": 4
        }
      ]
    },
    {
      "cell_type": "markdown",
      "metadata": {
        "id": "WywZUleNzG7C"
      },
      "source": [
        "If you want to know the dimensions of an array you have created, then you can use the .shape method. This produces a tuple with (num_rows, num_cols)"
      ]
    },
    {
      "cell_type": "code",
      "metadata": {
        "colab": {
          "base_uri": "https://localhost:8080/"
        },
        "id": "pOK9KCaBzNF8",
        "outputId": "15dde866-e7ff-470c-8784-c848fc23bef8"
      },
      "source": [
        "M2.shape"
      ],
      "execution_count": null,
      "outputs": [
        {
          "output_type": "execute_result",
          "data": {
            "text/plain": [
              "(3, 3)"
            ]
          },
          "metadata": {
            "tags": []
          },
          "execution_count": 5
        }
      ]
    },
    {
      "cell_type": "code",
      "metadata": {
        "colab": {
          "base_uri": "https://localhost:8080/"
        },
        "id": "x_2u8QEYzgtq",
        "outputId": "ddc6466f-c96e-425a-ccb4-d2a9c16177cf"
      },
      "source": [
        "H.shape"
      ],
      "execution_count": null,
      "outputs": [
        {
          "output_type": "execute_result",
          "data": {
            "text/plain": [
              "(2,)"
            ]
          },
          "metadata": {
            "tags": []
          },
          "execution_count": 8
        }
      ]
    },
    {
      "cell_type": "markdown",
      "metadata": {
        "id": "Skncmz3BziYE"
      },
      "source": [
        "You will notice that, for the vector H, only a single dimension is displayed. This is intentional and is not normally an issue, but if it ever is then you can always use reshape or specify it deliberately as a two dimensional array using a list of lists."
      ]
    },
    {
      "cell_type": "code",
      "metadata": {
        "colab": {
          "base_uri": "https://localhost:8080/"
        },
        "id": "tAVeHJyezhpQ",
        "outputId": "71e861e8-d17f-47b3-dce4-42738230cdcb"
      },
      "source": [
        "HR = H.reshape(1, 2)\n",
        "\n",
        "HR.shape"
      ],
      "execution_count": null,
      "outputs": [
        {
          "output_type": "execute_result",
          "data": {
            "text/plain": [
              "(1, 2)"
            ]
          },
          "metadata": {
            "tags": []
          },
          "execution_count": 9
        }
      ]
    },
    {
      "cell_type": "code",
      "metadata": {
        "colab": {
          "base_uri": "https://localhost:8080/"
        },
        "id": "e0_j-vqS167g",
        "outputId": "9997a210-bc01-4377-effb-6e6d2eda110c"
      },
      "source": [
        "HS = np.array([[3, 19]])\n",
        "\n",
        "HS.shape"
      ],
      "execution_count": null,
      "outputs": [
        {
          "output_type": "execute_result",
          "data": {
            "text/plain": [
              "(1, 2)"
            ]
          },
          "metadata": {
            "tags": []
          },
          "execution_count": 7
        }
      ]
    },
    {
      "cell_type": "code",
      "metadata": {
        "colab": {
          "base_uri": "https://localhost:8080/"
        },
        "id": "OcR77E-HPZgn",
        "outputId": "351b216e-a675-4927-d024-77c0e55ea88c"
      },
      "source": [
        "HS"
      ],
      "execution_count": null,
      "outputs": [
        {
          "output_type": "execute_result",
          "data": {
            "text/plain": [
              "array([[ 3, 19]])"
            ]
          },
          "metadata": {
            "tags": []
          },
          "execution_count": 8
        }
      ]
    },
    {
      "cell_type": "markdown",
      "metadata": {
        "id": "5F6ToDJc16BU"
      },
      "source": [
        "## Initializing Arrays: Exercise"
      ]
    },
    {
      "cell_type": "markdown",
      "metadata": {
        "id": "ShZbKT4PxOw-"
      },
      "source": [
        "That's basically all there is to creating arrays. Some practice:\n",
        "\n",
        "Make this guy twice, once as a matrix, once as a vector:\n",
        "\n",
        "$ \\begin{pmatrix}\n",
        "  3 & 19 & 7 & 2\n",
        " \\end{pmatrix}$"
      ]
    },
    {
      "cell_type": "code",
      "metadata": {
        "id": "90c3TGqYxe5F"
      },
      "source": [
        ""
      ],
      "execution_count": null,
      "outputs": []
    },
    {
      "cell_type": "markdown",
      "metadata": {
        "id": "tgdxpfuvyC-9"
      },
      "source": [
        "Then this one:\n",
        "\n",
        " $\\begin{pmatrix}\n",
        "  1 & 0 \\\\\n",
        "  0 & 1\n",
        " \\end{pmatrix}$"
      ]
    },
    {
      "cell_type": "code",
      "metadata": {
        "id": "HZAcr_6kyLz7"
      },
      "source": [
        ""
      ],
      "execution_count": null,
      "outputs": []
    },
    {
      "cell_type": "markdown",
      "metadata": {
        "id": "OujjpG0SyY4-"
      },
      "source": [
        " And finally\n",
        " \n",
        " $\\begin{pmatrix}\n",
        "  6  \\\\\n",
        "  23 \\\\\n",
        "  56 \\\\\n",
        "  3  \\\\\n",
        "  12 \\\\\n",
        " \\end{pmatrix}$"
      ]
    },
    {
      "cell_type": "code",
      "metadata": {
        "id": "dleh9R540vIR"
      },
      "source": [
        ""
      ],
      "execution_count": null,
      "outputs": []
    },
    {
      "cell_type": "code",
      "metadata": {
        "colab": {
          "base_uri": "https://localhost:8080/"
        },
        "id": "_bHhPUkpPw_y",
        "outputId": "938a0be4-52c5-4b65-9d9d-154245050290"
      },
      "source": [
        "np.random.randint(1,10)"
      ],
      "execution_count": null,
      "outputs": [
        {
          "output_type": "execute_result",
          "data": {
            "text/plain": [
              "7"
            ]
          },
          "metadata": {
            "tags": []
          },
          "execution_count": 72
        }
      ]
    },
    {
      "cell_type": "markdown",
      "metadata": {
        "id": "rzRrZX4tyr_a"
      },
      "source": [
        "# Linear Algreba - Manipulating Arrays"
      ]
    },
    {
      "cell_type": "markdown",
      "metadata": {
        "id": "abQRGutXnHTc"
      },
      "source": [
        "##Indexing and Selection"
      ]
    },
    {
      "cell_type": "code",
      "metadata": {
        "colab": {
          "base_uri": "https://localhost:8080/"
        },
        "id": "lu9gAqe5nKTH",
        "outputId": "8f8defcc-9417-4690-90ec-42db389ff751"
      },
      "source": [
        "## Creates an array that runs 0 to 99\n",
        "a = np.arange(0,1000,10)\n",
        "a"
      ],
      "execution_count": null,
      "outputs": [
        {
          "output_type": "execute_result",
          "data": {
            "text/plain": [
              "array([  0,  10,  20,  30,  40,  50,  60,  70,  80,  90, 100, 110, 120,\n",
              "       130, 140, 150, 160, 170, 180, 190, 200, 210, 220, 230, 240, 250,\n",
              "       260, 270, 280, 290, 300, 310, 320, 330, 340, 350, 360, 370, 380,\n",
              "       390, 400, 410, 420, 430, 440, 450, 460, 470, 480, 490, 500, 510,\n",
              "       520, 530, 540, 550, 560, 570, 580, 590, 600, 610, 620, 630, 640,\n",
              "       650, 660, 670, 680, 690, 700, 710, 720, 730, 740, 750, 760, 770,\n",
              "       780, 790, 800, 810, 820, 830, 840, 850, 860, 870, 880, 890, 900,\n",
              "       910, 920, 930, 940, 950, 960, 970, 980, 990])"
            ]
          },
          "metadata": {
            "tags": []
          },
          "execution_count": 40
        }
      ]
    },
    {
      "cell_type": "markdown",
      "metadata": {
        "id": "H5YbxKMsnguH"
      },
      "source": [
        "We can select along our 1D array using the syntax\n",
        "```\n",
        "array[start:finish:step]\n",
        "```\n",
        "\n",
        "As with other python indexing, this is 0 indexed, and ranges include the beginning but are exclusive of the end.\n"
      ]
    },
    {
      "cell_type": "code",
      "metadata": {
        "colab": {
          "base_uri": "https://localhost:8080/"
        },
        "id": "W6ataEOsnfJs",
        "outputId": "ccef2b49-f0d8-45c9-b378-81eb071bc4c6"
      },
      "source": [
        "a[60:80:3]"
      ],
      "execution_count": null,
      "outputs": [
        {
          "output_type": "execute_result",
          "data": {
            "text/plain": [
              "array([600, 630, 660, 690, 720, 750, 780])"
            ]
          },
          "metadata": {
            "tags": []
          },
          "execution_count": 24
        }
      ]
    },
    {
      "cell_type": "markdown",
      "metadata": {
        "id": "TCRPAyyLoFcS"
      },
      "source": [
        "Use negative numbers to indicate that you are reading from the end. So -1 does everything except the final number"
      ]
    },
    {
      "cell_type": "code",
      "metadata": {
        "colab": {
          "base_uri": "https://localhost:8080/"
        },
        "id": "jo6R1KtFoJjF",
        "outputId": "6bb20187-489e-4360-cd92-fcc722087893"
      },
      "source": [
        "a[80:-1:2]"
      ],
      "execution_count": null,
      "outputs": [
        {
          "output_type": "execute_result",
          "data": {
            "text/plain": [
              "array([800, 820, 840, 860, 880, 900, 920, 940, 960, 980])"
            ]
          },
          "metadata": {
            "tags": []
          },
          "execution_count": 26
        }
      ]
    },
    {
      "cell_type": "markdown",
      "metadata": {
        "id": "4uZf1RexoY6o"
      },
      "source": [
        "Or leave it blank to indicate you want everything along that dimension (default step is 1)"
      ]
    },
    {
      "cell_type": "code",
      "metadata": {
        "colab": {
          "base_uri": "https://localhost:8080/"
        },
        "id": "maPgnbSgogN2",
        "outputId": "e8b8b955-0040-494f-ee54-78088d92108f"
      },
      "source": [
        "a[87:]"
      ],
      "execution_count": null,
      "outputs": [
        {
          "output_type": "execute_result",
          "data": {
            "text/plain": [
              "array([870, 880, 890, 900, 910, 920, 930, 940, 950, 960, 970, 980, 990])"
            ]
          },
          "metadata": {
            "tags": []
          },
          "execution_count": 31
        }
      ]
    },
    {
      "cell_type": "markdown",
      "metadata": {
        "id": "ZrJJxId1jBx3"
      },
      "source": [
        "This is identical to:"
      ]
    },
    {
      "cell_type": "code",
      "metadata": {
        "colab": {
          "base_uri": "https://localhost:8080/"
        },
        "id": "YUrMqQA0jESz",
        "outputId": "6aa31ca2-23d4-4197-bac7-b30d33c7baed"
      },
      "source": [
        "a[87:a.size:1]"
      ],
      "execution_count": null,
      "outputs": [
        {
          "output_type": "execute_result",
          "data": {
            "text/plain": [
              "array([87, 88, 89, 90, 91, 92, 93, 94, 95, 96, 97, 98, 99])"
            ]
          },
          "metadata": {
            "tags": []
          },
          "execution_count": 18
        }
      ]
    },
    {
      "cell_type": "code",
      "metadata": {
        "colab": {
          "base_uri": "https://localhost:8080/"
        },
        "id": "DbJKYNMljYwp",
        "outputId": "811bd6e2-5bfa-41fc-d800-07cf0830d941"
      },
      "source": [
        "a[87:a.shape[0]:1]"
      ],
      "execution_count": null,
      "outputs": [
        {
          "output_type": "execute_result",
          "data": {
            "text/plain": [
              "array([87, 88, 89, 90, 91, 92, 93, 94, 95, 96, 97, 98, 99])"
            ]
          },
          "metadata": {
            "tags": []
          },
          "execution_count": 21
        }
      ]
    },
    {
      "cell_type": "markdown",
      "metadata": {
        "id": "nmDZCW6cn8Z1"
      },
      "source": [
        "Let's reshape this into a 10 x 10 2D array"
      ]
    },
    {
      "cell_type": "code",
      "metadata": {
        "colab": {
          "base_uri": "https://localhost:8080/"
        },
        "id": "wow-xp1GoRzV",
        "outputId": "06e2c7fe-50bc-4bf7-f257-f78dda35d945"
      },
      "source": [
        "b = a.reshape(10,10)\n",
        "b"
      ],
      "execution_count": null,
      "outputs": [
        {
          "output_type": "execute_result",
          "data": {
            "text/plain": [
              "array([[  0,  10,  20,  30,  40,  50,  60,  70,  80,  90],\n",
              "       [100, 110, 120, 130, 140, 150, 160, 170, 180, 190],\n",
              "       [200, 210, 220, 230, 240, 250, 260, 270, 280, 290],\n",
              "       [300, 310, 320, 330, 340, 350, 360, 370, 380, 390],\n",
              "       [400, 410, 420, 430, 440, 450, 460, 470, 480, 490],\n",
              "       [500, 510, 520, 530, 540, 550, 560, 570, 580, 590],\n",
              "       [600, 610, 620, 630, 640, 650, 660, 670, 680, 690],\n",
              "       [700, 710, 720, 730, 740, 750, 760, 770, 780, 790],\n",
              "       [800, 810, 820, 830, 840, 850, 860, 870, 880, 890],\n",
              "       [900, 910, 920, 930, 940, 950, 960, 970, 980, 990]])"
            ]
          },
          "metadata": {
            "tags": []
          },
          "execution_count": 34
        }
      ]
    },
    {
      "cell_type": "markdown",
      "metadata": {
        "id": "7oVNd3gnoyV9"
      },
      "source": [
        "We use the same selection syntax in two directions.\n",
        "\n",
        "```\n",
        "array[rowstart:rowfinish:rowstep, colstart:colfinish:colstep]\n",
        "```"
      ]
    },
    {
      "cell_type": "code",
      "metadata": {
        "colab": {
          "base_uri": "https://localhost:8080/"
        },
        "id": "oKgff6YWopR9",
        "outputId": "1fe679bb-7204-4409-a2d9-5356e669a5bf"
      },
      "source": [
        "b[2:5, 3:9]"
      ],
      "execution_count": null,
      "outputs": [
        {
          "output_type": "execute_result",
          "data": {
            "text/plain": [
              "array([[230, 240, 250, 260, 270, 280],\n",
              "       [330, 340, 350, 360, 370, 380],\n",
              "       [430, 440, 450, 460, 470, 480]])"
            ]
          },
          "metadata": {
            "tags": []
          },
          "execution_count": 38
        }
      ]
    },
    {
      "cell_type": "markdown",
      "metadata": {
        "id": "Vxr4_cBPpgNB"
      },
      "source": [
        "## Array Selection: Exercise"
      ]
    },
    {
      "cell_type": "markdown",
      "metadata": {
        "id": "bvf9aN59pvQU"
      },
      "source": [
        "Create an 10 by 5 array that goes from 3 to 983 in steps of 20."
      ]
    },
    {
      "cell_type": "code",
      "metadata": {
        "id": "Koj2omcGqG-U"
      },
      "source": [
        ""
      ],
      "execution_count": null,
      "outputs": []
    },
    {
      "cell_type": "markdown",
      "metadata": {
        "id": "nGCeCzz5qHXV"
      },
      "source": [
        "Select a square from the array with corners:\n",
        "\n",
        "$$\\begin{pmatrix}\n",
        "  323 & \\cdots & 363 \\\\\n",
        "  \\vdots & \\ddots & \\vdots  \\\\\n",
        "  723 & \\cdots & 763 \\\\\n",
        " \\end{pmatrix}$$"
      ]
    },
    {
      "cell_type": "code",
      "metadata": {
        "id": "mANbrezMq7ae"
      },
      "source": [
        ""
      ],
      "execution_count": null,
      "outputs": []
    },
    {
      "cell_type": "markdown",
      "metadata": {
        "id": "RwUR8c_LfRqm"
      },
      "source": [
        "## Norms\n",
        "\n",
        "The l2 norm (which is the norm we will be using) of a vector is how long that vector would be if it was drawn out in euclidian space. In two dimensions this is basically pythagoras:\n",
        "\n",
        "$$V =  \\begin{pmatrix}\n",
        "  x  \\\\\n",
        "  y \\\\\n",
        " \\end{pmatrix}$$\n",
        "\n",
        "$$||V||_2 = \\sqrt{x^2 + y^2}$$\n",
        "\n",
        "Fortunately, this extends to multiple dimensions too:\n",
        "\n",
        "$$\\textbf{x} =  \\begin{pmatrix}\n",
        "  x_1  \\\\\n",
        "  x_2  \\\\\n",
        "  x_3  \\\\\n",
        "  \\vdots  \\\\\n",
        "  x_n  \\\\\n",
        " \\end{pmatrix}$$\n",
        "\n",
        "$$||\\textbf{x}||_2 = \\sqrt{x_1^2 + x_2^2 + x_3^2 + ... + x_n^2}$$\n",
        "\n",
        "To find the norm quickly we can use [numpy.linalg.norm](https://numpy.org/doc/stable/reference/generated/numpy.linalg.norm.html):"
      ]
    },
    {
      "cell_type": "code",
      "metadata": {
        "colab": {
          "base_uri": "https://localhost:8080/"
        },
        "id": "_TxEHS59hRh8",
        "outputId": "0b455e3c-ae95-4f87-d753-4fed20c0a1b9"
      },
      "source": [
        "P = np.array([3, 4])\n",
        "P"
      ],
      "execution_count": null,
      "outputs": [
        {
          "output_type": "execute_result",
          "data": {
            "text/plain": [
              "array([3, 4])"
            ]
          },
          "metadata": {
            "tags": []
          },
          "execution_count": 25
        }
      ]
    },
    {
      "cell_type": "code",
      "metadata": {
        "colab": {
          "base_uri": "https://localhost:8080/"
        },
        "id": "YTW4swKXhswW",
        "outputId": "9488b964-4e22-45f2-ee78-d27ad28e99bc"
      },
      "source": [
        "la.norm(P)"
      ],
      "execution_count": null,
      "outputs": [
        {
          "output_type": "execute_result",
          "data": {
            "text/plain": [
              "5.0"
            ]
          },
          "metadata": {
            "tags": []
          },
          "execution_count": 26
        }
      ]
    },
    {
      "cell_type": "code",
      "metadata": {
        "colab": {
          "base_uri": "https://localhost:8080/"
        },
        "id": "8jq82TjnhwVJ",
        "outputId": "38a412db-dce8-4425-d1ab-a3cd20e187aa"
      },
      "source": [
        "la.norm(np.array([3, 4, 5, 6, 7, 8, 9]))"
      ],
      "execution_count": null,
      "outputs": [
        {
          "output_type": "execute_result",
          "data": {
            "text/plain": [
              "16.73320053068151"
            ]
          },
          "metadata": {
            "tags": []
          },
          "execution_count": 27
        }
      ]
    },
    {
      "cell_type": "markdown",
      "metadata": {
        "id": "0kGvPv_Uh33Q"
      },
      "source": [
        "I've needed to use it, but if you give numpy.linalg.norm a matrix, then it will return the square root of the sum of the squares of every element. This is nice because it doesn't matter if you define your vectors as 1D or 2D."
      ]
    },
    {
      "cell_type": "markdown",
      "metadata": {
        "id": "atP4JNm8ywnj"
      },
      "source": [
        "## Transpose\n",
        "\n",
        "We can take a transpose by using the .T attribute\n",
        "\n"
      ]
    },
    {
      "cell_type": "code",
      "metadata": {
        "colab": {
          "base_uri": "https://localhost:8080/"
        },
        "id": "DuSM5yNwylmb",
        "outputId": "ddc2c121-abc7-4e6f-8218-0bbfdf188255"
      },
      "source": [
        "M1"
      ],
      "execution_count": null,
      "outputs": [
        {
          "output_type": "execute_result",
          "data": {
            "text/plain": [
              "array([[1, 2, 3],\n",
              "       [4, 5, 6],\n",
              "       [7, 8, 9]])"
            ]
          },
          "metadata": {
            "tags": []
          },
          "execution_count": 42
        }
      ]
    },
    {
      "cell_type": "code",
      "metadata": {
        "colab": {
          "base_uri": "https://localhost:8080/"
        },
        "id": "3ocT2nJ20z_e",
        "outputId": "02ae90ec-0b29-4022-ef6e-d357d69f32e5"
      },
      "source": [
        "M1.T"
      ],
      "execution_count": null,
      "outputs": [
        {
          "output_type": "execute_result",
          "data": {
            "text/plain": [
              "array([[1, 4, 7],\n",
              "       [2, 5, 8],\n",
              "       [3, 6, 9]])"
            ]
          },
          "metadata": {
            "tags": []
          },
          "execution_count": 43
        }
      ]
    },
    {
      "cell_type": "code",
      "metadata": {
        "colab": {
          "base_uri": "https://localhost:8080/"
        },
        "id": "XaMpwyQP006u",
        "outputId": "6d8e417f-be9e-49dd-ed66-f3f1259ac54e"
      },
      "source": [
        "HR"
      ],
      "execution_count": null,
      "outputs": [
        {
          "output_type": "execute_result",
          "data": {
            "text/plain": [
              "array([[ 3, 19]])"
            ]
          },
          "metadata": {
            "tags": []
          },
          "execution_count": 30
        }
      ]
    },
    {
      "cell_type": "code",
      "metadata": {
        "colab": {
          "base_uri": "https://localhost:8080/"
        },
        "id": "EzfjJWY303Qq",
        "outputId": "0134a9a7-494d-477b-8a18-4c3d70bb8972"
      },
      "source": [
        "HR.T"
      ],
      "execution_count": null,
      "outputs": [
        {
          "output_type": "execute_result",
          "data": {
            "text/plain": [
              "array([[ 3],\n",
              "       [19]])"
            ]
          },
          "metadata": {
            "tags": []
          },
          "execution_count": 31
        }
      ]
    },
    {
      "cell_type": "markdown",
      "metadata": {
        "id": "t9vQJ71Z1Skd"
      },
      "source": [
        "Remember that these changes do not automatically make their way through to an object, unless you use assignment. HR stays the same."
      ]
    },
    {
      "cell_type": "code",
      "metadata": {
        "colab": {
          "base_uri": "https://localhost:8080/"
        },
        "id": "XYfYnHKb04P4",
        "outputId": "ba26a3ca-7b44-4d44-a058-7222324232ea"
      },
      "source": [
        "HR"
      ],
      "execution_count": null,
      "outputs": [
        {
          "output_type": "execute_result",
          "data": {
            "text/plain": [
              "array([[ 3, 19]])"
            ]
          },
          "metadata": {
            "tags": []
          },
          "execution_count": 32
        }
      ]
    },
    {
      "cell_type": "markdown",
      "metadata": {
        "id": "rG_uDGRj1qFK"
      },
      "source": [
        "Transpose won't work with a vector (only matrices)"
      ]
    },
    {
      "cell_type": "code",
      "metadata": {
        "colab": {
          "base_uri": "https://localhost:8080/"
        },
        "id": "pe9aKrCh1beH",
        "outputId": "300984e1-a21c-49f9-ed2c-0b6423d0b6f5"
      },
      "source": [
        "H"
      ],
      "execution_count": null,
      "outputs": [
        {
          "output_type": "execute_result",
          "data": {
            "text/plain": [
              "array([ 3, 19])"
            ]
          },
          "metadata": {
            "tags": []
          },
          "execution_count": 34
        }
      ]
    },
    {
      "cell_type": "code",
      "metadata": {
        "colab": {
          "base_uri": "https://localhost:8080/"
        },
        "id": "rYw9gGow2dwp",
        "outputId": "5bc43e1a-7e9a-456b-cabe-177b3e0135fe"
      },
      "source": [
        "H.T"
      ],
      "execution_count": null,
      "outputs": [
        {
          "output_type": "execute_result",
          "data": {
            "text/plain": [
              "array([ 3, 19])"
            ]
          },
          "metadata": {
            "tags": []
          },
          "execution_count": 35
        }
      ]
    },
    {
      "cell_type": "markdown",
      "metadata": {
        "id": "-bNRopJC2iA2"
      },
      "source": [
        "## Matrix Multiplication\n",
        "\n",
        "It will be tempting to use '*' for matrix multiplication, but this gives us elementwise multiplication, we want to use @ instead."
      ]
    },
    {
      "cell_type": "code",
      "metadata": {
        "colab": {
          "base_uri": "https://localhost:8080/"
        },
        "id": "MqUA9PPq3AJZ",
        "outputId": "be7f69e1-5424-4c89-f169-3678e12fe85a"
      },
      "source": [
        "M1"
      ],
      "execution_count": null,
      "outputs": [
        {
          "output_type": "execute_result",
          "data": {
            "text/plain": [
              "array([[1, 2, 3],\n",
              "       [4, 5, 6],\n",
              "       [7, 8, 9]])"
            ]
          },
          "metadata": {
            "tags": []
          },
          "execution_count": 36
        }
      ]
    },
    {
      "cell_type": "code",
      "metadata": {
        "colab": {
          "base_uri": "https://localhost:8080/"
        },
        "id": "6Q39bXB53Cda",
        "outputId": "9ee097e3-a8e9-451f-edbd-2daf26c11747"
      },
      "source": [
        "M1 * M1"
      ],
      "execution_count": null,
      "outputs": [
        {
          "output_type": "execute_result",
          "data": {
            "text/plain": [
              "array([[ 1,  4,  9],\n",
              "       [16, 25, 36],\n",
              "       [49, 64, 81]])"
            ]
          },
          "metadata": {
            "tags": []
          },
          "execution_count": 37
        }
      ]
    },
    {
      "cell_type": "code",
      "metadata": {
        "colab": {
          "base_uri": "https://localhost:8080/"
        },
        "id": "rRpET5FS3D7A",
        "outputId": "e82b4b01-d342-4610-dc5e-d6b0c6877f0b"
      },
      "source": [
        "M1 @ M1"
      ],
      "execution_count": null,
      "outputs": [
        {
          "output_type": "execute_result",
          "data": {
            "text/plain": [
              "array([[ 30,  36,  42],\n",
              "       [ 66,  81,  96],\n",
              "       [102, 126, 150]])"
            ]
          },
          "metadata": {
            "tags": []
          },
          "execution_count": 38
        }
      ]
    },
    {
      "cell_type": "markdown",
      "metadata": {
        "id": "udtiblLV3IuX"
      },
      "source": [
        "You can also use [numpy.dot](https://numpy.org/doc/stable/reference/generated/numpy.dot.html) or [numpy.matmul](https://numpy.org/doc/stable/reference/generated/numpy.matmul.html), which for our purposes are the same."
      ]
    },
    {
      "cell_type": "code",
      "metadata": {
        "colab": {
          "base_uri": "https://localhost:8080/"
        },
        "id": "2CiL05_w3FW_",
        "outputId": "85d8aab5-a250-4dcd-ffdd-73dd588670c2"
      },
      "source": [
        "np.dot(M1, M1)"
      ],
      "execution_count": null,
      "outputs": [
        {
          "output_type": "execute_result",
          "data": {
            "text/plain": [
              "array([[ 30,  36,  42],\n",
              "       [ 66,  81,  96],\n",
              "       [102, 126, 150]])"
            ]
          },
          "metadata": {
            "tags": []
          },
          "execution_count": 39
        }
      ]
    },
    {
      "cell_type": "code",
      "metadata": {
        "colab": {
          "base_uri": "https://localhost:8080/"
        },
        "id": "crMr-EhV3dOw",
        "outputId": "bc599e66-b1e2-4340-b626-a297af6c16b8"
      },
      "source": [
        "np.matmul(M1, M1)"
      ],
      "execution_count": null,
      "outputs": [
        {
          "output_type": "execute_result",
          "data": {
            "text/plain": [
              "array([[ 30,  36,  42],\n",
              "       [ 66,  81,  96],\n",
              "       [102, 126, 150]])"
            ]
          },
          "metadata": {
            "tags": []
          },
          "execution_count": 40
        }
      ]
    },
    {
      "cell_type": "markdown",
      "metadata": {
        "id": "44Vwxlh_yiNF"
      },
      "source": [
        "## Matrix powers"
      ]
    },
    {
      "cell_type": "markdown",
      "metadata": {
        "id": "fJusdYb-zOla"
      },
      "source": [
        "Many array uses have bitwise operations in mind, so again we have to be careful when raising to the power. Simply using '**' will return the square of each element."
      ]
    },
    {
      "cell_type": "code",
      "metadata": {
        "colab": {
          "base_uri": "https://localhost:8080/"
        },
        "id": "vlaaiaC13gS4",
        "outputId": "b27efc4a-a2f9-4c5f-e487-819f03304d17"
      },
      "source": [
        "M1**2"
      ],
      "execution_count": null,
      "outputs": [
        {
          "output_type": "execute_result",
          "data": {
            "text/plain": [
              "array([[ 1,  4,  9],\n",
              "       [16, 25, 36],\n",
              "       [49, 64, 81]])"
            ]
          },
          "metadata": {
            "tags": []
          },
          "execution_count": 45
        }
      ]
    },
    {
      "cell_type": "markdown",
      "metadata": {
        "id": "4SpkXYJszp6g"
      },
      "source": [
        "Instead we should use [numpy.linalg.matrix_power](https://numpy.org/doc/stable/reference/generated/numpy.linalg.matrix_power.html).\n",
        "\n",
        "Remember that we abbreviated numpy.linalg as la when we imported it."
      ]
    },
    {
      "cell_type": "code",
      "metadata": {
        "colab": {
          "base_uri": "https://localhost:8080/"
        },
        "id": "aEjsxv-Tyla2",
        "outputId": "e8d6b28e-4118-407d-af18-77039f15a512"
      },
      "source": [
        "la.matrix_power(M1, 2)"
      ],
      "execution_count": null,
      "outputs": [
        {
          "output_type": "execute_result",
          "data": {
            "text/plain": [
              "array([[ 30,  36,  42],\n",
              "       [ 66,  81,  96],\n",
              "       [102, 126, 150]])"
            ]
          },
          "metadata": {
            "tags": []
          },
          "execution_count": 46
        }
      ]
    },
    {
      "cell_type": "code",
      "metadata": {
        "colab": {
          "base_uri": "https://localhost:8080/"
        },
        "id": "Q9UspX-xz9NE",
        "outputId": "c9fd8d54-1894-4cb4-8a22-522fd5a18e83"
      },
      "source": [
        "la.matrix_power(M1, 200)"
      ],
      "execution_count": null,
      "outputs": [
        {
          "output_type": "execute_result",
          "data": {
            "text/plain": [
              "array([[  239112876697182416, -8777635175808341736,   652360845395685728],\n",
              "       [ 7800880526646967310,  6866766341019846025,  5932652155392724740],\n",
              "       [-3084095897112799412,  4064423784138482170, -7233800608319787864]])"
            ]
          },
          "metadata": {
            "tags": []
          },
          "execution_count": 47
        }
      ]
    },
    {
      "cell_type": "markdown",
      "metadata": {
        "id": "npi40mot0Ej2"
      },
      "source": [
        "## Inverse and Determinants\n",
        "\n",
        "You know the drill by now.\n",
        "\n",
        "[Determinants](https://numpy.org/doc/stable/reference/generated/numpy.linalg.det.html)\n",
        "\n",
        "[Inverse](https://numpy.org/doc/stable/reference/generated/numpy.linalg.inv.html)\n"
      ]
    },
    {
      "cell_type": "code",
      "metadata": {
        "colab": {
          "base_uri": "https://localhost:8080/"
        },
        "id": "6g3HBy4y0pp9",
        "outputId": "5b821913-f703-43b4-e801-5549e5608c58"
      },
      "source": [
        "M3 = np.array([[-2 ,-4 ,2], \n",
        "               [-2, 1, 2], \n",
        "               [4, 2, 5]])\n",
        "\n",
        "la.det(M3)"
      ],
      "execution_count": null,
      "outputs": [
        {
          "output_type": "execute_result",
          "data": {
            "text/plain": [
              "-90.0"
            ]
          },
          "metadata": {
            "tags": []
          },
          "execution_count": 49
        }
      ]
    },
    {
      "cell_type": "code",
      "metadata": {
        "colab": {
          "base_uri": "https://localhost:8080/"
        },
        "id": "Y_Ov9Pul0s-G",
        "outputId": "7189050b-9e18-46e9-ce4c-9fe71802fcc6"
      },
      "source": [
        "la.inv(M3)"
      ],
      "execution_count": null,
      "outputs": [
        {
          "output_type": "execute_result",
          "data": {
            "text/plain": [
              "array([[-0.01111111, -0.26666667,  0.11111111],\n",
              "       [-0.2       ,  0.2       , -0.        ],\n",
              "       [ 0.08888889,  0.13333333,  0.11111111]])"
            ]
          },
          "metadata": {
            "tags": []
          },
          "execution_count": 50
        }
      ]
    },
    {
      "cell_type": "markdown",
      "metadata": {
        "id": "viQbQOxU1F25"
      },
      "source": [
        "## Eigenvalues and Eigenvectors\n",
        "\n",
        "Eigenvalues and Eigenvectors are magic, but we don't really need to know them for this course. They are cool and useful concept and I highly recommend the [3Blue1Brown video](https://www.youtube.com/watch?v=PFDu9oVAE-g) on them (and associated series).\n",
        "\n",
        "The short explanation is that we can think of matrices as transformations in space, a 2x2 matrix specifies a transformation in 2D space, an NxN matrix in ND space. These transformations are a series of rotatations, shears, and stretches (or compressions). Some stretches are bigger than others. If we keep applying the same transformation over time then eventually the biggest stretch will dominate and the resultant vector will always point in this direction. This vector is the eigenvector.\n",
        "\n",
        "For our purposes you just need to know [numpy.linalg.eig](https://numpy.org/doc/stable/reference/generated/numpy.linalg.eig.html)"
      ]
    },
    {
      "cell_type": "code",
      "metadata": {
        "colab": {
          "base_uri": "https://localhost:8080/"
        },
        "id": "T7sCSoGZ0yJt",
        "outputId": "0d607a8a-b1cf-4adb-d532-dcac7a259f7c"
      },
      "source": [
        "la.eig(M3)"
      ],
      "execution_count": null,
      "outputs": [
        {
          "output_type": "execute_result",
          "data": {
            "text/plain": [
              "(array([-5.,  3.,  6.]), array([[ 0.81649658,  0.53452248,  0.05842062],\n",
              "        [ 0.40824829, -0.80178373,  0.35052374],\n",
              "        [-0.40824829, -0.26726124,  0.93472998]]))"
            ]
          },
          "metadata": {
            "tags": []
          },
          "execution_count": 51
        }
      ]
    },
    {
      "cell_type": "markdown",
      "metadata": {
        "id": "biUPtLqN3L-w"
      },
      "source": [
        "Ah, one function can produce two objects, luckly we can assign two objects at once too."
      ]
    },
    {
      "cell_type": "code",
      "metadata": {
        "id": "7ml_z6n-2WDU"
      },
      "source": [
        "eigval_M3, eigvec_M3 = la.eig(M3)"
      ],
      "execution_count": null,
      "outputs": []
    },
    {
      "cell_type": "code",
      "metadata": {
        "colab": {
          "base_uri": "https://localhost:8080/"
        },
        "id": "IYyNhbjr3ZPP",
        "outputId": "80f78631-e282-46b7-c336-925419b2f191"
      },
      "source": [
        "eigval_M3"
      ],
      "execution_count": null,
      "outputs": [
        {
          "output_type": "execute_result",
          "data": {
            "text/plain": [
              "array([-5.,  3.,  6.])"
            ]
          },
          "metadata": {
            "tags": []
          },
          "execution_count": 54
        }
      ]
    },
    {
      "cell_type": "code",
      "metadata": {
        "colab": {
          "base_uri": "https://localhost:8080/"
        },
        "id": "Lq5GXYWq3ZYG",
        "outputId": "4be70e4a-944f-4bbb-8761-8ffddb0e250e"
      },
      "source": [
        "eigvec_M3"
      ],
      "execution_count": null,
      "outputs": [
        {
          "output_type": "execute_result",
          "data": {
            "text/plain": [
              "array([[ 0.81649658,  0.53452248,  0.05842062],\n",
              "       [ 0.40824829, -0.80178373,  0.35052374],\n",
              "       [-0.40824829, -0.26726124,  0.93472998]])"
            ]
          },
          "metadata": {
            "tags": []
          },
          "execution_count": 55
        }
      ]
    },
    {
      "cell_type": "markdown",
      "metadata": {
        "id": "HGqR5fsB36HS"
      },
      "source": [
        "If we wanted to find the eigenvector corresponding to the largest eigenvalue:"
      ]
    },
    {
      "cell_type": "code",
      "metadata": {
        "id": "cJbUfebW3_ZE"
      },
      "source": [
        "#Find the index of the biggest absolute value\n",
        "i = np.argmax(abs(eigval_M3))\n",
        "\n",
        "##Find the corresponding eigenvector\n",
        "eigvec_M3[i]"
      ],
      "execution_count": null,
      "outputs": []
    },
    {
      "cell_type": "code",
      "metadata": {
        "id": "USeBQhWF4Tni"
      },
      "source": [
        "##Or all on one line\n",
        "eigvec_M3[np.argmax(abs(eigval_M3))]"
      ],
      "execution_count": null,
      "outputs": []
    },
    {
      "cell_type": "markdown",
      "metadata": {
        "id": "C-tI8MrB6DP_"
      },
      "source": [
        "Finally, one last tip for the below exercise. We can diagonalize a vector to turn it into a square matrix with values only on the diagonal."
      ]
    },
    {
      "cell_type": "code",
      "metadata": {
        "colab": {
          "base_uri": "https://localhost:8080/"
        },
        "id": "QBw3CWEE6PJZ",
        "outputId": "d52ce945-0a2d-4af3-abe5-7d09ba48c237"
      },
      "source": [
        "eigval_M3"
      ],
      "execution_count": null,
      "outputs": [
        {
          "output_type": "execute_result",
          "data": {
            "text/plain": [
              "array([-5.,  3.,  6.])"
            ]
          },
          "metadata": {
            "tags": []
          },
          "execution_count": 50
        }
      ]
    },
    {
      "cell_type": "code",
      "metadata": {
        "colab": {
          "base_uri": "https://localhost:8080/"
        },
        "id": "POH1AcR76bqY",
        "outputId": "f30663c5-33f2-408c-86f2-003f9f9d0c4c"
      },
      "source": [
        "np.diag(eigval_M3)"
      ],
      "execution_count": null,
      "outputs": [
        {
          "output_type": "execute_result",
          "data": {
            "text/plain": [
              "array([[-5.,  0.,  0.],\n",
              "       [ 0.,  3.,  0.],\n",
              "       [ 0.,  0.,  6.]])"
            ]
          },
          "metadata": {
            "tags": []
          },
          "execution_count": 51
        }
      ]
    },
    {
      "cell_type": "markdown",
      "metadata": {
        "id": "vB7JpgaD4v70"
      },
      "source": [
        "## Linear Algebra: Exercise\n",
        "\n",
        "It's a very useful result result that for any real symmetric matrix, $A$, we can decompose it into it's eigenvalues and eigenvectors. Such that:\n",
        "\n",
        "$$A = Q \\Lambda Q^{-1}$$\n",
        "\n",
        "Where $Q$ is the matrix of eigenvectors and $\\Lambda$ is a diagonal matrix of the corresponding eigenvalues.\n",
        "\n",
        "For the matrix\n",
        "\n",
        " $\\begin{pmatrix}\n",
        "  7  & 0  & 12 \\\\\n",
        "  0  & 3  & -6 \\\\\n",
        "  12 & -6 & 1.1\n",
        " \\end{pmatrix}$\n",
        "\n",
        " Find $Q$, $\\Lambda$, and prove that the above theorem holds for this matrix."
      ]
    },
    {
      "cell_type": "code",
      "metadata": {
        "id": "Crqhng_H6g-E",
        "colab": {
          "base_uri": "https://localhost:8080/"
        },
        "outputId": "c158e2a4-9778-4ee5-ce06-f16bcf404687"
      },
      "source": [
        "M4 = np.array([[7,  0,  12],\n",
        "               [0,  3,  -6],\n",
        "               [12, -6, 1.1]])\n",
        "\n",
        "M4"
      ],
      "execution_count": null,
      "outputs": [
        {
          "output_type": "execute_result",
          "data": {
            "text/plain": [
              "array([[ 7. ,  0. , 12. ],\n",
              "       [ 0. ,  3. , -6. ],\n",
              "       [12. , -6. ,  1.1]])"
            ]
          },
          "metadata": {
            "tags": []
          },
          "execution_count": 62
        }
      ]
    },
    {
      "cell_type": "code",
      "metadata": {
        "id": "uOets1U4dJJO"
      },
      "source": [
        "eigval_M4, Q = la.eig(M4)\n",
        "\n",
        "lamb = np.diag(eigval_M4)\n",
        "\n",
        "Q_inv = la.inv(Q)"
      ],
      "execution_count": null,
      "outputs": []
    },
    {
      "cell_type": "code",
      "metadata": {
        "colab": {
          "base_uri": "https://localhost:8080/"
        },
        "id": "kvV5z88LdXhh",
        "outputId": "3e528bc5-39c7-42a8-943a-484dd9e8986a"
      },
      "source": [
        "Q @ lamb @ Q_inv"
      ],
      "execution_count": null,
      "outputs": [
        {
          "output_type": "execute_result",
          "data": {
            "text/plain": [
              "array([[ 7.00000000e+00,  5.41384852e-16,  1.20000000e+01],\n",
              "       [ 3.32627195e-16,  3.00000000e+00, -6.00000000e+00],\n",
              "       [ 1.20000000e+01, -6.00000000e+00,  1.10000000e+00]])"
            ]
          },
          "metadata": {
            "tags": []
          },
          "execution_count": 68
        }
      ]
    },
    {
      "cell_type": "markdown",
      "metadata": {
        "id": "m_CVKjt49BA4"
      },
      "source": [
        "As part of eigenvector magic it's also true that \n",
        "\n",
        "$$A = Q \\Lambda Q^{T}$$\n",
        "\n",
        "Modify the above code to check this holds too!\n",
        "\n",
        "Finally, you might notice that there are some small rounding errors occuring due to machine precision. The base python function for rounding is round(). But this doesn't work for arrays. Google to find the correct function and round to two decimal places."
      ]
    },
    {
      "cell_type": "code",
      "metadata": {
        "id": "mAnDfHBKkL3w",
        "colab": {
          "base_uri": "https://localhost:8080/"
        },
        "outputId": "72b08c08-e34a-485d-ade2-a9f9cdd8740f"
      },
      "source": [
        "Q @ lamb @ Q.T"
      ],
      "execution_count": null,
      "outputs": [
        {
          "output_type": "execute_result",
          "data": {
            "text/plain": [
              "array([[ 7.00000000e+00,  0.00000000e+00,  1.20000000e+01],\n",
              "       [-2.22044605e-16,  3.00000000e+00, -6.00000000e+00],\n",
              "       [ 1.20000000e+01, -6.00000000e+00,  1.10000000e+00]])"
            ]
          },
          "metadata": {
            "tags": []
          },
          "execution_count": 69
        }
      ]
    },
    {
      "cell_type": "code",
      "metadata": {
        "colab": {
          "base_uri": "https://localhost:8080/"
        },
        "id": "D1AwVTdodoQd",
        "outputId": "7bbedb65-0c0d-49ad-e8d2-08473800037d"
      },
      "source": [
        "np.around(Q @ lamb @ Q.T)"
      ],
      "execution_count": null,
      "outputs": [
        {
          "output_type": "execute_result",
          "data": {
            "text/plain": [
              "array([[ 7.,  0., 12.],\n",
              "       [-0.,  3., -6.],\n",
              "       [12., -6.,  1.]])"
            ]
          },
          "metadata": {
            "tags": []
          },
          "execution_count": 70
        }
      ]
    }
  ]
}