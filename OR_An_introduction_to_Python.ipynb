{
  "nbformat": 4,
  "nbformat_minor": 0,
  "metadata": {
    "colab": {
      "name": "OR - An introduction to Python",
      "provenance": [],
      "toc_visible": true,
      "authorship_tag": "ABX9TyMOCeXLJTpeLZTKBNBLUSnz",
      "include_colab_link": true
    },
    "kernelspec": {
      "name": "python3",
      "display_name": "Python 3"
    }
  },
  "cells": [
    {
      "cell_type": "markdown",
      "metadata": {
        "id": "view-in-github",
        "colab_type": "text"
      },
      "source": [
        "<a href=\"https://colab.research.google.com/github/lawbaker/PythonOR2021/blob/main/OR_An_introduction_to_Python.ipynb\" target=\"_parent\"><img src=\"https://colab.research.google.com/assets/colab-badge.svg\" alt=\"Open In Colab\"/></a>"
      ]
    },
    {
      "cell_type": "markdown",
      "metadata": {
        "id": "ld3Wql4nYBqM"
      },
      "source": [
        "# Operations Research 2021 TA Session 1: Introduction to Python\n",
        "\n",
        "## Lawrence Baker"
      ]
    },
    {
      "cell_type": "markdown",
      "metadata": {
        "id": "wXNmInEA321r"
      },
      "source": [
        "Type some code here, like \"2 + 17\", then press the little play button that appears on the left when you mouse over the textbox, to check you can get this notebook to run:"
      ]
    },
    {
      "cell_type": "code",
      "metadata": {
        "id": "F7cqbSFS4AUM",
        "colab": {
          "base_uri": "https://localhost:8080/"
        },
        "outputId": "13cc255c-9746-4cc1-f37c-496b7948a3b6"
      },
      "source": [
        "3 + 5"
      ],
      "execution_count": null,
      "outputs": [
        {
          "output_type": "execute_result",
          "data": {
            "text/plain": [
              "8"
            ]
          },
          "metadata": {
            "tags": []
          },
          "execution_count": 93
        }
      ]
    },
    {
      "cell_type": "markdown",
      "metadata": {
        "id": "NvQjBsSsYNLR"
      },
      "source": [
        "# Outline of TA sessions\n",
        "\n",
        "We can't learn python in five TA sessions, but we can learn how to use python for a few specific tasks. Hopefully this gives you enough base skills to either pursue OJT in python or the confidence and interest to take some more detailed courses (e.g. through Datacamp). Post-quals is a great time to do this.\n",
        "\n",
        "These sessions are aimed at those just picking up python, but who have either some technical background or a drive to pick up a new skill. It's also cool if you already know python. (You don't have to come to the TA sessions you don't need. If you don't attend you lose the privilege of asking for help for that week).\n",
        "\n",
        "## Sessions\n",
        "1.   **An introduction to python (and colab)**\n",
        "2.   Linear algebra & unconstrained convex optimization problems\n",
        "3.   Constraints and integer programming\n",
        "4.   *TBD - Networks? Dataframes? What do you want?*\n",
        "5.   An introduction to machine learning\n",
        "\n",
        "\n",
        "\n",
        "\n",
        "\n"
      ]
    },
    {
      "cell_type": "markdown",
      "metadata": {
        "id": "IiarXEI91JDl"
      },
      "source": [
        "# My background in coding\n",
        "\n",
        "*   Not classically trained - first encountered coding (and python) in my Master's program.\n",
        "*   Used python extensively for my master's thesis, which was [later published](https://www.nature.com/articles/s41598-020-67864-z)\n",
        "*   Since starting at RAND have mainly used R, but there is a significant python community.\n",
        "\n",
        "Python (and R) opened a lot of doors for me and I think are fascinating in a way that Stata and AMPL are not. If you can think of something you want to code, you can do it in python."
      ]
    },
    {
      "cell_type": "markdown",
      "metadata": {
        "id": "Um5WONcP1JF0"
      },
      "source": [
        "# What is python?\n",
        "Python is:\n",
        "* **Object-oriented:** We define a set of objects, each has a state, and we interact with that state using methods and functions\n",
        "* **Interpreted:** We don't need to compile our code, it just runs (albeit slower than a compiled language)\n",
        "* **Pythonic:** Much of the time python code looks similar to plain language. If we want to loop through each item in a list and print it, then the syntax is: \n",
        "\n",
        "```\n",
        "for item in list:\n",
        "    print(item)\n",
        "```\n",
        "* **Where identation matters:** Python syntax is readable and part of the way it achieves this is through removing brackets. It does this by using indentation. In the above code, the for loop is defined by the identation.\n",
        "* **Flexible:** There is almost nothing we can't do with python\n",
        "* **On the cutting edge**: While newer languages may be faster, python is used for a great deal of contemporary coding, whether that's machine learning or data science\n",
        "* **Well supported:** Python has at least 200,000 packages and an incredibly active stack overflow community."
      ]
    },
    {
      "cell_type": "markdown",
      "metadata": {
        "id": "KRv94l-V1JPx"
      },
      "source": [
        "# How to solve problems in python\n",
        "\n",
        "1.  Work out what you should google (use docs if you need a specific function)\n",
        "2.  Google it\n",
        "3.  Read through all the top answers and the corresponding disucssions\n",
        "4.  If you don't understand why it works, then use docs\n",
        "5.  Profit\n",
        "\n",
        "If this doesn't work, then ask others. If no one else knows, ask me. If you find yourself asking me more than ~1% of the time, then you need to get better at googling."
      ]
    },
    {
      "cell_type": "markdown",
      "metadata": {
        "id": "AbrVvfIX1JXj"
      },
      "source": [
        "# What is Google Colab and why are we using it?\n",
        "\n",
        "Google Colab allows us to run python in a browser. As Google Docs is to word, Google Colab is to Jupyter Notebooks (a popular IDE). There are several advantages to Colab:\n",
        "\n",
        "*  It's a notebook, which allows us to write code and markdown text together, format our code into chuunks and easily look at variable outputs without running our entire program. You can find [a guide to markdown here](https://colab.research.google.com/notebooks/markdown_guide.ipynb).\n",
        "*  We don't have to install Python! This can be an arduous process and I don't want to deal with it. You should install python (specifically, Anaconda) in your own time, [see instructions](https://problemsolvingwithpython.com/01-Orientation/01.03-Installing-Anaconda-on-Windows/). For these sessions we will all use Colab.\n",
        "*  We run our code in the cloud, without relying on our CPUs\n",
        "*  All our packages are up to date\n",
        "*  Sharing and interacting is easy!"
      ]
    },
    {
      "cell_type": "markdown",
      "metadata": {
        "id": "K2O9GHFrYSzg"
      },
      "source": [
        "# A brief introduction to the bits of python we need\n",
        "\n",
        "This will not be exhaustive, but I will cover things which either\n",
        "* We need for the homework\n",
        "* I feel are so important I want to mention them anyway"
      ]
    },
    {
      "cell_type": "markdown",
      "metadata": {
        "id": "Y8F-bHcm1F9w"
      },
      "source": [
        "## Assignment and Typing"
      ]
    },
    {
      "cell_type": "code",
      "metadata": {
        "colab": {
          "base_uri": "https://localhost:8080/"
        },
        "id": "QuL1R3xdy-i_",
        "outputId": "1fa3ab7d-b139-41f4-b476-27f1f205f76e"
      },
      "source": [
        "# Assignment is just the equals sign\n",
        "a = 3\n",
        "\n",
        "# Assignment generates no output, if you want to check a variable value then call the variable alone\n",
        "a"
      ],
      "execution_count": null,
      "outputs": [
        {
          "output_type": "execute_result",
          "data": {
            "text/plain": [
              "3"
            ]
          },
          "metadata": {
            "tags": []
          },
          "execution_count": 94
        }
      ]
    },
    {
      "cell_type": "code",
      "metadata": {
        "id": "Quu0lhVHObta"
      },
      "source": [
        "a = 3"
      ],
      "execution_count": null,
      "outputs": []
    },
    {
      "cell_type": "code",
      "metadata": {
        "colab": {
          "base_uri": "https://localhost:8080/"
        },
        "id": "OgqdGiJm3cn6",
        "outputId": "506eb209-0a11-420f-82f8-c4a93bcbb51a"
      },
      "source": [
        "# Note that only the most recent output is displayed if you rely on the automatic output\n",
        "a \n",
        "a + 3\n",
        "a * 17"
      ],
      "execution_count": null,
      "outputs": [
        {
          "output_type": "execute_result",
          "data": {
            "text/plain": [
              "51"
            ]
          },
          "metadata": {
            "tags": []
          },
          "execution_count": 14
        }
      ]
    },
    {
      "cell_type": "code",
      "metadata": {
        "colab": {
          "base_uri": "https://localhost:8080/",
          "height": 36
        },
        "id": "sAuTh5VGzjUB",
        "outputId": "367fbf5a-2d8e-40f2-b90c-78e893efac48"
      },
      "source": [
        "# Python is dynamically typed, which means you can change the type of a variable as you go\n",
        "b = 67\n",
        "b = \"sixty seven\"\n",
        "\n",
        "b"
      ],
      "execution_count": null,
      "outputs": [
        {
          "output_type": "execute_result",
          "data": {
            "application/vnd.google.colaboratory.intrinsic+json": {
              "type": "string"
            },
            "text/plain": [
              "'sixty seven'"
            ]
          },
          "metadata": {
            "tags": []
          },
          "execution_count": 15
        }
      ]
    },
    {
      "cell_type": "code",
      "metadata": {
        "colab": {
          "base_uri": "https://localhost:8080/",
          "height": 210
        },
        "id": "aT7I2oUXz747",
        "outputId": "ed743d7c-5ffc-43bf-945e-fc384ef087b9"
      },
      "source": [
        "# Python is also strongly typed, a variable will stay the same type unless you explictly change it\n",
        "# Here c is a string\n",
        "c = \"4\"\n",
        "\n",
        "# Python falls over when we try to add a string an integer\n",
        "c + 2"
      ],
      "execution_count": null,
      "outputs": [
        {
          "output_type": "error",
          "ename": "TypeError",
          "evalue": "ignored",
          "traceback": [
            "\u001b[0;31m---------------------------------------------------------------------------\u001b[0m",
            "\u001b[0;31mTypeError\u001b[0m                                 Traceback (most recent call last)",
            "\u001b[0;32m<ipython-input-16-d7651241eccf>\u001b[0m in \u001b[0;36m<module>\u001b[0;34m()\u001b[0m\n\u001b[1;32m      4\u001b[0m \u001b[0;34m\u001b[0m\u001b[0m\n\u001b[1;32m      5\u001b[0m \u001b[0;31m# Python falls over when we try to add a string an integer\u001b[0m\u001b[0;34m\u001b[0m\u001b[0;34m\u001b[0m\u001b[0;34m\u001b[0m\u001b[0m\n\u001b[0;32m----> 6\u001b[0;31m \u001b[0mc\u001b[0m \u001b[0;34m+\u001b[0m \u001b[0;36m2\u001b[0m\u001b[0;34m\u001b[0m\u001b[0;34m\u001b[0m\u001b[0m\n\u001b[0m",
            "\u001b[0;31mTypeError\u001b[0m: can only concatenate str (not \"int\") to str"
          ]
        }
      ]
    },
    {
      "cell_type": "code",
      "metadata": {
        "colab": {
          "base_uri": "https://localhost:8080/"
        },
        "id": "7P6fEuza0RhP",
        "outputId": "af2f5d14-c552-4198-ac2e-9555a50a06a9"
      },
      "source": [
        "# Here c is an integer\n",
        "c = 4\n",
        "\n",
        "c + 2"
      ],
      "execution_count": null,
      "outputs": [
        {
          "output_type": "execute_result",
          "data": {
            "text/plain": [
              "6"
            ]
          },
          "metadata": {
            "tags": []
          },
          "execution_count": 18
        }
      ]
    },
    {
      "cell_type": "markdown",
      "metadata": {
        "id": "I_8BJEOh1A_j"
      },
      "source": [
        "## Basic Operations"
      ]
    },
    {
      "cell_type": "markdown",
      "metadata": {
        "id": "yFL9s5Jf1e1i"
      },
      "source": [
        "### Arithmatic"
      ]
    },
    {
      "cell_type": "code",
      "metadata": {
        "colab": {
          "base_uri": "https://localhost:8080/"
        },
        "id": "CP29SiMe0oOJ",
        "outputId": "bcb4a9af-8ba3-440c-9d55-975fe8a97882"
      },
      "source": [
        "# Most basic operations work how you expect\n",
        "2 + 5"
      ],
      "execution_count": null,
      "outputs": [
        {
          "output_type": "execute_result",
          "data": {
            "text/plain": [
              "7"
            ]
          },
          "metadata": {
            "tags": []
          },
          "execution_count": 19
        }
      ]
    },
    {
      "cell_type": "code",
      "metadata": {
        "colab": {
          "base_uri": "https://localhost:8080/"
        },
        "id": "1TcBljxR1o_r",
        "outputId": "d9f2702d-78ea-440f-cda2-c8063787e849"
      },
      "source": [
        "2-13"
      ],
      "execution_count": null,
      "outputs": [
        {
          "output_type": "execute_result",
          "data": {
            "text/plain": [
              "-11"
            ]
          },
          "metadata": {
            "tags": []
          },
          "execution_count": 20
        }
      ]
    },
    {
      "cell_type": "code",
      "metadata": {
        "id": "e_jH8Opl1ssP",
        "colab": {
          "base_uri": "https://localhost:8080/"
        },
        "outputId": "77dbb5c2-9c86-4a30-bbdf-f1433af55a03"
      },
      "source": [
        "48*2"
      ],
      "execution_count": null,
      "outputs": [
        {
          "output_type": "execute_result",
          "data": {
            "text/plain": [
              "96"
            ]
          },
          "metadata": {
            "tags": []
          },
          "execution_count": 21
        }
      ]
    },
    {
      "cell_type": "code",
      "metadata": {
        "colab": {
          "base_uri": "https://localhost:8080/"
        },
        "id": "KW9F9Mey1jqC",
        "outputId": "6c7d775d-fadf-482e-badd-bee674de6054"
      },
      "source": [
        "54/3"
      ],
      "execution_count": null,
      "outputs": [
        {
          "output_type": "execute_result",
          "data": {
            "text/plain": [
              "18.0"
            ]
          },
          "metadata": {
            "tags": []
          },
          "execution_count": 22
        }
      ]
    },
    {
      "cell_type": "code",
      "metadata": {
        "colab": {
          "base_uri": "https://localhost:8080/"
        },
        "id": "GH6EmUpC1n7D",
        "outputId": "7f748c1f-d85c-4cf6-e65f-6e38b4b05ce6"
      },
      "source": [
        "# This is modulus, it's means finding the remainder after division\n",
        "23 % 7"
      ],
      "execution_count": null,
      "outputs": [
        {
          "output_type": "execute_result",
          "data": {
            "text/plain": [
              "2"
            ]
          },
          "metadata": {
            "tags": []
          },
          "execution_count": 23
        }
      ]
    },
    {
      "cell_type": "code",
      "metadata": {
        "colab": {
          "base_uri": "https://localhost:8080/"
        },
        "id": "5Bhnpj5K1-FY",
        "outputId": "d5d88bc1-8c18-4b4c-968e-bcd8f1c6d50c"
      },
      "source": [
        "# Floor division is the companion to modulus, it gives the result of the divsion without the remainder\n",
        "23 // 7"
      ],
      "execution_count": null,
      "outputs": [
        {
          "output_type": "execute_result",
          "data": {
            "text/plain": [
              "3"
            ]
          },
          "metadata": {
            "tags": []
          },
          "execution_count": 24
        }
      ]
    },
    {
      "cell_type": "code",
      "metadata": {
        "colab": {
          "base_uri": "https://localhost:8080/"
        },
        "id": "bOjoOVed2HHP",
        "outputId": "cc9db783-4826-4aaf-a576-9451a71e4380"
      },
      "source": [
        "((23 // 7) * 7) + 23 % 7"
      ],
      "execution_count": null,
      "outputs": [
        {
          "output_type": "execute_result",
          "data": {
            "text/plain": [
              "23"
            ]
          },
          "metadata": {
            "tags": []
          },
          "execution_count": 25
        }
      ]
    },
    {
      "cell_type": "markdown",
      "metadata": {
        "id": "PZ4a9Z0Nyqm_"
      },
      "source": [
        "Raising something to the power does not have the expected notation, we use '**'. For some reason '^' is a bitwise XOR"
      ]
    },
    {
      "cell_type": "code",
      "metadata": {
        "colab": {
          "base_uri": "https://localhost:8080/"
        },
        "id": "-x6GHKsNyukv",
        "outputId": "9c58baea-8967-4ce3-a8b0-6a6910d55bb4"
      },
      "source": [
        "3**2"
      ],
      "execution_count": null,
      "outputs": [
        {
          "output_type": "execute_result",
          "data": {
            "text/plain": [
              "9"
            ]
          },
          "metadata": {
            "tags": []
          },
          "execution_count": 26
        }
      ]
    },
    {
      "cell_type": "markdown",
      "metadata": {
        "id": "XAYXX_tS2VOs"
      },
      "source": [
        "### Assignment"
      ]
    },
    {
      "cell_type": "code",
      "metadata": {
        "colab": {
          "base_uri": "https://localhost:8080/"
        },
        "id": "KjQecfx02UcA",
        "outputId": "8b0317df-802e-41aa-e15d-11d2d2e0e2dc"
      },
      "source": [
        "# We already looked at the most basic assignment\n",
        "d = 5\n",
        "\n",
        "# You can combine assignment with arthmatic\n",
        "# This means d = d + 2\n",
        "d += 2\n",
        "\n",
        "d"
      ],
      "execution_count": null,
      "outputs": [
        {
          "output_type": "execute_result",
          "data": {
            "text/plain": [
              "7"
            ]
          },
          "metadata": {
            "tags": []
          },
          "execution_count": 27
        }
      ]
    },
    {
      "cell_type": "markdown",
      "metadata": {
        "id": "RLJnMRoq2s8e"
      },
      "source": [
        "### Comparison"
      ]
    },
    {
      "cell_type": "code",
      "metadata": {
        "colab": {
          "base_uri": "https://localhost:8080/"
        },
        "id": "hxMHbgVf2vTX",
        "outputId": "fcfc0dc3-8115-4852-ba34-dca0667af6d8"
      },
      "source": [
        "#Equality\n",
        "2 == 3"
      ],
      "execution_count": null,
      "outputs": [
        {
          "output_type": "execute_result",
          "data": {
            "text/plain": [
              "False"
            ]
          },
          "metadata": {
            "tags": []
          },
          "execution_count": 97
        }
      ]
    },
    {
      "cell_type": "code",
      "metadata": {
        "colab": {
          "base_uri": "https://localhost:8080/"
        },
        "id": "McWTYP4m3MJW",
        "outputId": "ffd2ac2c-1fca-49ad-ff15-bd8679bec8bf"
      },
      "source": [
        "'cats' == 'cats'"
      ],
      "execution_count": null,
      "outputs": [
        {
          "output_type": "execute_result",
          "data": {
            "text/plain": [
              "True"
            ]
          },
          "metadata": {
            "tags": []
          },
          "execution_count": 29
        }
      ]
    },
    {
      "cell_type": "code",
      "metadata": {
        "colab": {
          "base_uri": "https://localhost:8080/"
        },
        "id": "t8-K3qU63Ss_",
        "outputId": "3fec447e-dfc5-4bd5-9ba7-1af3791f09ff"
      },
      "source": [
        "'cats' == 'dogs'"
      ],
      "execution_count": null,
      "outputs": [
        {
          "output_type": "execute_result",
          "data": {
            "text/plain": [
              "False"
            ]
          },
          "metadata": {
            "tags": []
          },
          "execution_count": 30
        }
      ]
    },
    {
      "cell_type": "code",
      "metadata": {
        "colab": {
          "base_uri": "https://localhost:8080/"
        },
        "id": "ATSSTcMl3Y-X",
        "outputId": "3b159a63-b93b-4e6f-cf5b-52cefebaf882"
      },
      "source": [
        "#Not equal\n",
        "'cats' != 'dogs'"
      ],
      "execution_count": null,
      "outputs": [
        {
          "output_type": "execute_result",
          "data": {
            "text/plain": [
              "True"
            ]
          },
          "metadata": {
            "tags": []
          },
          "execution_count": 31
        }
      ]
    },
    {
      "cell_type": "code",
      "metadata": {
        "colab": {
          "base_uri": "https://localhost:8080/"
        },
        "id": "DxpGp2JQ3yrQ",
        "outputId": "e3351b7d-6750-40da-803b-2fb5b1be58d9"
      },
      "source": [
        "# Greater than\n",
        "17 > 5"
      ],
      "execution_count": null,
      "outputs": [
        {
          "output_type": "execute_result",
          "data": {
            "text/plain": [
              "True"
            ]
          },
          "metadata": {
            "tags": []
          },
          "execution_count": 32
        }
      ]
    },
    {
      "cell_type": "code",
      "metadata": {
        "colab": {
          "base_uri": "https://localhost:8080/"
        },
        "id": "6thyx_7m36aQ",
        "outputId": "416c6470-65d5-43d9-a99b-7a0d086d00c0"
      },
      "source": [
        "# Less than or equal to (written in the order it's said)\n",
        "17 <= 17"
      ],
      "execution_count": null,
      "outputs": [
        {
          "output_type": "execute_result",
          "data": {
            "text/plain": [
              "True"
            ]
          },
          "metadata": {
            "tags": []
          },
          "execution_count": 33
        }
      ]
    },
    {
      "cell_type": "markdown",
      "metadata": {
        "id": "c9QC8TMf4XMb"
      },
      "source": [
        "### Logical"
      ]
    },
    {
      "cell_type": "code",
      "metadata": {
        "colab": {
          "base_uri": "https://localhost:8080/"
        },
        "id": "-jOYutqF4WM5",
        "outputId": "2c1736c1-a683-4fc3-da43-ab3edacb6db7"
      },
      "source": [
        "# And\n",
        "True & False"
      ],
      "execution_count": null,
      "outputs": [
        {
          "output_type": "execute_result",
          "data": {
            "text/plain": [
              "False"
            ]
          },
          "metadata": {
            "tags": []
          },
          "execution_count": 34
        }
      ]
    },
    {
      "cell_type": "code",
      "metadata": {
        "colab": {
          "base_uri": "https://localhost:8080/"
        },
        "id": "xg2eLdml4KMD",
        "outputId": "4dd59a06-97ed-4a05-fbc3-c8ac08f1ec5f"
      },
      "source": [
        "# or\n",
        "True | False"
      ],
      "execution_count": null,
      "outputs": [
        {
          "output_type": "execute_result",
          "data": {
            "text/plain": [
              "True"
            ]
          },
          "metadata": {
            "tags": []
          },
          "execution_count": 35
        }
      ]
    },
    {
      "cell_type": "code",
      "metadata": {
        "colab": {
          "base_uri": "https://localhost:8080/"
        },
        "id": "dW3ObxnU4mBS",
        "outputId": "e61af5d3-9a83-43f0-fe67-bc0a60d672d2"
      },
      "source": [
        "# xor\n",
        "True ^ False"
      ],
      "execution_count": null,
      "outputs": [
        {
          "output_type": "execute_result",
          "data": {
            "text/plain": [
              "True"
            ]
          },
          "metadata": {
            "tags": []
          },
          "execution_count": 36
        }
      ]
    },
    {
      "cell_type": "code",
      "metadata": {
        "colab": {
          "base_uri": "https://localhost:8080/"
        },
        "id": "EarA1hxd4tLC",
        "outputId": "30e281d4-5e6d-40a7-a64c-4e1bf59eda20"
      },
      "source": [
        "True ^ True"
      ],
      "execution_count": null,
      "outputs": [
        {
          "output_type": "execute_result",
          "data": {
            "text/plain": [
              "False"
            ]
          },
          "metadata": {
            "tags": []
          },
          "execution_count": 37
        }
      ]
    },
    {
      "cell_type": "code",
      "metadata": {
        "colab": {
          "base_uri": "https://localhost:8080/"
        },
        "id": "gTA46C36P_Yi",
        "outputId": "b0e240d9-fca2-4874-9a95-af07ffaa1b01"
      },
      "source": [
        "('cats' == 'dogs') | ('cats' == 'cats')"
      ],
      "execution_count": null,
      "outputs": [
        {
          "output_type": "execute_result",
          "data": {
            "text/plain": [
              "True"
            ]
          },
          "metadata": {
            "tags": []
          },
          "execution_count": 100
        }
      ]
    },
    {
      "cell_type": "markdown",
      "metadata": {
        "id": "CcgTCoxz6Nwh"
      },
      "source": [
        "### Printing"
      ]
    },
    {
      "cell_type": "code",
      "metadata": {
        "colab": {
          "base_uri": "https://localhost:8080/",
          "height": 247
        },
        "id": "mE7s2KzL6QZZ",
        "outputId": "7b79928f-4b4d-4eb6-d313-3ea6a2cbfe20"
      },
      "source": [
        "e = 62\n",
        "f = 'elephants'\n",
        "\n",
        "# This command prints to the console\n",
        "print('When I grow up, I want   ', e, f)\n",
        "\n",
        "# Even if we output something below the print statement, we still see the print statement output\n",
        "f"
      ],
      "execution_count": null,
      "outputs": [
        {
          "output_type": "error",
          "ename": "TypeError",
          "evalue": "ignored",
          "traceback": [
            "\u001b[0;31m---------------------------------------------------------------------------\u001b[0m",
            "\u001b[0;31mTypeError\u001b[0m                                 Traceback (most recent call last)",
            "\u001b[0;32m<ipython-input-104-33c9d4dc8535>\u001b[0m in \u001b[0;36m<module>\u001b[0;34m()\u001b[0m\n\u001b[1;32m      3\u001b[0m \u001b[0;34m\u001b[0m\u001b[0m\n\u001b[1;32m      4\u001b[0m \u001b[0;31m# This command prints to the console\u001b[0m\u001b[0;34m\u001b[0m\u001b[0;34m\u001b[0m\u001b[0;34m\u001b[0m\u001b[0m\n\u001b[0;32m----> 5\u001b[0;31m \u001b[0mprint\u001b[0m\u001b[0;34m(\u001b[0m\u001b[0;34m'When I grow up, I want'\u001b[0m \u001b[0;34m+\u001b[0m \u001b[0;34m'   '\u001b[0m\u001b[0;34m,\u001b[0m \u001b[0me\u001b[0m \u001b[0;34m+\u001b[0m \u001b[0mf\u001b[0m\u001b[0;34m)\u001b[0m\u001b[0;34m\u001b[0m\u001b[0;34m\u001b[0m\u001b[0m\n\u001b[0m\u001b[1;32m      6\u001b[0m \u001b[0;34m\u001b[0m\u001b[0m\n\u001b[1;32m      7\u001b[0m \u001b[0;31m# Even if we output something below the print statement, we still see the print statement output\u001b[0m\u001b[0;34m\u001b[0m\u001b[0;34m\u001b[0m\u001b[0;34m\u001b[0m\u001b[0m\n",
            "\u001b[0;31mTypeError\u001b[0m: unsupported operand type(s) for +: 'int' and 'str'"
          ]
        }
      ]
    },
    {
      "cell_type": "markdown",
      "metadata": {
        "id": "C__u3Nvb-yHQ"
      },
      "source": [
        "### Basic Operations: Exercise\n",
        "\n",
        "1. Find the remainder of:\n",
        "\n",
        "\n",
        "\n",
        "> $$\\frac{154*(23 - 8)}{\\frac{16}{3} + 3}$$\n",
        ">Assign the numerator and denominators to separate variables first\n",
        "\n",
        "\n",
        "\n",
        "2. Assign two names and an verb to variables (three in total)\n",
        "\n",
        ">Print the sentence: {name1} likes to {activity} {name2}"
      ]
    },
    {
      "cell_type": "code",
      "metadata": {
        "colab": {
          "base_uri": "https://localhost:8080/"
        },
        "id": "OX905KCCCtnp",
        "outputId": "c4e30eb4-5b75-45ce-d3c0-65bec9b89e32"
      },
      "source": [
        "numerator = (154 * (23-8))\n",
        "denominator = ((16/3)+ 3)\n",
        "\n",
        "numerator % denominator"
      ],
      "execution_count": null,
      "outputs": [
        {
          "output_type": "execute_result",
          "data": {
            "text/plain": [
              "1.6666666666669947"
            ]
          },
          "metadata": {
            "tags": []
          },
          "execution_count": 112
        }
      ]
    },
    {
      "cell_type": "code",
      "metadata": {
        "colab": {
          "base_uri": "https://localhost:8080/"
        },
        "id": "YrxymXkYRVVx",
        "outputId": "ba5c7dd5-19ac-4751-e19f-509c1aaa13b8"
      },
      "source": [
        "name1 = 'brien'\n",
        "name2 = 'bart'\n",
        "activity = 'high-five'\n",
        "\n",
        "print(name1, 'likes to', activity, name2)"
      ],
      "execution_count": null,
      "outputs": [
        {
          "output_type": "stream",
          "text": [
            "brien likes to high-five bart\n"
          ],
          "name": "stdout"
        }
      ]
    },
    {
      "cell_type": "markdown",
      "metadata": {
        "id": "1WPyWWVO5x9Z"
      },
      "source": [
        "## Data Structures and methods\n",
        "\n",
        "How can we hold data? I will add a couple more data structures after we introduce packages, for a more complete list of base python data structures [check out the documentation](https://docs.python.org/3/tutorial/datastructures.html)"
      ]
    },
    {
      "cell_type": "markdown",
      "metadata": {
        "id": "p4ngnHUL7Nb1"
      },
      "source": [
        "### Lists"
      ]
    },
    {
      "cell_type": "code",
      "metadata": {
        "colab": {
          "base_uri": "https://localhost:8080/"
        },
        "id": "v2uuWeQz50Eh",
        "outputId": "72f28889-145d-4e1f-ccd0-89f12215c3c4"
      },
      "source": [
        "#Define a list\n",
        "favourite_numbers = [13456, 2, 0, 1, 24, name1, 'cat']\n",
        "\n",
        "favourite_numbers"
      ],
      "execution_count": null,
      "outputs": [
        {
          "output_type": "execute_result",
          "data": {
            "text/plain": [
              "[13456, 2, 0, 1, 24, 'brien', 'cat']"
            ]
          },
          "metadata": {
            "tags": []
          },
          "execution_count": 113
        }
      ]
    },
    {
      "cell_type": "code",
      "metadata": {
        "colab": {
          "base_uri": "https://localhost:8080/"
        },
        "id": "ItAi5LtG9q__",
        "outputId": "86830a0c-4cfe-452e-c56e-0484cc17c799"
      },
      "source": [
        "# The first element is at position 0\n",
        "favourite_numbers[0]"
      ],
      "execution_count": null,
      "outputs": [
        {
          "output_type": "execute_result",
          "data": {
            "text/plain": [
              "13456"
            ]
          },
          "metadata": {
            "tags": []
          },
          "execution_count": 40
        }
      ]
    },
    {
      "cell_type": "code",
      "metadata": {
        "colab": {
          "base_uri": "https://localhost:8080/"
        },
        "id": "fxXNYnlH9ueu",
        "outputId": "dce4b63e-08ea-447e-adfe-41686f4fdbc9"
      },
      "source": [
        "# Get the fourth element\n",
        "i = 3\n",
        "favourite_numbers[i]"
      ],
      "execution_count": null,
      "outputs": [
        {
          "output_type": "execute_result",
          "data": {
            "text/plain": [
              "1"
            ]
          },
          "metadata": {
            "tags": []
          },
          "execution_count": 41
        }
      ]
    },
    {
      "cell_type": "code",
      "metadata": {
        "colab": {
          "base_uri": "https://localhost:8080/"
        },
        "id": "xuWfRwFnDFyj",
        "outputId": "cb756be9-6ccd-42dd-f1b4-1e643867d4ce"
      },
      "source": [
        "# Get the 1st, 2nd, and 3rd elements\n",
        "favourite_numbers[0:3]"
      ],
      "execution_count": null,
      "outputs": [
        {
          "output_type": "execute_result",
          "data": {
            "text/plain": [
              "[13456, 2, 0]"
            ]
          },
          "metadata": {
            "tags": []
          },
          "execution_count": 65
        }
      ]
    },
    {
      "cell_type": "code",
      "metadata": {
        "colab": {
          "base_uri": "https://localhost:8080/"
        },
        "id": "L3fzK16M-RG7",
        "outputId": "8c92930c-ecb8-421c-bffe-4b3e601f25b5"
      },
      "source": [
        "# Change the forth element - lists are mutable (we can change elements)\n",
        "favourite_numbers[3] = 16\n",
        "favourite_numbers"
      ],
      "execution_count": null,
      "outputs": [
        {
          "output_type": "execute_result",
          "data": {
            "text/plain": [
              "[13456, 2, 0, 16, 24, 'brien', 'cat']"
            ]
          },
          "metadata": {
            "tags": []
          },
          "execution_count": 114
        }
      ]
    },
    {
      "cell_type": "markdown",
      "metadata": {
        "id": "xITpjcgc7hgQ"
      },
      "source": [
        "### Methods\n",
        "Lists are a type of object (they are a class). Objects have functions associated with them, these are called methods (more on functions later).\n",
        "\n",
        "Basically the methods are one way to interact with the object to edit it or find out about it's properties.\n",
        "\n",
        "We call a method like this:\n",
        "\n",
        "```\n",
        "object.method()\n",
        "```\n",
        "\n",
        "These brackets could specify some additional variables for the method to use, but often methods don't require any inputs except for the object itself, which is why they are empty.\n",
        "\n",
        "Many methods will edit an object in place, which means we are changing it even without using assignment.\n",
        "\n"
      ]
    },
    {
      "cell_type": "code",
      "metadata": {
        "colab": {
          "base_uri": "https://localhost:8080/"
        },
        "id": "k_i0UMqG8LnD",
        "outputId": "045b84e1-5031-4704-8c3b-f6891b462210"
      },
      "source": [
        "fruits = ['orange', 'apple', 'pear', 'banana', 'kiwi', 'apple', 'banana']\n",
        "\n",
        "fruits"
      ],
      "execution_count": null,
      "outputs": [
        {
          "output_type": "execute_result",
          "data": {
            "text/plain": [
              "['orange', 'apple', 'pear', 'banana', 'kiwi', 'apple', 'banana']"
            ]
          },
          "metadata": {
            "tags": []
          },
          "execution_count": 138
        }
      ]
    },
    {
      "cell_type": "code",
      "metadata": {
        "colab": {
          "base_uri": "https://localhost:8080/"
        },
        "id": "mpzDyPqL8QR0",
        "outputId": "b83b3a4e-137e-459b-e2f1-53416619bcc3"
      },
      "source": [
        "#Lets flip it\n",
        "fruits.reverse()\n",
        "fruits"
      ],
      "execution_count": null,
      "outputs": [
        {
          "output_type": "execute_result",
          "data": {
            "text/plain": [
              "['orange', 'apple', 'pear', 'banana', 'kiwi', 'apple', 'banana']"
            ]
          },
          "metadata": {
            "tags": []
          },
          "execution_count": 121
        }
      ]
    },
    {
      "cell_type": "code",
      "metadata": {
        "colab": {
          "base_uri": "https://localhost:8080/"
        },
        "id": "NdoZpwGs8Ra8",
        "outputId": "2e4a0d30-8ae4-4bfb-bd12-418d58ea3629"
      },
      "source": [
        "#How many Kiwis do we have?\n",
        "fruits.count('kiwi')"
      ],
      "execution_count": null,
      "outputs": [
        {
          "output_type": "execute_result",
          "data": {
            "text/plain": [
              "1"
            ]
          },
          "metadata": {
            "tags": []
          },
          "execution_count": 122
        }
      ]
    },
    {
      "cell_type": "code",
      "metadata": {
        "colab": {
          "base_uri": "https://localhost:8080/"
        },
        "id": "fatTL5VM8mkT",
        "outputId": "2f08792b-78a1-416d-bea4-dc1ba7b79024"
      },
      "source": [
        "#Sort in alphabetical order\n",
        "fruits.sort()\n",
        "fruits"
      ],
      "execution_count": null,
      "outputs": [
        {
          "output_type": "execute_result",
          "data": {
            "text/plain": [
              "['apple', 'apple', 'banana', 'banana', 'kiwi', 'orange', 'pear']"
            ]
          },
          "metadata": {
            "tags": []
          },
          "execution_count": 139
        }
      ]
    },
    {
      "cell_type": "code",
      "metadata": {
        "colab": {
          "base_uri": "https://localhost:8080/"
        },
        "id": "S4yiQ1vy8qjK",
        "outputId": "7a5cbc82-910a-4a35-bfa8-a74dcfcc81d5"
      },
      "source": [
        "#Add avocado to the end of the list, we can do this over and over\n",
        "fruits.append('avocado')\n",
        "fruits"
      ],
      "execution_count": null,
      "outputs": [
        {
          "output_type": "execute_result",
          "data": {
            "text/plain": [
              "['apple',\n",
              " 'apple',\n",
              " 'banana',\n",
              " 'banana',\n",
              " 'kiwi',\n",
              " 'orange',\n",
              " 'pear',\n",
              " 'avocado',\n",
              " 'avocado',\n",
              " 'avocado',\n",
              " 'avocado']"
            ]
          },
          "metadata": {
            "tags": []
          },
          "execution_count": 143
        }
      ]
    },
    {
      "cell_type": "code",
      "metadata": {
        "colab": {
          "base_uri": "https://localhost:8080/",
          "height": 36
        },
        "id": "U5qKJQ-C81u7",
        "outputId": "89fdfe20-b824-4041-fe50-86b5d2c601e1"
      },
      "source": [
        "#Sort then remove (and return) the last list element\n",
        "fruits.sort()\n",
        "fruits.pop()"
      ],
      "execution_count": null,
      "outputs": [
        {
          "output_type": "execute_result",
          "data": {
            "application/vnd.google.colaboratory.intrinsic+json": {
              "type": "string"
            },
            "text/plain": [
              "'pear'"
            ]
          },
          "metadata": {
            "tags": []
          },
          "execution_count": 144
        }
      ]
    },
    {
      "cell_type": "code",
      "metadata": {
        "colab": {
          "base_uri": "https://localhost:8080/"
        },
        "id": "Mhjo034y9M3p",
        "outputId": "05b80e51-aeee-4c8f-a04b-89840b6889ef"
      },
      "source": [
        "fruits"
      ],
      "execution_count": null,
      "outputs": [
        {
          "output_type": "execute_result",
          "data": {
            "text/plain": [
              "['apple',\n",
              " 'apple',\n",
              " 'avocado',\n",
              " 'avocado',\n",
              " 'avocado',\n",
              " 'avocado',\n",
              " 'banana',\n",
              " 'banana',\n",
              " 'kiwi',\n",
              " 'orange']"
            ]
          },
          "metadata": {
            "tags": []
          },
          "execution_count": 145
        }
      ]
    },
    {
      "cell_type": "markdown",
      "metadata": {
        "id": "7v6KZYTQAHCF"
      },
      "source": [
        "### Dictionaries\n",
        "\n",
        "Dictionaries are a set of key-value pairs. For instance you could have a dictionary of how much you like different foods:\n",
        "\n",
        "* Fried chicken: 10\n",
        "* Chocolate: 9\n",
        "* Sprouts: 1\n",
        "\n",
        "Dictionaries are less flexible than lists, but we like them because the time complexity of a search is constant. This means no matter how big a dictionary gets it always takes the same amount of time to search. Very hand for large amounts of data. We have to rely on the keys to search the dict, not the order of the data (as in a list)."
      ]
    },
    {
      "cell_type": "code",
      "metadata": {
        "colab": {
          "base_uri": "https://localhost:8080/"
        },
        "id": "FXwTR8guAIT8",
        "outputId": "607fa3a2-6d9f-44f7-8461-de0392e55f26"
      },
      "source": [
        "food_dict = {'Fried Chicken' : 10, 'Chocolate' : 9}\n",
        "food_dict"
      ],
      "execution_count": null,
      "outputs": [
        {
          "output_type": "execute_result",
          "data": {
            "text/plain": [
              "{'Chocolate': 9, 'Fried Chicken': 10}"
            ]
          },
          "metadata": {
            "tags": []
          },
          "execution_count": 50
        }
      ]
    },
    {
      "cell_type": "code",
      "metadata": {
        "colab": {
          "base_uri": "https://localhost:8080/"
        },
        "id": "ANFK_e1mBMp3",
        "outputId": "0e4c442a-693e-4cef-e42f-68a43c627256"
      },
      "source": [
        "#Return a value\n",
        "food_dict['Chocolate']"
      ],
      "execution_count": null,
      "outputs": [
        {
          "output_type": "execute_result",
          "data": {
            "text/plain": [
              "9"
            ]
          },
          "metadata": {
            "tags": []
          },
          "execution_count": 148
        }
      ]
    },
    {
      "cell_type": "code",
      "metadata": {
        "colab": {
          "base_uri": "https://localhost:8080/"
        },
        "id": "NeFJeC5CBPQD",
        "outputId": "6d73bfcc-54f1-4333-a925-73f6e4cd2fa1"
      },
      "source": [
        "#Add a value\n",
        "food_dict['Sprouts'] = 1\n",
        "\n",
        "food_dict"
      ],
      "execution_count": null,
      "outputs": [
        {
          "output_type": "execute_result",
          "data": {
            "text/plain": [
              "{'Chocolate': 9, 'Fried Chicken': 10, 'Sprouts': 1}"
            ]
          },
          "metadata": {
            "tags": []
          },
          "execution_count": 52
        }
      ]
    },
    {
      "cell_type": "code",
      "metadata": {
        "colab": {
          "base_uri": "https://localhost:8080/"
        },
        "id": "xioQIt1cBY7F",
        "outputId": "a2f4e22a-44ce-4807-b5ae-c83224d298c4"
      },
      "source": [
        "#Remove a value\n",
        "del food_dict['Sprouts']\n",
        "\n",
        "food_dict"
      ],
      "execution_count": null,
      "outputs": [
        {
          "output_type": "execute_result",
          "data": {
            "text/plain": [
              "{'Chocolate': 9, 'Fried Chicken': 10}"
            ]
          },
          "metadata": {
            "tags": []
          },
          "execution_count": 53
        }
      ]
    },
    {
      "cell_type": "code",
      "metadata": {
        "colab": {
          "base_uri": "https://localhost:8080/"
        },
        "id": "I234Mw6jBdCq",
        "outputId": "d9f1962f-aa10-4279-9792-0411d2711b79"
      },
      "source": [
        "#Check for a value\n",
        "'Chocolate' in food_dict"
      ],
      "execution_count": null,
      "outputs": [
        {
          "output_type": "execute_result",
          "data": {
            "text/plain": [
              "True"
            ]
          },
          "metadata": {
            "tags": []
          },
          "execution_count": 54
        }
      ]
    },
    {
      "cell_type": "code",
      "metadata": {
        "colab": {
          "base_uri": "https://localhost:8080/"
        },
        "id": "I-qAt44uBgbq",
        "outputId": "7a6f73da-7294-49dc-efd1-3f5519b61d87"
      },
      "source": [
        "'Fork' in food_dict"
      ],
      "execution_count": null,
      "outputs": [
        {
          "output_type": "execute_result",
          "data": {
            "text/plain": [
              "False"
            ]
          },
          "metadata": {
            "tags": []
          },
          "execution_count": 55
        }
      ]
    },
    {
      "cell_type": "markdown",
      "metadata": {
        "id": "UVk1-fC0Bs1b"
      },
      "source": [
        "### Data Structures: Exercise\n",
        "\n",
        "1. Make a list of 3 elements\n",
        "2. Add an element to the end\n",
        "3. Reassign the second element to a new value\n",
        "4. Flip the list"
      ]
    },
    {
      "cell_type": "code",
      "metadata": {
        "colab": {
          "base_uri": "https://localhost:8080/"
        },
        "id": "TmqxRoo0Cu1G",
        "outputId": "7c042b90-25c1-4e55-f905-2f14d25b596e"
      },
      "source": [
        "my_list = [1, \"2\", 'three']\n",
        "my_list.append('4!')\n",
        "my_list[1] = 162\n",
        "my_list.reverse()\n",
        "my_list"
      ],
      "execution_count": null,
      "outputs": [
        {
          "output_type": "execute_result",
          "data": {
            "text/plain": [
              "['4!', 'three', 162, 1]"
            ]
          },
          "metadata": {
            "tags": []
          },
          "execution_count": 149
        }
      ]
    },
    {
      "cell_type": "markdown",
      "metadata": {
        "id": "t8itP2GKEH8E"
      },
      "source": [
        "## Control Structures"
      ]
    },
    {
      "cell_type": "markdown",
      "metadata": {
        "id": "UYIglTG9EKtI"
      },
      "source": [
        "### if\n",
        "\n",
        "if statements allow us to only execute code if a statement is met. Using else and elif clauses we can also check for other conditions if the first one is not met."
      ]
    },
    {
      "cell_type": "code",
      "metadata": {
        "id": "N-PDquHdEcLV"
      },
      "source": [
        "g = 9\n",
        "\n",
        "if g > 10:\n",
        "  print(\"Wow did g get bigger over the summer?!\")"
      ],
      "execution_count": null,
      "outputs": []
    },
    {
      "cell_type": "code",
      "metadata": {
        "colab": {
          "base_uri": "https://localhost:8080/"
        },
        "id": "jFL9k9PzB5_c",
        "outputId": "8d2c82ef-ea7a-4cfe-99d7-dbcc78a7bb06"
      },
      "source": [
        "g = 453\n",
        "\n",
        "if g > 10:\n",
        "  print(\"Wow did g get bigger over the summer?!\")\n",
        "else:\n",
        "  print(\"g is so tiny\")"
      ],
      "execution_count": null,
      "outputs": [
        {
          "output_type": "stream",
          "text": [
            "Wow did g get bigger over the summer?!\n"
          ],
          "name": "stdout"
        }
      ]
    },
    {
      "cell_type": "code",
      "metadata": {
        "colab": {
          "base_uri": "https://localhost:8080/"
        },
        "id": "idsGlVyuEgHN",
        "outputId": "587257b5-19b4-4ddf-b63c-5e3fd215010a"
      },
      "source": [
        "g = 12\n",
        "\n",
        "if g > 10:\n",
        "  print(\"Wow did g get bigger over the summer?!\")\n",
        "elif g > 5:\n",
        "  print(\"Is anyone as mediocre as g?\")\n",
        "else:\n",
        "  print(\"g is so tiny\")"
      ],
      "execution_count": null,
      "outputs": [
        {
          "output_type": "stream",
          "text": [
            "Wow did g get bigger over the summer?!\n"
          ],
          "name": "stdout"
        }
      ]
    },
    {
      "cell_type": "markdown",
      "metadata": {
        "id": "jvdOSNvXFKRS"
      },
      "source": [
        "### for\n",
        "\n",
        "We can use for loops to iterate over an iterable. For our purposes, the iterable is usually a list."
      ]
    },
    {
      "cell_type": "code",
      "metadata": {
        "colab": {
          "base_uri": "https://localhost:8080/"
        },
        "id": "EXd3qbFtZbZH",
        "outputId": "a024c30a-1291-40d6-fed0-e17fc52c2144"
      },
      "source": [
        "fruits"
      ],
      "execution_count": null,
      "outputs": [
        {
          "output_type": "execute_result",
          "data": {
            "text/plain": [
              "['apple',\n",
              " 'apple',\n",
              " 'avocado',\n",
              " 'avocado',\n",
              " 'avocado',\n",
              " 'avocado',\n",
              " 'banana',\n",
              " 'banana',\n",
              " 'kiwi',\n",
              " 'orange']"
            ]
          },
          "metadata": {
            "tags": []
          },
          "execution_count": 156
        }
      ]
    },
    {
      "cell_type": "code",
      "metadata": {
        "colab": {
          "base_uri": "https://localhost:8080/"
        },
        "id": "Vafu5peoFJqe",
        "outputId": "73fd685d-c401-4378-e201-a1dab04c9002"
      },
      "source": [
        "for fruit in fruits:\n",
        "  print('I like juicy', fruit)"
      ],
      "execution_count": null,
      "outputs": [
        {
          "output_type": "stream",
          "text": [
            "I like juicy apple\n",
            "I like juicy apple\n",
            "I like juicy avocado\n",
            "I like juicy avocado\n",
            "I like juicy avocado\n",
            "I like juicy avocado\n",
            "I like juicy banana\n",
            "I like juicy banana\n",
            "I like juicy kiwi\n",
            "I like juicy orange\n"
          ],
          "name": "stdout"
        }
      ]
    },
    {
      "cell_type": "markdown",
      "metadata": {
        "id": "XcJAT26PFhBX"
      },
      "source": [
        "Often we want to iterate through a set of numbers, say to do something 100 times. One way to do this is to use range, where\n",
        "\n",
        "\n",
        "\n",
        "```\n",
        "# range(m, n, s)\n",
        "```\n",
        "\n",
        "Produces the sequence:\n",
        "\n",
        "$$m, m + s, m + 2s, ..., n-s$$\n",
        "\n"
      ]
    },
    {
      "cell_type": "code",
      "metadata": {
        "id": "t_Ytd34tFf_x",
        "colab": {
          "base_uri": "https://localhost:8080/"
        },
        "outputId": "fb73b90b-6375-4009-d2ac-7e37dafe71b7"
      },
      "source": [
        "for num in range(10, 40, 3):\n",
        "  print(num)"
      ],
      "execution_count": null,
      "outputs": [
        {
          "output_type": "stream",
          "text": [
            "10\n",
            "13\n",
            "16\n",
            "19\n",
            "22\n",
            "25\n",
            "28\n",
            "31\n",
            "34\n",
            "37\n"
          ],
          "name": "stdout"
        }
      ]
    },
    {
      "cell_type": "code",
      "metadata": {
        "colab": {
          "base_uri": "https://localhost:8080/"
        },
        "id": "wp4neksWaA2o",
        "outputId": "16e7bcf0-fffb-427c-edaa-7b5f6a239784"
      },
      "source": [
        "squares = []\n",
        "\n",
        "for num in range(1, 11, 1):\n",
        "  square = num**2\n",
        "  squares.append(square)\n",
        "\n",
        "squares"
      ],
      "execution_count": null,
      "outputs": [
        {
          "output_type": "execute_result",
          "data": {
            "text/plain": [
              "[1, 4, 9, 16, 25, 36, 49, 64, 81, 100]"
            ]
          },
          "metadata": {
            "tags": []
          },
          "execution_count": 162
        }
      ]
    },
    {
      "cell_type": "markdown",
      "metadata": {
        "id": "EQKp3dWNGSLf"
      },
      "source": [
        "### Control Structures: Exercise\n",
        "\n",
        "1. for each of the numbers between 1 and 21 inclusive, print the number. If it's a multiple of 3 print fizz instead, if it's a multiple of 5 print buzz instead. If it's both a multiple of 3 and 5 print fizzbuzz instead."
      ]
    },
    {
      "cell_type": "code",
      "metadata": {
        "colab": {
          "base_uri": "https://localhost:8080/"
        },
        "id": "4vcdZnFmCvyt",
        "outputId": "3d8ecb80-b863-4e2a-e274-3acdd0221efc"
      },
      "source": [
        "for num in range(1, 22, 1):\n",
        "  string = \"\"\n",
        "  if num % 3 == 0:\n",
        "    string += 'fizz'\n",
        "  if num % 5 == 0:\n",
        "    string += 'buzz'\n",
        "  \n",
        "  if string == \"\":\n",
        "    print(num)\n",
        "  else:\n",
        "    print(string)"
      ],
      "execution_count": null,
      "outputs": [
        {
          "output_type": "stream",
          "text": [
            "1\n",
            "2\n",
            "fizz\n",
            "4\n",
            "buzz\n",
            "fizz\n",
            "7\n",
            "8\n",
            "fizz\n",
            "buzz\n",
            "11\n",
            "fizz\n",
            "13\n",
            "14\n",
            "fizzbuzz\n",
            "16\n",
            "17\n",
            "fizz\n",
            "19\n",
            "buzz\n",
            "fizz\n"
          ],
          "name": "stdout"
        }
      ]
    },
    {
      "cell_type": "markdown",
      "metadata": {
        "id": "ePxtB9Q8rLgL"
      },
      "source": [
        "## Functions\n",
        "\n",
        "Functions are blocks of code that you create to do a specific task, which you can then call again. We have already been calling functions, we can call functions on their own, or we can assign their ouput.\n",
        "\n",
        "\n",
        "\n",
        "```\n",
        "function_name(inputs)\n",
        "\n",
        "a = function_with_output(other inputs)\n",
        "```\n",
        "\n",
        "We've already been using functions, for instance\n",
        "\n",
        "```\n",
        "print(\"I like printing strings\")\n",
        "```\n",
        "\n",
        "or \n",
        "\n",
        "```\n",
        "range(start, end, step)\n",
        "```\n",
        "\n",
        "The powerful thing about functions is that we can write our own. The basic function syntax looks like this:\n",
        "\n",
        "```\n",
        "def my_func(func_input_1, func_input_2):\n",
        "  \"\"\"A description of the function\"\"\"\n",
        "  \n",
        "  *** Stuff you want in your function ***\n",
        "\n",
        "  return(func_result)\n",
        "```"
      ]
    },
    {
      "cell_type": "markdown",
      "metadata": {
        "id": "xj1X54zuwC-8"
      },
      "source": [
        "Lets try writing our own function that takes a number as input and returns the square."
      ]
    },
    {
      "cell_type": "code",
      "metadata": {
        "id": "qUWSrUn9wCUT"
      },
      "source": [
        "def my_square(num):\n",
        "  square = num * num\n",
        "  return square"
      ],
      "execution_count": null,
      "outputs": []
    },
    {
      "cell_type": "markdown",
      "metadata": {
        "id": "uxfNeK7FwbFK"
      },
      "source": [
        "When we run the code above, the function is stored in memory, and we can call it again. If you don't run the code above, then python won't know what you are referring to. Notice that python deals with types fairly well and that the error message is instructive"
      ]
    },
    {
      "cell_type": "code",
      "metadata": {
        "colab": {
          "base_uri": "https://localhost:8080/"
        },
        "id": "kpv65Ftuw6_5",
        "outputId": "bd8ec5d4-03d5-4545-8a8f-5049ecb1ae53"
      },
      "source": [
        "my_square(3)"
      ],
      "execution_count": null,
      "outputs": [
        {
          "output_type": "execute_result",
          "data": {
            "text/plain": [
              "9"
            ]
          },
          "metadata": {
            "tags": []
          },
          "execution_count": 167
        }
      ]
    },
    {
      "cell_type": "code",
      "metadata": {
        "colab": {
          "base_uri": "https://localhost:8080/"
        },
        "id": "2Sv9XZLXwAHl",
        "outputId": "359b1508-f953-4157-e139-345accc91c96"
      },
      "source": [
        "my_square(-1.54546345343)"
      ],
      "execution_count": null,
      "outputs": [
        {
          "output_type": "execute_result",
          "data": {
            "text/plain": [
              "2.3884572858877817"
            ]
          },
          "metadata": {
            "tags": []
          },
          "execution_count": 168
        }
      ]
    },
    {
      "cell_type": "code",
      "metadata": {
        "colab": {
          "base_uri": "https://localhost:8080/",
          "height": 266
        },
        "id": "WDd1-MC1xgck",
        "outputId": "bd3ae0a1-05a9-45c1-b0c9-6823a37e1108"
      },
      "source": [
        "my_square(\"triangle\")"
      ],
      "execution_count": null,
      "outputs": [
        {
          "output_type": "error",
          "ename": "TypeError",
          "evalue": "ignored",
          "traceback": [
            "\u001b[0;31m---------------------------------------------------------------------------\u001b[0m",
            "\u001b[0;31mTypeError\u001b[0m                                 Traceback (most recent call last)",
            "\u001b[0;32m<ipython-input-64-255abcc3f295>\u001b[0m in \u001b[0;36m<module>\u001b[0;34m()\u001b[0m\n\u001b[0;32m----> 1\u001b[0;31m \u001b[0mmy_square\u001b[0m\u001b[0;34m(\u001b[0m\u001b[0;34m\"triangle\"\u001b[0m\u001b[0;34m)\u001b[0m\u001b[0;34m\u001b[0m\u001b[0;34m\u001b[0m\u001b[0m\n\u001b[0m",
            "\u001b[0;32m<ipython-input-61-fb30a081beb9>\u001b[0m in \u001b[0;36mmy_square\u001b[0;34m(num)\u001b[0m\n\u001b[1;32m      1\u001b[0m \u001b[0;32mdef\u001b[0m \u001b[0mmy_square\u001b[0m\u001b[0;34m(\u001b[0m\u001b[0mnum\u001b[0m\u001b[0;34m)\u001b[0m\u001b[0;34m:\u001b[0m\u001b[0;34m\u001b[0m\u001b[0;34m\u001b[0m\u001b[0m\n\u001b[0;32m----> 2\u001b[0;31m   \u001b[0msquare\u001b[0m \u001b[0;34m=\u001b[0m \u001b[0mnum\u001b[0m \u001b[0;34m*\u001b[0m \u001b[0mnum\u001b[0m\u001b[0;34m\u001b[0m\u001b[0;34m\u001b[0m\u001b[0m\n\u001b[0m\u001b[1;32m      3\u001b[0m   \u001b[0;32mreturn\u001b[0m \u001b[0msquare\u001b[0m\u001b[0;34m\u001b[0m\u001b[0;34m\u001b[0m\u001b[0m\n",
            "\u001b[0;31mTypeError\u001b[0m: can't multiply sequence by non-int of type 'str'"
          ]
        }
      ]
    },
    {
      "cell_type": "markdown",
      "metadata": {
        "id": "_8ZEU2VsgVFg"
      },
      "source": [
        "Functions can also take multiple arguments, or optional arguments. Mandatory arguments must come before optional, to specify an optional argument, use assignment within the function definition. You can specify arguments either in order, or by using the defined names in the function call.\n",
        "\n",
        "The function below assumes an order of arguments (we could remedy this within the function). Specifying what arguments you are calling in the function is a way around this."
      ]
    },
    {
      "cell_type": "code",
      "metadata": {
        "id": "fEOwyXpQxjP-"
      },
      "source": [
        "def check_pythagorean(min, mid, max):\n",
        "  if max**2 == (mid**2 + min**2):\n",
        "    print(\"Pythagoras would be proud\")\n",
        "  else:\n",
        "    print(\"Why betray a man dead for 2500 years?\")"
      ],
      "execution_count": null,
      "outputs": []
    },
    {
      "cell_type": "code",
      "metadata": {
        "colab": {
          "base_uri": "https://localhost:8080/"
        },
        "id": "O1R4bQCUhJyw",
        "outputId": "20493190-a77a-4ee7-dc8d-77686533bd9a"
      },
      "source": [
        "check_pythagorean(3, 4, 5)"
      ],
      "execution_count": null,
      "outputs": [
        {
          "output_type": "stream",
          "text": [
            "Pythagoras would be proud\n"
          ],
          "name": "stdout"
        }
      ]
    },
    {
      "cell_type": "code",
      "metadata": {
        "colab": {
          "base_uri": "https://localhost:8080/"
        },
        "id": "VGY1DmJYhMWB",
        "outputId": "ad13435c-11f2-4c0d-acc6-bd932d5b4504"
      },
      "source": [
        "check_pythagorean(5, 4, 3)"
      ],
      "execution_count": null,
      "outputs": [
        {
          "output_type": "stream",
          "text": [
            "Why betray a man dead for 2500 years?\n"
          ],
          "name": "stdout"
        }
      ]
    },
    {
      "cell_type": "code",
      "metadata": {
        "colab": {
          "base_uri": "https://localhost:8080/"
        },
        "id": "VZXIpa6khVdZ",
        "outputId": "7ceb1eed-90d6-4df7-cbf1-f1f8075d4a3b"
      },
      "source": [
        "check_pythagorean(max = 5, mid = 4, min = 3)"
      ],
      "execution_count": null,
      "outputs": [
        {
          "output_type": "stream",
          "text": [
            "Pythagoras would be proud\n"
          ],
          "name": "stdout"
        }
      ]
    },
    {
      "cell_type": "markdown",
      "metadata": {
        "id": "wiHuXHYHiCJ4"
      },
      "source": [
        "Variables defined within functions aren't available outside (unless we explictly return them), so we are free to use generic names.\n",
        "\n",
        "Functions will often have some error handling within them to stop edge cases. When we want the function to stop we can use 'return' with no variable specified."
      ]
    },
    {
      "cell_type": "code",
      "metadata": {
        "id": "C03nn1CIhzF2"
      },
      "source": [
        "def find_primes(max, min = 0):\n",
        "  if max <= min:\n",
        "    print(\"Make sure that the maximum is larger than the minimum\")\n",
        "    return\n",
        "\n",
        "  if min < 2:\n",
        "    min = 2\n",
        "  \n",
        "  if max > 1000:\n",
        "    print(\"Do you think we have all day?\")\n",
        "    return\n",
        "  \n",
        "  #Here the real function starts\n",
        "  prime_list = []\n",
        "\n",
        "  #Factors always come in pairs, e.g. 2 and 50 multiply to 100\n",
        "  #The largest small factor is the square root of the maximum\n",
        "\n",
        "  for num in range(min, max):\n",
        "    is_prime = True\n",
        "    for i in range(2, int(num**0.5)+1, 1):\n",
        "      if num%i == 0:\n",
        "        is_prime = False\n",
        "    if is_prime:\n",
        "      prime_list.append(num)\n",
        "\n",
        "  return(prime_list)\n",
        "    "
      ],
      "execution_count": null,
      "outputs": []
    },
    {
      "cell_type": "code",
      "metadata": {
        "colab": {
          "base_uri": "https://localhost:8080/"
        },
        "id": "8hjhQcxrkMc7",
        "outputId": "f6d4175c-357f-4846-ac9d-e3c3ef929802"
      },
      "source": [
        "find_primes(10)"
      ],
      "execution_count": null,
      "outputs": [
        {
          "output_type": "execute_result",
          "data": {
            "text/plain": [
              "[2, 3, 5, 7]"
            ]
          },
          "metadata": {
            "tags": []
          },
          "execution_count": 172
        }
      ]
    },
    {
      "cell_type": "code",
      "metadata": {
        "colab": {
          "base_uri": "https://localhost:8080/"
        },
        "id": "Gs68T7mwkNcJ",
        "outputId": "33eb4463-fa20-447e-e40b-ee19e2a5dc7f"
      },
      "source": [
        "find_primes(min = 60, max = 100)"
      ],
      "execution_count": null,
      "outputs": [
        {
          "output_type": "execute_result",
          "data": {
            "text/plain": [
              "[61, 67, 71, 73, 79, 83, 89, 97]"
            ]
          },
          "metadata": {
            "tags": []
          },
          "execution_count": 173
        }
      ]
    },
    {
      "cell_type": "code",
      "metadata": {
        "colab": {
          "base_uri": "https://localhost:8080/"
        },
        "id": "bkmSN1HfmPJd",
        "outputId": "9e0274ec-891a-486f-8ec0-f4fbb7cc9195"
      },
      "source": [
        "find_primes(10000)"
      ],
      "execution_count": null,
      "outputs": [
        {
          "output_type": "stream",
          "text": [
            "Do you think we have all day?\n"
          ],
          "name": "stdout"
        }
      ]
    },
    {
      "cell_type": "markdown",
      "metadata": {
        "id": "vuaSVBNOmaBx"
      },
      "source": [
        "## Packages\n",
        "\n",
        "Packages provide us with ready access to functions others have written and that, for popular packages, are generally very well written and efficient.\n",
        "\n",
        "We will use a package when we get onto convex optimization so we don't have to code this ourselves. A few packages worth knowing:\n",
        "\n",
        "*   **numpy** (pronounced num-pie): mathematical functions and arrays\n",
        "*   **pandas** (which we won't use but you should know about): dataframes\n",
        "*   **sklearn**: basic machine learning (more on this in future sessions)\n",
        "*   **matplotlib**: foundation for all plotting\n",
        "*   **seaborn**: prettier default plots that play well with dataframes\n",
        "\n"
      ]
    },
    {
      "cell_type": "markdown",
      "metadata": {
        "id": "JEw9pqm1nYjr"
      },
      "source": [
        "### Importing\n",
        "\n",
        "We import packages as a call. Once we import a package then we can refer to it's functions. You only need to import packages once each session. Normally we will do this at the very top of the code."
      ]
    },
    {
      "cell_type": "code",
      "metadata": {
        "colab": {
          "base_uri": "https://localhost:8080/"
        },
        "id": "SNfO-EXxmbIE",
        "outputId": "a82b6bdf-122c-4e50-dea0-1b0849de8d69"
      },
      "source": [
        "import numpy\n",
        "\n",
        "numpy.sqrt(2)"
      ],
      "execution_count": null,
      "outputs": [
        {
          "output_type": "execute_result",
          "data": {
            "text/plain": [
              "1.4142135623730951"
            ]
          },
          "metadata": {
            "tags": []
          },
          "execution_count": 175
        }
      ]
    },
    {
      "cell_type": "markdown",
      "metadata": {
        "id": "SCwB2PYDnueb"
      },
      "source": [
        "Sometimes we will want to use a nickname for a package if we are going to refer to it a lot."
      ]
    },
    {
      "cell_type": "code",
      "metadata": {
        "id": "7buFsfqJnteZ"
      },
      "source": [
        "import numpy as np"
      ],
      "execution_count": null,
      "outputs": []
    },
    {
      "cell_type": "code",
      "metadata": {
        "id": "Gtc9x3irn4hr"
      },
      "source": [
        "np.sqrt(6)"
      ],
      "execution_count": null,
      "outputs": []
    },
    {
      "cell_type": "markdown",
      "metadata": {
        "id": "dYzNKjirn9xE"
      },
      "source": [
        "You can also import a specific function, which means you don't need to refer to it, though I think this is bad practice, because then it's unclear where the function is from."
      ]
    },
    {
      "cell_type": "code",
      "metadata": {
        "id": "H6cg0dkhn9Du"
      },
      "source": [
        "from numpy import sqrt\n",
        "\n",
        "sqrt(3)"
      ],
      "execution_count": null,
      "outputs": []
    },
    {
      "cell_type": "markdown",
      "metadata": {
        "id": "p2Zgx0lxoVaW"
      },
      "source": [
        "Often packages will be huge and have many levels, so it's good practice only import what you need."
      ]
    },
    {
      "cell_type": "code",
      "metadata": {
        "id": "8V9p0di2oaqW"
      },
      "source": [
        "import matplotlib.pyplot as plt"
      ],
      "execution_count": null,
      "outputs": []
    },
    {
      "cell_type": "markdown",
      "metadata": {
        "id": "Cfbpiz7QpXJI"
      },
      "source": [
        "### Dataframes"
      ]
    },
    {
      "cell_type": "markdown",
      "metadata": {
        "id": "U6pBH3UIofvk"
      },
      "source": [
        "A quick demo to show you what dataframes (which we don't use in OR, but are great for data analysis) look like in python"
      ]
    },
    {
      "cell_type": "code",
      "metadata": {
        "colab": {
          "base_uri": "https://localhost:8080/",
          "height": 206
        },
        "id": "3DBEMNWModZT",
        "outputId": "4858cea2-94f0-4f80-ef6f-c8ab67b49f02"
      },
      "source": [
        "import pandas as pd\n",
        "\n",
        "# load the dataset (this is already present in a package, which is why you don't need to download anything)\n",
        "ca_df = pd.read_csv(\"https://download.mlcc.google.com/mledu-datasets/california_housing_train.csv\", sep=\",\")\n",
        "\n",
        "ca_df.head()"
      ],
      "execution_count": null,
      "outputs": [
        {
          "output_type": "execute_result",
          "data": {
            "text/html": [
              "<div>\n",
              "<style scoped>\n",
              "    .dataframe tbody tr th:only-of-type {\n",
              "        vertical-align: middle;\n",
              "    }\n",
              "\n",
              "    .dataframe tbody tr th {\n",
              "        vertical-align: top;\n",
              "    }\n",
              "\n",
              "    .dataframe thead th {\n",
              "        text-align: right;\n",
              "    }\n",
              "</style>\n",
              "<table border=\"1\" class=\"dataframe\">\n",
              "  <thead>\n",
              "    <tr style=\"text-align: right;\">\n",
              "      <th></th>\n",
              "      <th>longitude</th>\n",
              "      <th>latitude</th>\n",
              "      <th>housing_median_age</th>\n",
              "      <th>total_rooms</th>\n",
              "      <th>total_bedrooms</th>\n",
              "      <th>population</th>\n",
              "      <th>households</th>\n",
              "      <th>median_income</th>\n",
              "      <th>median_house_value</th>\n",
              "    </tr>\n",
              "  </thead>\n",
              "  <tbody>\n",
              "    <tr>\n",
              "      <th>0</th>\n",
              "      <td>-114.31</td>\n",
              "      <td>34.19</td>\n",
              "      <td>15.0</td>\n",
              "      <td>5612.0</td>\n",
              "      <td>1283.0</td>\n",
              "      <td>1015.0</td>\n",
              "      <td>472.0</td>\n",
              "      <td>1.4936</td>\n",
              "      <td>66900.0</td>\n",
              "    </tr>\n",
              "    <tr>\n",
              "      <th>1</th>\n",
              "      <td>-114.47</td>\n",
              "      <td>34.40</td>\n",
              "      <td>19.0</td>\n",
              "      <td>7650.0</td>\n",
              "      <td>1901.0</td>\n",
              "      <td>1129.0</td>\n",
              "      <td>463.0</td>\n",
              "      <td>1.8200</td>\n",
              "      <td>80100.0</td>\n",
              "    </tr>\n",
              "    <tr>\n",
              "      <th>2</th>\n",
              "      <td>-114.56</td>\n",
              "      <td>33.69</td>\n",
              "      <td>17.0</td>\n",
              "      <td>720.0</td>\n",
              "      <td>174.0</td>\n",
              "      <td>333.0</td>\n",
              "      <td>117.0</td>\n",
              "      <td>1.6509</td>\n",
              "      <td>85700.0</td>\n",
              "    </tr>\n",
              "    <tr>\n",
              "      <th>3</th>\n",
              "      <td>-114.57</td>\n",
              "      <td>33.64</td>\n",
              "      <td>14.0</td>\n",
              "      <td>1501.0</td>\n",
              "      <td>337.0</td>\n",
              "      <td>515.0</td>\n",
              "      <td>226.0</td>\n",
              "      <td>3.1917</td>\n",
              "      <td>73400.0</td>\n",
              "    </tr>\n",
              "    <tr>\n",
              "      <th>4</th>\n",
              "      <td>-114.57</td>\n",
              "      <td>33.57</td>\n",
              "      <td>20.0</td>\n",
              "      <td>1454.0</td>\n",
              "      <td>326.0</td>\n",
              "      <td>624.0</td>\n",
              "      <td>262.0</td>\n",
              "      <td>1.9250</td>\n",
              "      <td>65500.0</td>\n",
              "    </tr>\n",
              "  </tbody>\n",
              "</table>\n",
              "</div>"
            ],
            "text/plain": [
              "   longitude  latitude  ...  median_income  median_house_value\n",
              "0    -114.31     34.19  ...         1.4936             66900.0\n",
              "1    -114.47     34.40  ...         1.8200             80100.0\n",
              "2    -114.56     33.69  ...         1.6509             85700.0\n",
              "3    -114.57     33.64  ...         3.1917             73400.0\n",
              "4    -114.57     33.57  ...         1.9250             65500.0\n",
              "\n",
              "[5 rows x 9 columns]"
            ]
          },
          "metadata": {
            "tags": []
          },
          "execution_count": 176
        }
      ]
    },
    {
      "cell_type": "code",
      "metadata": {
        "colab": {
          "base_uri": "https://localhost:8080/",
          "height": 300
        },
        "id": "LVeXSJiapPYz",
        "outputId": "09ec8726-faab-4ec9-9d88-86f982880255"
      },
      "source": [
        "ca_df.describe()"
      ],
      "execution_count": null,
      "outputs": [
        {
          "output_type": "execute_result",
          "data": {
            "text/html": [
              "<div>\n",
              "<style scoped>\n",
              "    .dataframe tbody tr th:only-of-type {\n",
              "        vertical-align: middle;\n",
              "    }\n",
              "\n",
              "    .dataframe tbody tr th {\n",
              "        vertical-align: top;\n",
              "    }\n",
              "\n",
              "    .dataframe thead th {\n",
              "        text-align: right;\n",
              "    }\n",
              "</style>\n",
              "<table border=\"1\" class=\"dataframe\">\n",
              "  <thead>\n",
              "    <tr style=\"text-align: right;\">\n",
              "      <th></th>\n",
              "      <th>longitude</th>\n",
              "      <th>latitude</th>\n",
              "      <th>housing_median_age</th>\n",
              "      <th>total_rooms</th>\n",
              "      <th>total_bedrooms</th>\n",
              "      <th>population</th>\n",
              "      <th>households</th>\n",
              "      <th>median_income</th>\n",
              "      <th>median_house_value</th>\n",
              "    </tr>\n",
              "  </thead>\n",
              "  <tbody>\n",
              "    <tr>\n",
              "      <th>count</th>\n",
              "      <td>17000.000000</td>\n",
              "      <td>17000.000000</td>\n",
              "      <td>17000.000000</td>\n",
              "      <td>17000.000000</td>\n",
              "      <td>17000.000000</td>\n",
              "      <td>17000.000000</td>\n",
              "      <td>17000.000000</td>\n",
              "      <td>17000.000000</td>\n",
              "      <td>17000.000000</td>\n",
              "    </tr>\n",
              "    <tr>\n",
              "      <th>mean</th>\n",
              "      <td>-119.562108</td>\n",
              "      <td>35.625225</td>\n",
              "      <td>28.589353</td>\n",
              "      <td>2643.664412</td>\n",
              "      <td>539.410824</td>\n",
              "      <td>1429.573941</td>\n",
              "      <td>501.221941</td>\n",
              "      <td>3.883578</td>\n",
              "      <td>207300.912353</td>\n",
              "    </tr>\n",
              "    <tr>\n",
              "      <th>std</th>\n",
              "      <td>2.005166</td>\n",
              "      <td>2.137340</td>\n",
              "      <td>12.586937</td>\n",
              "      <td>2179.947071</td>\n",
              "      <td>421.499452</td>\n",
              "      <td>1147.852959</td>\n",
              "      <td>384.520841</td>\n",
              "      <td>1.908157</td>\n",
              "      <td>115983.764387</td>\n",
              "    </tr>\n",
              "    <tr>\n",
              "      <th>min</th>\n",
              "      <td>-124.350000</td>\n",
              "      <td>32.540000</td>\n",
              "      <td>1.000000</td>\n",
              "      <td>2.000000</td>\n",
              "      <td>1.000000</td>\n",
              "      <td>3.000000</td>\n",
              "      <td>1.000000</td>\n",
              "      <td>0.499900</td>\n",
              "      <td>14999.000000</td>\n",
              "    </tr>\n",
              "    <tr>\n",
              "      <th>25%</th>\n",
              "      <td>-121.790000</td>\n",
              "      <td>33.930000</td>\n",
              "      <td>18.000000</td>\n",
              "      <td>1462.000000</td>\n",
              "      <td>297.000000</td>\n",
              "      <td>790.000000</td>\n",
              "      <td>282.000000</td>\n",
              "      <td>2.566375</td>\n",
              "      <td>119400.000000</td>\n",
              "    </tr>\n",
              "    <tr>\n",
              "      <th>50%</th>\n",
              "      <td>-118.490000</td>\n",
              "      <td>34.250000</td>\n",
              "      <td>29.000000</td>\n",
              "      <td>2127.000000</td>\n",
              "      <td>434.000000</td>\n",
              "      <td>1167.000000</td>\n",
              "      <td>409.000000</td>\n",
              "      <td>3.544600</td>\n",
              "      <td>180400.000000</td>\n",
              "    </tr>\n",
              "    <tr>\n",
              "      <th>75%</th>\n",
              "      <td>-118.000000</td>\n",
              "      <td>37.720000</td>\n",
              "      <td>37.000000</td>\n",
              "      <td>3151.250000</td>\n",
              "      <td>648.250000</td>\n",
              "      <td>1721.000000</td>\n",
              "      <td>605.250000</td>\n",
              "      <td>4.767000</td>\n",
              "      <td>265000.000000</td>\n",
              "    </tr>\n",
              "    <tr>\n",
              "      <th>max</th>\n",
              "      <td>-114.310000</td>\n",
              "      <td>41.950000</td>\n",
              "      <td>52.000000</td>\n",
              "      <td>37937.000000</td>\n",
              "      <td>6445.000000</td>\n",
              "      <td>35682.000000</td>\n",
              "      <td>6082.000000</td>\n",
              "      <td>15.000100</td>\n",
              "      <td>500001.000000</td>\n",
              "    </tr>\n",
              "  </tbody>\n",
              "</table>\n",
              "</div>"
            ],
            "text/plain": [
              "          longitude      latitude  ...  median_income  median_house_value\n",
              "count  17000.000000  17000.000000  ...   17000.000000        17000.000000\n",
              "mean    -119.562108     35.625225  ...       3.883578       207300.912353\n",
              "std        2.005166      2.137340  ...       1.908157       115983.764387\n",
              "min     -124.350000     32.540000  ...       0.499900        14999.000000\n",
              "25%     -121.790000     33.930000  ...       2.566375       119400.000000\n",
              "50%     -118.490000     34.250000  ...       3.544600       180400.000000\n",
              "75%     -118.000000     37.720000  ...       4.767000       265000.000000\n",
              "max     -114.310000     41.950000  ...      15.000100       500001.000000\n",
              "\n",
              "[8 rows x 9 columns]"
            ]
          },
          "metadata": {
            "tags": []
          },
          "execution_count": 86
        }
      ]
    },
    {
      "cell_type": "markdown",
      "metadata": {
        "id": "iywXRAprFmTk"
      },
      "source": [
        "Note that shape is an *attribute*, not a method, which is why it doesn't have the '()' after. It can be hard to know sometimes whether something is a method or an attribute (try both). "
      ]
    },
    {
      "cell_type": "code",
      "metadata": {
        "colab": {
          "base_uri": "https://localhost:8080/"
        },
        "id": "0-95CNWOFTTV",
        "outputId": "da8cb084-0eac-4bb1-b104-5d72b8936dc2"
      },
      "source": [
        "ca_df.shape"
      ],
      "execution_count": null,
      "outputs": [
        {
          "output_type": "execute_result",
          "data": {
            "text/plain": [
              "(17000, 9)"
            ]
          },
          "metadata": {
            "tags": []
          },
          "execution_count": 91
        }
      ]
    },
    {
      "cell_type": "markdown",
      "metadata": {
        "id": "UzcSgvAOpZ1B"
      },
      "source": [
        "## Plotting\n",
        "\n",
        "We'll talk more about plotting later, but for now I want to give you a very basic layout for a simple plot."
      ]
    },
    {
      "cell_type": "code",
      "metadata": {
        "colab": {
          "base_uri": "https://localhost:8080/",
          "height": 265
        },
        "id": "WeOiJQ8QpT9K",
        "outputId": "1c84a519-4f47-4a4d-b58a-3102bba68e24"
      },
      "source": [
        "#Create some data using a numpy array\n",
        "x = np.arange(0,  10, 0.01)\n",
        "y1 = x**2\n",
        "y2 = 10*np.sin(2*x)+30\n",
        "\n",
        "# A very basic plot\n",
        "plt.plot(x, y1)\n",
        "plt.plot(x, y2)\n",
        "plt.show()"
      ],
      "execution_count": null,
      "outputs": [
        {
          "output_type": "display_data",
          "data": {
            "image/png": "[encoded data removed]",
            "text/plain": [
              "<Figure size 432x288 with 1 Axes>"
            ]
          },
          "metadata": {
            "tags": [],
            "needs_background": "light"
          }
        }
      ]
    },
    {
      "cell_type": "code",
      "metadata": {
        "colab": {
          "base_uri": "https://localhost:8080/",
          "height": 414
        },
        "id": "lrzxQXCVrLfM",
        "outputId": "72718463-80da-46a2-ced3-83c459a3b8f5"
      },
      "source": [
        "# A slightly nicer plot\n",
        "\n",
        "#Define the plot size (allows you to do multiple plots too)\n",
        "fig, ax = plt.subplots(1, 1, figsize = (9, 6))\n",
        "\n",
        "#Add data, use labels for legend\n",
        "plt.plot(x, y1, label = \"big one\", color = 'dodgerblue')\n",
        "plt.plot(x, y2, label = \"wiggles\", color = 'red')\n",
        "\n",
        "#Set axis limits\n",
        "plt.xlim(0,10)\n",
        "plt.ylim(0,100)\n",
        "\n",
        "#Set  titles\n",
        "plt.title(\"A beautiful plot\", fontsize=20)\n",
        "plt.ylabel(\"y values\", fontsize=15)\n",
        "plt.xlabel(\"x values\", fontsize=15)\n",
        "\n",
        "#Add legend\n",
        "plt.legend(fontsize = 12)\n",
        "\n",
        "#Tell it to 'print' the plot\n",
        "plt.show()"
      ],
      "execution_count": null,
      "outputs": [
        {
          "output_type": "display_data",
          "data": {
            "image/png": "[encoded data removed]",
            "text/plain": [
              "<Figure size 648x432 with 1 Axes>"
            ]
          },
          "metadata": {
            "tags": [],
            "needs_background": "light"
          }
        }
      ]
    }
  ]
}