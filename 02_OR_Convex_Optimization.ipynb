{
  "nbformat": 4,
  "nbformat_minor": 0,
  "metadata": {
    "colab": {
      "name": "OR - Convex Optimization",
      "provenance": [],
      "collapsed_sections": [],
      "toc_visible": true,
      "authorship_tag": "ABX9TyPt/wHkKnMNzCS9gfbRfzYj",
      "include_colab_link": true
    },
    "kernelspec": {
      "name": "python3",
      "display_name": "Python 3"
    },
    "language_info": {
      "name": "python"
    }
  },
  "cells": [
    {
      "cell_type": "markdown",
      "metadata": {
        "id": "view-in-github",
        "colab_type": "text"
      },
      "source": [
        "<a href=\"https://colab.research.google.com/github/lawbaker/PythonOR2021/blob/main/OR_Convex_Optimization.ipynb\" target=\"_parent\"><img src=\"https://colab.research.google.com/assets/colab-badge.svg\" alt=\"Open In Colab\"/></a>"
      ]
    },
    {
      "cell_type": "markdown",
      "metadata": {
        "id": "FafuCuM6htgc"
      },
      "source": [
        "# Operations Research 2021 TA Session 2.2 & 3: Convex Optimisation in Python\n",
        "\n",
        "## Lawrence Baker"
      ]
    },
    {
      "cell_type": "markdown",
      "metadata": {
        "id": "bzAogOz_sAaQ"
      },
      "source": [
        "## Sessions\n",
        "1.   An introduction to python (and colab)\n",
        "2.   Linear algebra & **unconstrained convex optimization problems**\n",
        "3.   **Constraints and integer programming**\n",
        "4.   *TBD - Networks? Dataframes? What do you want?*\n",
        "5.   An introduction to machine learning"
      ]
    },
    {
      "cell_type": "markdown",
      "metadata": {
        "id": "dl783OvUr7Ol"
      },
      "source": [
        "# Introduction\n",
        "\n",
        "In this session I'm going to cover how to do convex optimisation in python. \n",
        "\n",
        "I didn't use python for this last year, so I'm new to this package too, but it's fairly intuative (and similar to AMPL)\n",
        "\n",
        "We're going to use a package called [CVXPY](https://www.cvxpy.org/)"
      ]
    },
    {
      "cell_type": "markdown",
      "metadata": {
        "id": "EhAykYentyb4"
      },
      "source": [
        "## Import Packages"
      ]
    },
    {
      "cell_type": "code",
      "metadata": {
        "id": "0My139kTiPZ9"
      },
      "source": [
        "##Import packages\n",
        "import cvxpy as cp\n",
        "import numpy as np\n",
        "from sklearn import datasets\n",
        "import pandas as pd\n",
        "import seaborn as sns\n",
        "import matplotlib.pyplot as plt"
      ],
      "execution_count": null,
      "outputs": []
    },
    {
      "cell_type": "markdown",
      "metadata": {
        "id": "lh2lW_syihmq"
      },
      "source": [
        "# Session 2.2: Unconstrained Convex Optimisation\n",
        "\n",
        "We can write our optimisation problems in the form:\n",
        "\n",
        "$ min_x f(x)$\n",
        "\n",
        "subject to: $g_i(x) \\leq 0, i = 1, ..., m$\n",
        "\n",
        "subject to: $h_i(x) = 0, i = 1, ..., n$"
      ]
    },
    {
      "cell_type": "markdown",
      "metadata": {
        "id": "vS1fXANUru6O"
      },
      "source": [
        "## Unconstrained optimisation\n",
        "\n",
        "In the simplest form of this problem, there are no constraints: $m = n = 0$\n",
        "\n",
        "Now we're left with\n",
        "\n",
        "$ min_x f(x)$"
      ]
    },
    {
      "cell_type": "markdown",
      "metadata": {
        "id": "S0LZ-NnhkeiM"
      },
      "source": [
        "### Unconstrained Example: OLS\n",
        "\n",
        "Let's do a simple example, OLS:\n",
        "\n",
        "$$min_x ||Ax - b||^2_2$$\n",
        "\n",
        "Note that, for some reason, in linear algebra they have very different notation to economists. Here $A$ is our matrix of observables, x are the coefficients we are choosing (normally $\\beta$ in econ), and $b$ is our target.\n",
        "\n",
        "We can write this as a sum of the square of each residual (a vector $a_i$, multiplied by a vector of $x_i$, minus the target $b$). \n",
        "\n",
        "$a_i^T x$ is our prediction for $i$ and $b_i$ is the true value.\n",
        "\n",
        "$$min_x \\sum_{i=1}^n (a_i^T x - b_i)^2 $$\n",
        "\n",
        "\n",
        "\n",
        "Let's solve this in cvxpy (this code is based off [the CVXPY example here](https://www.cvxpy.org/examples/basic/least_squares.html), the documentation is great and some of it has examples are in colab)"
      ]
    },
    {
      "cell_type": "markdown",
      "metadata": {
        "id": "LL1LtGjVuBA2"
      },
      "source": [
        "#### Import data\n",
        "\n",
        "I am using a common machine learning dataset on iris flowers. Each row is a set of flower measurements. We will use the first three measurements to predict the fourth.\n"
      ]
    },
    {
      "cell_type": "code",
      "metadata": {
        "id": "Y6I9RgF-t0fg"
      },
      "source": [
        "## Generate some data\n",
        "iris = datasets.load_iris()\n",
        "\n",
        "#First 3 columns are for A\n",
        "A = iris['data'][:,0:3]\n",
        "\n",
        "#Final column is for B\n",
        "b = iris['data'][:,3]"
      ],
      "execution_count": null,
      "outputs": []
    },
    {
      "cell_type": "code",
      "metadata": {
        "colab": {
          "base_uri": "https://localhost:8080/"
        },
        "id": "IcsTaU_LY3Av",
        "outputId": "827f1fa8-7063-421d-df54-62e20927c70f"
      },
      "source": [
        "b"
      ],
      "execution_count": null,
      "outputs": [
        {
          "output_type": "execute_result",
          "data": {
            "text/plain": [
              "array([0.2, 0.2, 0.2, 0.2, 0.2, 0.4, 0.3, 0.2, 0.2, 0.1, 0.2, 0.2, 0.1,\n",
              "       0.1, 0.2, 0.4, 0.4, 0.3, 0.3, 0.3, 0.2, 0.4, 0.2, 0.5, 0.2, 0.2,\n",
              "       0.4, 0.2, 0.2, 0.2, 0.2, 0.4, 0.1, 0.2, 0.2, 0.2, 0.2, 0.1, 0.2,\n",
              "       0.2, 0.3, 0.3, 0.2, 0.6, 0.4, 0.3, 0.2, 0.2, 0.2, 0.2, 1.4, 1.5,\n",
              "       1.5, 1.3, 1.5, 1.3, 1.6, 1. , 1.3, 1.4, 1. , 1.5, 1. , 1.4, 1.3,\n",
              "       1.4, 1.5, 1. , 1.5, 1.1, 1.8, 1.3, 1.5, 1.2, 1.3, 1.4, 1.4, 1.7,\n",
              "       1.5, 1. , 1.1, 1. , 1.2, 1.6, 1.5, 1.6, 1.5, 1.3, 1.3, 1.3, 1.2,\n",
              "       1.4, 1.2, 1. , 1.3, 1.2, 1.3, 1.3, 1.1, 1.3, 2.5, 1.9, 2.1, 1.8,\n",
              "       2.2, 2.1, 1.7, 1.8, 1.8, 2.5, 2. , 1.9, 2.1, 2. , 2.4, 2.3, 1.8,\n",
              "       2.2, 2.3, 1.5, 2.3, 2. , 2. , 1.8, 2.1, 1.8, 1.8, 1.8, 2.1, 1.6,\n",
              "       1.9, 2. , 2.2, 1.5, 1.4, 2.3, 2.4, 1.8, 1.8, 2.1, 2.4, 2.3, 1.9,\n",
              "       2.3, 2.5, 2.3, 1.9, 2. , 2.3, 1.8])"
            ]
          },
          "metadata": {
            "tags": []
          },
          "execution_count": 16
        }
      ]
    },
    {
      "cell_type": "markdown",
      "metadata": {
        "id": "iPL9t8ZFvIqF"
      },
      "source": [
        "#### Solve"
      ]
    },
    {
      "cell_type": "markdown",
      "metadata": {
        "id": "7IHddKLTpt2Z"
      },
      "source": [
        "We will use columns 1 to 3 to predict column 4 (outcome)"
      ]
    },
    {
      "cell_type": "code",
      "metadata": {
        "colab": {
          "base_uri": "https://localhost:8080/"
        },
        "id": "CQJTY7khm88q",
        "outputId": "535c47ca-2a22-4d01-8ab8-844dc2ab2927"
      },
      "source": [
        "#Define our variable that we are changing to minimize\n",
        "# It's 3 big because that's how many X there are (coefficients on A)\n",
        "x = cp.Variable(3)\n",
        "\n",
        "# Define the mean squared error (the function we want minimized)\n",
        "MSE = cp.sum_squares(A @ x - b)\n",
        "# Define the problem as a minimization\n",
        "prob = cp.Problem(cp.Minimize(MSE))\n",
        "#Tell it to solve\n",
        "prob.solve()\n",
        "\n",
        "print(\"The minimum MSE is\", prob.value)\n",
        "print(\"\\nThe X values are\", x.value)"
      ],
      "execution_count": null,
      "outputs": [
        {
          "output_type": "stream",
          "text": [
            "The minimum MSE is 5.447185223868676\n",
            "\n",
            "The X values are [-0.24560513  0.20405077  0.53552165]\n"
          ],
          "name": "stdout"
        }
      ]
    },
    {
      "cell_type": "markdown",
      "metadata": {
        "id": "rMxnwK42sELf"
      },
      "source": [
        "### Unconstrained Example: COVID in New York"
      ]
    },
    {
      "cell_type": "markdown",
      "metadata": {
        "id": "ZEaKHngbvM4R"
      },
      "source": [
        "#### Import Data"
      ]
    },
    {
      "cell_type": "code",
      "metadata": {
        "colab": {
          "base_uri": "https://localhost:8080/",
          "height": 226
        },
        "id": "fyMdTFF-sLPU",
        "outputId": "f9cc52f6-1909-4197-9cbe-f27f140da838"
      },
      "source": [
        "#Lets get the New York data\n",
        "covid = pd.read_csv('https://api.covidtracking.com/v1/states/ny/daily.csv')\n",
        "covid.head()"
      ],
      "execution_count": null,
      "outputs": [
        {
          "output_type": "execute_result",
          "data": {
            "text/html": [
              "<div>\n",
              "<style scoped>\n",
              "    .dataframe tbody tr th:only-of-type {\n",
              "        vertical-align: middle;\n",
              "    }\n",
              "\n",
              "    .dataframe tbody tr th {\n",
              "        vertical-align: top;\n",
              "    }\n",
              "\n",
              "    .dataframe thead th {\n",
              "        text-align: right;\n",
              "    }\n",
              "</style>\n",
              "<table border=\"1\" class=\"dataframe\">\n",
              "  <thead>\n",
              "    <tr style=\"text-align: right;\">\n",
              "      <th></th>\n",
              "      <th>date</th>\n",
              "      <th>state</th>\n",
              "      <th>positive</th>\n",
              "      <th>probableCases</th>\n",
              "      <th>negative</th>\n",
              "      <th>pending</th>\n",
              "      <th>totalTestResultsSource</th>\n",
              "      <th>totalTestResults</th>\n",
              "      <th>hospitalizedCurrently</th>\n",
              "      <th>hospitalizedCumulative</th>\n",
              "      <th>inIcuCurrently</th>\n",
              "      <th>inIcuCumulative</th>\n",
              "      <th>onVentilatorCurrently</th>\n",
              "      <th>onVentilatorCumulative</th>\n",
              "      <th>recovered</th>\n",
              "      <th>lastUpdateEt</th>\n",
              "      <th>dateModified</th>\n",
              "      <th>checkTimeEt</th>\n",
              "      <th>death</th>\n",
              "      <th>hospitalized</th>\n",
              "      <th>hospitalizedDischarged</th>\n",
              "      <th>dateChecked</th>\n",
              "      <th>totalTestsViral</th>\n",
              "      <th>positiveTestsViral</th>\n",
              "      <th>negativeTestsViral</th>\n",
              "      <th>positiveCasesViral</th>\n",
              "      <th>deathConfirmed</th>\n",
              "      <th>deathProbable</th>\n",
              "      <th>totalTestEncountersViral</th>\n",
              "      <th>totalTestsPeopleViral</th>\n",
              "      <th>totalTestsAntibody</th>\n",
              "      <th>positiveTestsAntibody</th>\n",
              "      <th>negativeTestsAntibody</th>\n",
              "      <th>totalTestsPeopleAntibody</th>\n",
              "      <th>positiveTestsPeopleAntibody</th>\n",
              "      <th>negativeTestsPeopleAntibody</th>\n",
              "      <th>totalTestsPeopleAntigen</th>\n",
              "      <th>positiveTestsPeopleAntigen</th>\n",
              "      <th>totalTestsAntigen</th>\n",
              "      <th>positiveTestsAntigen</th>\n",
              "      <th>fips</th>\n",
              "      <th>positiveIncrease</th>\n",
              "      <th>negativeIncrease</th>\n",
              "      <th>total</th>\n",
              "      <th>totalTestResultsIncrease</th>\n",
              "      <th>posNeg</th>\n",
              "      <th>dataQualityGrade</th>\n",
              "      <th>deathIncrease</th>\n",
              "      <th>hospitalizedIncrease</th>\n",
              "      <th>hash</th>\n",
              "      <th>commercialScore</th>\n",
              "      <th>negativeRegularScore</th>\n",
              "      <th>negativeScore</th>\n",
              "      <th>positiveScore</th>\n",
              "      <th>score</th>\n",
              "      <th>grade</th>\n",
              "    </tr>\n",
              "  </thead>\n",
              "  <tbody>\n",
              "    <tr>\n",
              "      <th>0</th>\n",
              "      <td>20210307</td>\n",
              "      <td>NY</td>\n",
              "      <td>1681169</td>\n",
              "      <td>NaN</td>\n",
              "      <td>NaN</td>\n",
              "      <td>NaN</td>\n",
              "      <td>totalTestEncountersViral</td>\n",
              "      <td>39695100</td>\n",
              "      <td>4789.0</td>\n",
              "      <td>89995.0</td>\n",
              "      <td>999.0</td>\n",
              "      <td>NaN</td>\n",
              "      <td>682.0</td>\n",
              "      <td>NaN</td>\n",
              "      <td>NaN</td>\n",
              "      <td>3/6/2021 14:00</td>\n",
              "      <td>2021-03-06T14:00:00Z</td>\n",
              "      <td>03/06 09:00</td>\n",
              "      <td>39029.0</td>\n",
              "      <td>89995.0</td>\n",
              "      <td>150100.0</td>\n",
              "      <td>2021-03-06T14:00:00Z</td>\n",
              "      <td>NaN</td>\n",
              "      <td>NaN</td>\n",
              "      <td>NaN</td>\n",
              "      <td>NaN</td>\n",
              "      <td>NaN</td>\n",
              "      <td>NaN</td>\n",
              "      <td>39695100</td>\n",
              "      <td>NaN</td>\n",
              "      <td>NaN</td>\n",
              "      <td>NaN</td>\n",
              "      <td>NaN</td>\n",
              "      <td>NaN</td>\n",
              "      <td>NaN</td>\n",
              "      <td>NaN</td>\n",
              "      <td>NaN</td>\n",
              "      <td>NaN</td>\n",
              "      <td>NaN</td>\n",
              "      <td>NaN</td>\n",
              "      <td>36</td>\n",
              "      <td>6789</td>\n",
              "      <td>0</td>\n",
              "      <td>1681169</td>\n",
              "      <td>227768</td>\n",
              "      <td>1681169</td>\n",
              "      <td>NaN</td>\n",
              "      <td>59</td>\n",
              "      <td>0</td>\n",
              "      <td>72f520a3538592c24dde022170ae82841d4d2ef9</td>\n",
              "      <td>0</td>\n",
              "      <td>0</td>\n",
              "      <td>0</td>\n",
              "      <td>0</td>\n",
              "      <td>0</td>\n",
              "      <td>NaN</td>\n",
              "    </tr>\n",
              "    <tr>\n",
              "      <th>1</th>\n",
              "      <td>20210306</td>\n",
              "      <td>NY</td>\n",
              "      <td>1674380</td>\n",
              "      <td>NaN</td>\n",
              "      <td>NaN</td>\n",
              "      <td>NaN</td>\n",
              "      <td>totalTestEncountersViral</td>\n",
              "      <td>39467332</td>\n",
              "      <td>4954.0</td>\n",
              "      <td>89995.0</td>\n",
              "      <td>1012.0</td>\n",
              "      <td>NaN</td>\n",
              "      <td>694.0</td>\n",
              "      <td>NaN</td>\n",
              "      <td>NaN</td>\n",
              "      <td>3/5/2021 14:00</td>\n",
              "      <td>2021-03-05T14:00:00Z</td>\n",
              "      <td>03/05 09:00</td>\n",
              "      <td>38970.0</td>\n",
              "      <td>89995.0</td>\n",
              "      <td>149481.0</td>\n",
              "      <td>2021-03-05T14:00:00Z</td>\n",
              "      <td>NaN</td>\n",
              "      <td>NaN</td>\n",
              "      <td>NaN</td>\n",
              "      <td>NaN</td>\n",
              "      <td>NaN</td>\n",
              "      <td>NaN</td>\n",
              "      <td>39467332</td>\n",
              "      <td>NaN</td>\n",
              "      <td>NaN</td>\n",
              "      <td>NaN</td>\n",
              "      <td>NaN</td>\n",
              "      <td>NaN</td>\n",
              "      <td>NaN</td>\n",
              "      <td>NaN</td>\n",
              "      <td>NaN</td>\n",
              "      <td>NaN</td>\n",
              "      <td>NaN</td>\n",
              "      <td>NaN</td>\n",
              "      <td>36</td>\n",
              "      <td>7647</td>\n",
              "      <td>0</td>\n",
              "      <td>1674380</td>\n",
              "      <td>273132</td>\n",
              "      <td>1674380</td>\n",
              "      <td>NaN</td>\n",
              "      <td>79</td>\n",
              "      <td>0</td>\n",
              "      <td>cb77d2163ba007105af830c9bb4de5a0bfd96859</td>\n",
              "      <td>0</td>\n",
              "      <td>0</td>\n",
              "      <td>0</td>\n",
              "      <td>0</td>\n",
              "      <td>0</td>\n",
              "      <td>NaN</td>\n",
              "    </tr>\n",
              "    <tr>\n",
              "      <th>2</th>\n",
              "      <td>20210305</td>\n",
              "      <td>NY</td>\n",
              "      <td>1666733</td>\n",
              "      <td>NaN</td>\n",
              "      <td>NaN</td>\n",
              "      <td>NaN</td>\n",
              "      <td>totalTestEncountersViral</td>\n",
              "      <td>39194200</td>\n",
              "      <td>5034.0</td>\n",
              "      <td>89995.0</td>\n",
              "      <td>1030.0</td>\n",
              "      <td>NaN</td>\n",
              "      <td>700.0</td>\n",
              "      <td>NaN</td>\n",
              "      <td>NaN</td>\n",
              "      <td>3/4/2021 14:00</td>\n",
              "      <td>2021-03-04T14:00:00Z</td>\n",
              "      <td>03/04 09:00</td>\n",
              "      <td>38891.0</td>\n",
              "      <td>89995.0</td>\n",
              "      <td>148923.0</td>\n",
              "      <td>2021-03-04T14:00:00Z</td>\n",
              "      <td>NaN</td>\n",
              "      <td>NaN</td>\n",
              "      <td>NaN</td>\n",
              "      <td>NaN</td>\n",
              "      <td>NaN</td>\n",
              "      <td>NaN</td>\n",
              "      <td>39194200</td>\n",
              "      <td>NaN</td>\n",
              "      <td>NaN</td>\n",
              "      <td>NaN</td>\n",
              "      <td>NaN</td>\n",
              "      <td>NaN</td>\n",
              "      <td>NaN</td>\n",
              "      <td>NaN</td>\n",
              "      <td>NaN</td>\n",
              "      <td>NaN</td>\n",
              "      <td>NaN</td>\n",
              "      <td>NaN</td>\n",
              "      <td>36</td>\n",
              "      <td>8956</td>\n",
              "      <td>0</td>\n",
              "      <td>1666733</td>\n",
              "      <td>296935</td>\n",
              "      <td>1666733</td>\n",
              "      <td>NaN</td>\n",
              "      <td>95</td>\n",
              "      <td>0</td>\n",
              "      <td>3b2002d4b127ba2cd97aa9696daec74f3c1c5315</td>\n",
              "      <td>0</td>\n",
              "      <td>0</td>\n",
              "      <td>0</td>\n",
              "      <td>0</td>\n",
              "      <td>0</td>\n",
              "      <td>NaN</td>\n",
              "    </tr>\n",
              "    <tr>\n",
              "      <th>3</th>\n",
              "      <td>20210304</td>\n",
              "      <td>NY</td>\n",
              "      <td>1657777</td>\n",
              "      <td>NaN</td>\n",
              "      <td>NaN</td>\n",
              "      <td>NaN</td>\n",
              "      <td>totalTestEncountersViral</td>\n",
              "      <td>38897265</td>\n",
              "      <td>5177.0</td>\n",
              "      <td>89995.0</td>\n",
              "      <td>1043.0</td>\n",
              "      <td>NaN</td>\n",
              "      <td>712.0</td>\n",
              "      <td>NaN</td>\n",
              "      <td>NaN</td>\n",
              "      <td>3/3/2021 14:00</td>\n",
              "      <td>2021-03-03T14:00:00Z</td>\n",
              "      <td>03/03 09:00</td>\n",
              "      <td>38796.0</td>\n",
              "      <td>89995.0</td>\n",
              "      <td>148355.0</td>\n",
              "      <td>2021-03-03T14:00:00Z</td>\n",
              "      <td>NaN</td>\n",
              "      <td>NaN</td>\n",
              "      <td>NaN</td>\n",
              "      <td>NaN</td>\n",
              "      <td>NaN</td>\n",
              "      <td>NaN</td>\n",
              "      <td>38897265</td>\n",
              "      <td>NaN</td>\n",
              "      <td>NaN</td>\n",
              "      <td>NaN</td>\n",
              "      <td>NaN</td>\n",
              "      <td>NaN</td>\n",
              "      <td>NaN</td>\n",
              "      <td>NaN</td>\n",
              "      <td>NaN</td>\n",
              "      <td>NaN</td>\n",
              "      <td>NaN</td>\n",
              "      <td>NaN</td>\n",
              "      <td>36</td>\n",
              "      <td>7593</td>\n",
              "      <td>0</td>\n",
              "      <td>1657777</td>\n",
              "      <td>270089</td>\n",
              "      <td>1657777</td>\n",
              "      <td>NaN</td>\n",
              "      <td>61</td>\n",
              "      <td>0</td>\n",
              "      <td>fd521527694c269fc2d5acae5f6aedff4c317f28</td>\n",
              "      <td>0</td>\n",
              "      <td>0</td>\n",
              "      <td>0</td>\n",
              "      <td>0</td>\n",
              "      <td>0</td>\n",
              "      <td>NaN</td>\n",
              "    </tr>\n",
              "    <tr>\n",
              "      <th>4</th>\n",
              "      <td>20210303</td>\n",
              "      <td>NY</td>\n",
              "      <td>1650184</td>\n",
              "      <td>NaN</td>\n",
              "      <td>NaN</td>\n",
              "      <td>NaN</td>\n",
              "      <td>totalTestEncountersViral</td>\n",
              "      <td>38627176</td>\n",
              "      <td>5323.0</td>\n",
              "      <td>89995.0</td>\n",
              "      <td>1047.0</td>\n",
              "      <td>NaN</td>\n",
              "      <td>735.0</td>\n",
              "      <td>NaN</td>\n",
              "      <td>NaN</td>\n",
              "      <td>3/2/2021 14:00</td>\n",
              "      <td>2021-03-02T14:00:00Z</td>\n",
              "      <td>03/02 09:00</td>\n",
              "      <td>38735.0</td>\n",
              "      <td>89995.0</td>\n",
              "      <td>147730.0</td>\n",
              "      <td>2021-03-02T14:00:00Z</td>\n",
              "      <td>NaN</td>\n",
              "      <td>NaN</td>\n",
              "      <td>NaN</td>\n",
              "      <td>NaN</td>\n",
              "      <td>NaN</td>\n",
              "      <td>NaN</td>\n",
              "      <td>38627176</td>\n",
              "      <td>NaN</td>\n",
              "      <td>NaN</td>\n",
              "      <td>NaN</td>\n",
              "      <td>NaN</td>\n",
              "      <td>NaN</td>\n",
              "      <td>NaN</td>\n",
              "      <td>NaN</td>\n",
              "      <td>NaN</td>\n",
              "      <td>NaN</td>\n",
              "      <td>NaN</td>\n",
              "      <td>NaN</td>\n",
              "      <td>36</td>\n",
              "      <td>7704</td>\n",
              "      <td>0</td>\n",
              "      <td>1650184</td>\n",
              "      <td>218069</td>\n",
              "      <td>1650184</td>\n",
              "      <td>NaN</td>\n",
              "      <td>75</td>\n",
              "      <td>0</td>\n",
              "      <td>9e1d88ac35d74dc7969fd77d287ae42d5721f5f8</td>\n",
              "      <td>0</td>\n",
              "      <td>0</td>\n",
              "      <td>0</td>\n",
              "      <td>0</td>\n",
              "      <td>0</td>\n",
              "      <td>NaN</td>\n",
              "    </tr>\n",
              "  </tbody>\n",
              "</table>\n",
              "</div>"
            ],
            "text/plain": [
              "       date state  positive  ...  positiveScore  score  grade\n",
              "0  20210307    NY   1681169  ...              0      0    NaN\n",
              "1  20210306    NY   1674380  ...              0      0    NaN\n",
              "2  20210305    NY   1666733  ...              0      0    NaN\n",
              "3  20210304    NY   1657777  ...              0      0    NaN\n",
              "4  20210303    NY   1650184  ...              0      0    NaN\n",
              "\n",
              "[5 rows x 56 columns]"
            ]
          },
          "metadata": {
            "tags": []
          },
          "execution_count": 18
        }
      ]
    },
    {
      "cell_type": "markdown",
      "metadata": {
        "id": "K-bMdeNZvQiM"
      },
      "source": [
        "#### Clean data"
      ]
    },
    {
      "cell_type": "code",
      "metadata": {
        "colab": {
          "base_uri": "https://localhost:8080/",
          "height": 206
        },
        "id": "iMttQb40tn83",
        "outputId": "35d1fdf9-9da7-4bbe-bca4-6ce28b667482"
      },
      "source": [
        "#Keep only the columns we need\n",
        "covid = covid[['date', 'positive']]\n",
        "#Conver the date to an actual date\n",
        "covid['date'] = pd.to_datetime(covid['date'], format=\"%Y%m%d\")\n",
        "#Keep only the dates in March 2020\n",
        "covid = covid[(covid['date'] < '2020-03-23') & (covid['date'] > '2020-03-05')]\n",
        "#Set up a day column\n",
        "covid['day'] = (covid['date'] - min(covid['date'])).dt.days + 1\n",
        "covid.head()"
      ],
      "execution_count": null,
      "outputs": [
        {
          "output_type": "execute_result",
          "data": {
            "text/html": [
              "<div>\n",
              "<style scoped>\n",
              "    .dataframe tbody tr th:only-of-type {\n",
              "        vertical-align: middle;\n",
              "    }\n",
              "\n",
              "    .dataframe tbody tr th {\n",
              "        vertical-align: top;\n",
              "    }\n",
              "\n",
              "    .dataframe thead th {\n",
              "        text-align: right;\n",
              "    }\n",
              "</style>\n",
              "<table border=\"1\" class=\"dataframe\">\n",
              "  <thead>\n",
              "    <tr style=\"text-align: right;\">\n",
              "      <th></th>\n",
              "      <th>date</th>\n",
              "      <th>positive</th>\n",
              "      <th>day</th>\n",
              "    </tr>\n",
              "  </thead>\n",
              "  <tbody>\n",
              "    <tr>\n",
              "      <th>350</th>\n",
              "      <td>2020-03-22</td>\n",
              "      <td>15168</td>\n",
              "      <td>17</td>\n",
              "    </tr>\n",
              "    <tr>\n",
              "      <th>351</th>\n",
              "      <td>2020-03-21</td>\n",
              "      <td>10356</td>\n",
              "      <td>16</td>\n",
              "    </tr>\n",
              "    <tr>\n",
              "      <th>352</th>\n",
              "      <td>2020-03-20</td>\n",
              "      <td>7102</td>\n",
              "      <td>15</td>\n",
              "    </tr>\n",
              "    <tr>\n",
              "      <th>353</th>\n",
              "      <td>2020-03-19</td>\n",
              "      <td>4152</td>\n",
              "      <td>14</td>\n",
              "    </tr>\n",
              "    <tr>\n",
              "      <th>354</th>\n",
              "      <td>2020-03-18</td>\n",
              "      <td>2383</td>\n",
              "      <td>13</td>\n",
              "    </tr>\n",
              "  </tbody>\n",
              "</table>\n",
              "</div>"
            ],
            "text/plain": [
              "          date  positive  day\n",
              "350 2020-03-22     15168   17\n",
              "351 2020-03-21     10356   16\n",
              "352 2020-03-20      7102   15\n",
              "353 2020-03-19      4152   14\n",
              "354 2020-03-18      2383   13"
            ]
          },
          "metadata": {
            "tags": []
          },
          "execution_count": 19
        }
      ]
    },
    {
      "cell_type": "markdown",
      "metadata": {
        "id": "Kox86YGPv1hy"
      },
      "source": [
        "#### Plot data\n",
        "\n",
        "Let's do a quick plot, this is often the first step to solving a real-world problem."
      ]
    },
    {
      "cell_type": "code",
      "metadata": {
        "colab": {
          "base_uri": "https://localhost:8080/",
          "height": 523
        },
        "id": "0vvYaURnvso-",
        "outputId": "e9fe5115-2d55-4ff4-e2cd-d2295d834361"
      },
      "source": [
        "fig, ax = plt.subplots(1, 1, figsize = (12, 8))\n",
        "\n",
        "sns.lineplot(data = covid,  x='date', y='positive')\n",
        "\n",
        "plt.title(\"NY Covid in March\", fontsize=20)\n",
        "plt.ylabel(\"Positive cases\", fontsize=15)\n",
        "plt.xlabel(\"Date\", fontsize=15)\n",
        "plt.ylim(bottom = 0)\n",
        "plt.xlim(left = 737490)\n",
        "\n",
        "plt.show()"
      ],
      "execution_count": null,
      "outputs": [
        {
          "output_type": "display_data",
          "data": {
            "image/png": "[encoded data removed]",
            "text/plain": [
              "<Figure size 864x576 with 1 Axes>"
            ]
          },
          "metadata": {
            "tags": [],
            "needs_background": "light"
          }
        }
      ]
    },
    {
      "cell_type": "markdown",
      "metadata": {
        "id": "CQs4VF2AwsPD"
      },
      "source": [
        "#### Define a convex problem\n",
        "\n",
        "Looks pretty exponential, what would the best exponent be? Let's say the data is of the form\n",
        "\n",
        "$$ cases = \\alpha e^{\\gamma day}$$\n",
        "$$ c = \\alpha e^{\\gamma d}$$\n",
        "\n",
        "If we take logs (so this is a convex problem)\n",
        "\n",
        "$$ ln(c) = ln(\\alpha) +\\gamma d$$\n",
        "\n",
        "We can write this as a constained optimisation problem where we minize the mean squared error\n",
        "\n",
        "$$min_x \\sum_{i=1}^n (ln(\\alpha) +  \\gamma d - ln(c))^2 $$\n",
        "\n",
        "Now we can plot what out transformed problem looks like"
      ]
    },
    {
      "cell_type": "code",
      "metadata": {
        "colab": {
          "base_uri": "https://localhost:8080/",
          "height": 523
        },
        "id": "GfpUGytsvlwx",
        "outputId": "3269cd90-ab3f-4b15-fce7-eec15aa38f43"
      },
      "source": [
        "covid['log_positive'] = np.log(covid['positive'])\n",
        "\n",
        "fig, ax = plt.subplots(1, 1, figsize = (12, 8))\n",
        "\n",
        "sns.lineplot(data = covid,  x='date', y='log_positive')\n",
        "\n",
        "plt.title(\"NY Log Covid in March\", fontsize=20)\n",
        "plt.ylabel(\"Log Positive cases\", fontsize=15)\n",
        "plt.xlabel(\"Date\", fontsize=15)\n",
        "\n",
        "\n",
        "plt.show()"
      ],
      "execution_count": null,
      "outputs": [
        {
          "output_type": "display_data",
          "data": {
            "image/png": "[encoded data removed]",
            "text/plain": [
              "<Figure size 864x576 with 1 Axes>"
            ]
          },
          "metadata": {
            "tags": [],
            "needs_background": "light"
          }
        }
      ]
    },
    {
      "cell_type": "markdown",
      "metadata": {
        "id": "mNXeFIB-vl5U"
      },
      "source": [
        "Let's solve this with CVXPY:"
      ]
    },
    {
      "cell_type": "code",
      "metadata": {
        "colab": {
          "base_uri": "https://localhost:8080/"
        },
        "id": "peIZI-TCxiqP",
        "outputId": "04614110-f3d5-4f0e-b6bc-d50bfd043b79"
      },
      "source": [
        "#Put our data into arrays\n",
        "c = np.array(covid['positive'])\n",
        "d = np.array(covid['day'])\n",
        "\n",
        "#Define our variable that we are changing to minimize\n",
        "ln_alpha = cp.Variable(1)\n",
        "gamma = cp.Variable(1)\n",
        "\n",
        "# Define the mean squared error (the function we want minimized)\n",
        "MSE = cp.sum_squares(ln_alpha + gamma * d - np.log(c))\n",
        "# Define the problem as a minimization\n",
        "prob = cp.Problem(cp.Minimize(MSE))\n",
        "#Tell it to solve\n",
        "prob.solve(solver=cp.SCS, eps=1e-12)\n",
        "\n",
        "print(\"\\nThe minimum MSE is\", prob.value)\n",
        "print(\"\\nThe optimal alpha value is\", ln_alpha.value)\n",
        "print(\"\\nThe optimal gamma value is\", gamma.value)"
      ],
      "execution_count": null,
      "outputs": [
        {
          "output_type": "stream",
          "text": [
            "\n",
            "The minimum MSE is 0.4319036102616166\n",
            "\n",
            "The optimal alpha value is [2.82890235]\n",
            "\n",
            "The optimal gamma value is [0.38959617]\n"
          ],
          "name": "stdout"
        }
      ]
    },
    {
      "cell_type": "markdown",
      "metadata": {
        "id": "NmATsfdF2twn"
      },
      "source": [
        "Now let's plot the result, looks pretty good!\n",
        "\n",
        "We care about this exponent because it tell us about the $R_0$ of the virus (although there are many problems with this data, mainly that testing levels are changing at the same time, so this is probably an overestimate."
      ]
    },
    {
      "cell_type": "code",
      "metadata": {
        "colab": {
          "base_uri": "https://localhost:8080/",
          "height": 523
        },
        "id": "lp6tDczMIoQK",
        "outputId": "f09d40a7-9c33-4e1f-9520-0b477566b02c"
      },
      "source": [
        "log_pred = ln_alpha.value + (gamma.value) * d\n",
        "\n",
        "fig, ax = plt.subplots(1, 1, figsize = (12, 8))\n",
        "\n",
        "plt.plot(d, np.log(c), label = \"Data\", color = 'dodgerblue')\n",
        "plt.plot(d, log_pred, label = \"Prediction\", color = 'red')\n",
        "plt.legend(fontsize = 12)\n",
        "plt.title(\"Log NY Covid in March\", fontsize=20)\n",
        "plt.ylabel(\"Positive cases\", fontsize=15)\n",
        "plt.xlabel(\"Day\", fontsize=15)\n",
        "\n",
        "plt.show()"
      ],
      "execution_count": null,
      "outputs": [
        {
          "output_type": "display_data",
          "data": {
            "image/png": "[encoded data removed]",
            "text/plain": [
              "<Figure size 864x576 with 1 Axes>"
            ]
          },
          "metadata": {
            "tags": [],
            "needs_background": "light"
          }
        }
      ]
    },
    {
      "cell_type": "markdown",
      "metadata": {
        "id": "Ve6xkJC8xJPg"
      },
      "source": [
        "However, once we retransform into the space we care about by exponentiating, we see our prediction isn't as good. This is because the errors for higher numbers become stretched, and the errors for smaller numbers squished.\n",
        "\n",
        "So, we wouldn't choose this method in the real world, but I wanted to give you a demonstration of using these methods on real data."
      ]
    },
    {
      "cell_type": "code",
      "metadata": {
        "colab": {
          "base_uri": "https://localhost:8080/",
          "height": 523
        },
        "id": "dsoqhsZSyXOj",
        "outputId": "02f7e4ce-7363-40e6-9e83-af2de0c21cac"
      },
      "source": [
        "x = np.arange(1, covid.shape[0]+1)\n",
        "pred = np.exp(ln_alpha.value + (gamma.value) * x)\n",
        "\n",
        "fig, ax = plt.subplots(1, 1, figsize = (12, 8))\n",
        "\n",
        "plt.plot(d, c, label = \"Data\", color = 'dodgerblue')\n",
        "plt.plot(x, pred, label = \"Prediction\", color = 'red')\n",
        "plt.legend(fontsize = 12)\n",
        "plt.title(\"NY Covid in March\", fontsize=20)\n",
        "plt.ylabel(\"Positive cases\", fontsize=15)\n",
        "plt.xlabel(\"Day\", fontsize=15)\n",
        "plt.ylim(bottom = 0)\n",
        "plt.xlim(left = 1)\n",
        "\n",
        "plt.show()"
      ],
      "execution_count": null,
      "outputs": [
        {
          "output_type": "display_data",
          "data": {
            "image/png": "[encoded data removed]",
            "text/plain": [
              "<Figure size 864x576 with 1 Axes>"
            ]
          },
          "metadata": {
            "tags": [],
            "needs_background": "light"
          }
        }
      ]
    },
    {
      "cell_type": "markdown",
      "metadata": {
        "id": "dwp3l1mX3H57"
      },
      "source": [
        "# Session 3: Constrained Covex Optimization and Integer Programming"
      ]
    },
    {
      "cell_type": "markdown",
      "metadata": {
        "id": "kxCxGEcR3ZGS"
      },
      "source": [
        "This session we're going to cover constrained optimization (adding constraints), integer programming (where the answer is discrete), and some of the complexities that I glossed over last time."
      ]
    },
    {
      "cell_type": "markdown",
      "metadata": {
        "id": "67gXEzZe3oW3"
      },
      "source": [
        "## DCP and Atoms\n",
        "\n",
        "As implied by the name, CVXPY can only handle convex problems (with a few notable exceptions like linear programming). So, ***how does it know when a problem is convex?***"
      ]
    },
    {
      "cell_type": "markdown",
      "metadata": {
        "id": "7cbeiX6X6EsU"
      },
      "source": [
        "### Disciplined Convex Programming\n",
        "\n",
        "Disciplined Convex Programming ([DCP](https://dcp.stanford.edu/home)) is a system for constructing mathematical expressions with known curvature. \n",
        "\n",
        "Essentially it has a list of functions and their curvature (with details about their signs too). It also has a set of rules for how functions can be manipulated while preserving curvature. For instance, a convex function of convex functions is convex. So the sum of two convex expressions is convex. [More detail on these rules here](https://www.cvxpy.org/tutorial/dcp/).\n",
        "\n",
        "The DCP rules are applied to make sure you are asking CVXPY to do one of two things:\n",
        "\n",
        "* $Minimize  (convex) $\n",
        "* $Maximize (concave) $\n",
        "\n",
        "If you try and do anything else then CVXPY will fall over and give you an error\n",
        "\n",
        "```\n",
        "Error: Problem does not follow DCP rules.\n",
        "```\n",
        "\n"
      ]
    },
    {
      "cell_type": "markdown",
      "metadata": {
        "id": "1MrlJbro6Ezu"
      },
      "source": [
        "### Atoms\n",
        "\n",
        "In the lectures Brien has given you a list of functions and transformations you know are convex. You should treasure this list and keep it handy for finals and quals.\n",
        "\n",
        "CVXPY keeps a similar list, [the list of Atomic Functions](https://www.cvxpy.org/tutorial/functions/).\n",
        "\n",
        "Whenever we define an objective function or constraints for CVXPY, we need to make sure that we only use these functions. Further, they need to be CVXPY's version of these functions. So to take a log of the variable $x$ you should use:\n",
        "\n",
        "```\n",
        "cp.log(x)\n",
        "```\n",
        "\n",
        "If you try to use \n",
        "\n",
        "```\n",
        "np.log(x)\n",
        "```\n",
        "Then CVXPY will get upset.\n",
        "\n",
        "Normally (as with the examples above), we can happily construct our problems using the basic functions that mirror what we would use for 'normal' mathematical operations. Things like:\n",
        "\n",
        "```\n",
        "x + cp.log(x) + cp.exp(x) + cp.sqrt(x)\n",
        "```\n",
        "\n",
        "Sometimes there might be a different way of writing a common function. To do $x^2$ then you must use one of:\n",
        "\n",
        "```\n",
        "cp.power(x,2)\n",
        "cp.square(x)\n",
        "```\n",
        "\n",
        "In a few cases, you will do something completely legitmate and CVXPY will still throw an error:\n"
      ]
    },
    {
      "cell_type": "code",
      "metadata": {
        "colab": {
          "base_uri": "https://localhost:8080/",
          "height": 401
        },
        "id": "QnjSqbCB3Lu_",
        "outputId": "5b5fa6f0-13da-4e6d-d6e2-9329de8569bc"
      },
      "source": [
        "# Create variable\n",
        "x_1 = cp.Variable(1)\n",
        "\n",
        "obj = x_1 * cp.log(x_1) + 2*x_1 + 2\n",
        "\n",
        "prob = cp.Problem(cp.Minimize(obj))\n",
        "\n",
        "prob.solve()"
      ],
      "execution_count": null,
      "outputs": [
        {
          "output_type": "error",
          "ename": "DCPError",
          "evalue": "ignored",
          "traceback": [
            "\u001b[0;31m---------------------------------------------------------------------------\u001b[0m",
            "\u001b[0;31mDCPError\u001b[0m                                  Traceback (most recent call last)",
            "\u001b[0;32m<ipython-input-75-49398f6cf90c>\u001b[0m in \u001b[0;36m<module>\u001b[0;34m()\u001b[0m\n\u001b[1;32m      6\u001b[0m \u001b[0mprob\u001b[0m \u001b[0;34m=\u001b[0m \u001b[0mcp\u001b[0m\u001b[0;34m.\u001b[0m\u001b[0mProblem\u001b[0m\u001b[0;34m(\u001b[0m\u001b[0mcp\u001b[0m\u001b[0;34m.\u001b[0m\u001b[0mMinimize\u001b[0m\u001b[0;34m(\u001b[0m\u001b[0mobj\u001b[0m\u001b[0;34m)\u001b[0m\u001b[0;34m)\u001b[0m\u001b[0;34m\u001b[0m\u001b[0;34m\u001b[0m\u001b[0m\n\u001b[1;32m      7\u001b[0m \u001b[0;34m\u001b[0m\u001b[0m\n\u001b[0;32m----> 8\u001b[0;31m \u001b[0mprob\u001b[0m\u001b[0;34m.\u001b[0m\u001b[0msolve\u001b[0m\u001b[0;34m(\u001b[0m\u001b[0;34m)\u001b[0m\u001b[0;34m\u001b[0m\u001b[0;34m\u001b[0m\u001b[0m\n\u001b[0m",
            "\u001b[0;32m/usr/local/lib/python3.7/dist-packages/cvxpy/problems/problem.py\u001b[0m in \u001b[0;36msolve\u001b[0;34m(self, *args, **kwargs)\u001b[0m\n\u001b[1;32m    288\u001b[0m         \u001b[0;32melse\u001b[0m\u001b[0;34m:\u001b[0m\u001b[0;34m\u001b[0m\u001b[0;34m\u001b[0m\u001b[0m\n\u001b[1;32m    289\u001b[0m             \u001b[0msolve_func\u001b[0m \u001b[0;34m=\u001b[0m \u001b[0mProblem\u001b[0m\u001b[0;34m.\u001b[0m\u001b[0m_solve\u001b[0m\u001b[0;34m\u001b[0m\u001b[0;34m\u001b[0m\u001b[0m\n\u001b[0;32m--> 290\u001b[0;31m         \u001b[0;32mreturn\u001b[0m \u001b[0msolve_func\u001b[0m\u001b[0;34m(\u001b[0m\u001b[0mself\u001b[0m\u001b[0;34m,\u001b[0m \u001b[0;34m*\u001b[0m\u001b[0margs\u001b[0m\u001b[0;34m,\u001b[0m \u001b[0;34m**\u001b[0m\u001b[0mkwargs\u001b[0m\u001b[0;34m)\u001b[0m\u001b[0;34m\u001b[0m\u001b[0;34m\u001b[0m\u001b[0m\n\u001b[0m\u001b[1;32m    291\u001b[0m \u001b[0;34m\u001b[0m\u001b[0m\n\u001b[1;32m    292\u001b[0m     \u001b[0;34m@\u001b[0m\u001b[0mclassmethod\u001b[0m\u001b[0;34m\u001b[0m\u001b[0;34m\u001b[0m\u001b[0m\n",
            "\u001b[0;32m/usr/local/lib/python3.7/dist-packages/cvxpy/problems/problem.py\u001b[0m in \u001b[0;36m_solve\u001b[0;34m(self, solver, warm_start, verbose, parallel, gp, qcp, **kwargs)\u001b[0m\n\u001b[1;32m    566\u001b[0m                     solver, warm_start, verbose, **kwargs)\n\u001b[1;32m    567\u001b[0m \u001b[0;34m\u001b[0m\u001b[0m\n\u001b[0;32m--> 568\u001b[0;31m         \u001b[0mself\u001b[0m\u001b[0;34m.\u001b[0m\u001b[0m_construct_chains\u001b[0m\u001b[0;34m(\u001b[0m\u001b[0msolver\u001b[0m\u001b[0;34m=\u001b[0m\u001b[0msolver\u001b[0m\u001b[0;34m,\u001b[0m \u001b[0mgp\u001b[0m\u001b[0;34m=\u001b[0m\u001b[0mgp\u001b[0m\u001b[0;34m)\u001b[0m\u001b[0;34m\u001b[0m\u001b[0;34m\u001b[0m\u001b[0m\n\u001b[0m\u001b[1;32m    569\u001b[0m         data, solving_inverse_data = self._solving_chain.apply(\n\u001b[1;32m    570\u001b[0m             self._intermediate_problem)\n",
            "\u001b[0;32m/usr/local/lib/python3.7/dist-packages/cvxpy/problems/problem.py\u001b[0m in \u001b[0;36m_construct_chains\u001b[0;34m(self, solver, gp)\u001b[0m\n\u001b[1;32m    509\u001b[0m \u001b[0;34m\u001b[0m\u001b[0m\n\u001b[1;32m    510\u001b[0m             \u001b[0;32mexcept\u001b[0m \u001b[0mException\u001b[0m \u001b[0;32mas\u001b[0m \u001b[0me\u001b[0m\u001b[0;34m:\u001b[0m\u001b[0;34m\u001b[0m\u001b[0;34m\u001b[0m\u001b[0m\n\u001b[0;32m--> 511\u001b[0;31m                 \u001b[0;32mraise\u001b[0m \u001b[0me\u001b[0m\u001b[0;34m\u001b[0m\u001b[0;34m\u001b[0m\u001b[0m\n\u001b[0m\u001b[1;32m    512\u001b[0m \u001b[0;34m\u001b[0m\u001b[0m\n\u001b[1;32m    513\u001b[0m     def _solve(self,\n",
            "\u001b[0;32m/usr/local/lib/python3.7/dist-packages/cvxpy/problems/problem.py\u001b[0m in \u001b[0;36m_construct_chains\u001b[0;34m(self, solver, gp)\u001b[0m\n\u001b[1;32m    498\u001b[0m \u001b[0;34m\u001b[0m\u001b[0m\n\u001b[1;32m    499\u001b[0m                 \u001b[0mself\u001b[0m\u001b[0;34m.\u001b[0m\u001b[0m_intermediate_chain\u001b[0m \u001b[0;34m=\u001b[0m\u001b[0;31m \u001b[0m\u001b[0;31m\\\u001b[0m\u001b[0;34m\u001b[0m\u001b[0;34m\u001b[0m\u001b[0m\n\u001b[0;32m--> 500\u001b[0;31m                     \u001b[0mconstruct_intermediate_chain\u001b[0m\u001b[0;34m(\u001b[0m\u001b[0mself\u001b[0m\u001b[0;34m,\u001b[0m \u001b[0mcandidate_solvers\u001b[0m\u001b[0;34m,\u001b[0m \u001b[0mgp\u001b[0m\u001b[0;34m=\u001b[0m\u001b[0mgp\u001b[0m\u001b[0;34m)\u001b[0m\u001b[0;34m\u001b[0m\u001b[0;34m\u001b[0m\u001b[0m\n\u001b[0m\u001b[1;32m    501\u001b[0m                 \u001b[0mself\u001b[0m\u001b[0;34m.\u001b[0m\u001b[0m_intermediate_problem\u001b[0m\u001b[0;34m,\u001b[0m \u001b[0mself\u001b[0m\u001b[0;34m.\u001b[0m\u001b[0m_intermediate_inverse_data\u001b[0m \u001b[0;34m=\u001b[0m\u001b[0;31m \u001b[0m\u001b[0;31m\\\u001b[0m\u001b[0;34m\u001b[0m\u001b[0;34m\u001b[0m\u001b[0m\n\u001b[1;32m    502\u001b[0m                     \u001b[0mself\u001b[0m\u001b[0;34m.\u001b[0m\u001b[0m_intermediate_chain\u001b[0m\u001b[0;34m.\u001b[0m\u001b[0mapply\u001b[0m\u001b[0;34m(\u001b[0m\u001b[0mself\u001b[0m\u001b[0;34m)\u001b[0m\u001b[0;34m\u001b[0m\u001b[0;34m\u001b[0m\u001b[0m\n",
            "\u001b[0;32m/usr/local/lib/python3.7/dist-packages/cvxpy/reductions/solvers/intermediate_chain.py\u001b[0m in \u001b[0;36mconstruct_intermediate_chain\u001b[0;34m(problem, candidates, gp)\u001b[0m\n\u001b[1;32m     94\u001b[0m             append += (\"\\nHowever, the problem does follow DQCP rules. \"\n\u001b[1;32m     95\u001b[0m                        \"Consider calling solve() with `qcp=True`.\")\n\u001b[0;32m---> 96\u001b[0;31m         \u001b[0;32mraise\u001b[0m \u001b[0mDCPError\u001b[0m\u001b[0;34m(\u001b[0m\u001b[0;34m\"Problem does not follow DCP rules. Specifically:\\n\"\u001b[0m \u001b[0;34m+\u001b[0m \u001b[0mappend\u001b[0m\u001b[0;34m)\u001b[0m\u001b[0;34m\u001b[0m\u001b[0;34m\u001b[0m\u001b[0m\n\u001b[0m\u001b[1;32m     97\u001b[0m \u001b[0;34m\u001b[0m\u001b[0m\n\u001b[1;32m     98\u001b[0m     \u001b[0;32melif\u001b[0m \u001b[0mgp\u001b[0m \u001b[0;32mand\u001b[0m \u001b[0;32mnot\u001b[0m \u001b[0mproblem\u001b[0m\u001b[0;34m.\u001b[0m\u001b[0mis_dgp\u001b[0m\u001b[0;34m(\u001b[0m\u001b[0;34m)\u001b[0m\u001b[0;34m:\u001b[0m\u001b[0;34m\u001b[0m\u001b[0;34m\u001b[0m\u001b[0m\n",
            "\u001b[0;31mDCPError\u001b[0m: Problem does not follow DCP rules. Specifically:\nThe objective is not DCP. Its following subexpressions are not:\nvar923 * log(var923)"
          ]
        }
      ]
    },
    {
      "cell_type": "markdown",
      "metadata": {
        "id": "0yp-9DA6-C_O"
      },
      "source": [
        "Fortunately, the error messages are quite informative, we see:\n",
        "\n",
        "```\n",
        "The objective is not DCP. Its following subexpressions are not:\n",
        "var5 * log(var5)\n",
        "```\n",
        "\n",
        "So we know the problem is with them term $x_1 log x_1$. But this is on Brien's convex list!\n",
        "\n",
        "CVXPY cannot tell that this is convex, because it has a rule that essentially says:\n",
        "\n",
        "> Two non-constant expressions multiplied (or divided) might not be convex.\n",
        "\n",
        "To be safe, it assumes that no function like this is convex. However, if we look at the list then we see that there is a prespecified function (called entropy)\n",
        "\n",
        "$$ entr(x) = -xlog(x)$$\n",
        "\n",
        "If we use this prespecified function in our specification, CVXPY then knows this is a convex problem. The rule is always to use pre-specified functions, unless you are adding/subtracting or multipliying by a constant.\n",
        "\n",
        "Let's try this:\n"
      ]
    },
    {
      "cell_type": "code",
      "metadata": {
        "colab": {
          "base_uri": "https://localhost:8080/"
        },
        "id": "KhGAFctbBsKc",
        "outputId": "dc001e14-a349-49fe-bf6b-557687778a2b"
      },
      "source": [
        "# Create variable\n",
        "x_1 = cp.Variable(1)\n",
        "\n",
        "# Note the minus sign\n",
        "obj = -cp.entr(x_1) + 2*x_1 + 2\n",
        "\n",
        "prob = cp.Problem(cp.Minimize(obj))\n",
        "\n",
        "prob.solve()\n",
        "prob.value"
      ],
      "execution_count": null,
      "outputs": [
        {
          "output_type": "execute_result",
          "data": {
            "text/plain": [
              "1.9502129231026384"
            ]
          },
          "metadata": {
            "tags": []
          },
          "execution_count": 76
        }
      ]
    },
    {
      "cell_type": "code",
      "metadata": {
        "colab": {
          "base_uri": "https://localhost:8080/"
        },
        "id": "eCURV2gpEgKV",
        "outputId": "ecc6447c-407a-4a97-a6c2-49d7340d481a"
      },
      "source": [
        "print(x_1.value)"
      ],
      "execution_count": null,
      "outputs": [
        {
          "output_type": "stream",
          "text": [
            "[0.04978706]\n"
          ],
          "name": "stdout"
        }
      ]
    },
    {
      "cell_type": "markdown",
      "metadata": {
        "id": "JZpKp6s6Brmh"
      },
      "source": [
        "Success!"
      ]
    },
    {
      "cell_type": "markdown",
      "metadata": {
        "id": "MoeentY-703X"
      },
      "source": [
        "### Curvature\n",
        "\n",
        "You can ask CVXPY to check the curvature of a function if you want to check the individual parts.\n",
        "\n",
        "I remember the curves this way:\n",
        "\n",
        "* Convex - bowl (or half a bowl)\n",
        "* Concave - hat (or half a hat)\n",
        "* Affine - straight line"
      ]
    },
    {
      "cell_type": "code",
      "metadata": {
        "id": "60WkpC0rHshr"
      },
      "source": [
        "x_plot = np.arange(-10, 10, 0.01)\n",
        "x_plot_pos = x_plot[x_plot>0]"
      ],
      "execution_count": null,
      "outputs": []
    },
    {
      "cell_type": "code",
      "metadata": {
        "colab": {
          "base_uri": "https://localhost:8080/",
          "height": 36
        },
        "id": "LJmMs03A74i2",
        "outputId": "3dfbfaf7-365d-46a2-f86c-6eebb0b418bf"
      },
      "source": [
        "x_1 = cp.Variable(1)\n",
        "\n",
        "x_1.curvature"
      ],
      "execution_count": null,
      "outputs": [
        {
          "output_type": "execute_result",
          "data": {
            "application/vnd.google.colaboratory.intrinsic+json": {
              "type": "string"
            },
            "text/plain": [
              "'AFFINE'"
            ]
          },
          "metadata": {
            "tags": []
          },
          "execution_count": 63
        }
      ]
    },
    {
      "cell_type": "code",
      "metadata": {
        "colab": {
          "base_uri": "https://localhost:8080/",
          "height": 265
        },
        "id": "CBNqfvzBH16L",
        "outputId": "e1b63a20-f206-4e76-d792-84a66b99accc"
      },
      "source": [
        "plt.plot(x_plot, x_plot)\n",
        "plt.show()"
      ],
      "execution_count": null,
      "outputs": [
        {
          "output_type": "display_data",
          "data": {
            "image/png": "[encoded data removed]",
            "text/plain": [
              "<Figure size 432x288 with 1 Axes>"
            ]
          },
          "metadata": {
            "tags": [],
            "needs_background": "light"
          }
        }
      ]
    },
    {
      "cell_type": "code",
      "metadata": {
        "colab": {
          "base_uri": "https://localhost:8080/",
          "height": 36
        },
        "id": "UwjgWkI0Gl6u",
        "outputId": "0fff502e-ed44-4079-94f1-270dd167014e"
      },
      "source": [
        "(0.3*x_1).curvature"
      ],
      "execution_count": null,
      "outputs": [
        {
          "output_type": "execute_result",
          "data": {
            "application/vnd.google.colaboratory.intrinsic+json": {
              "type": "string"
            },
            "text/plain": [
              "'AFFINE'"
            ]
          },
          "metadata": {
            "tags": []
          },
          "execution_count": 65
        }
      ]
    },
    {
      "cell_type": "code",
      "metadata": {
        "colab": {
          "base_uri": "https://localhost:8080/",
          "height": 265
        },
        "id": "I6PgMniAICBm",
        "outputId": "29dca639-4c7c-4c7b-80b0-ea178431ae5a"
      },
      "source": [
        "plt.plot(x_plot, 0.3*x_plot)\n",
        "plt.show()"
      ],
      "execution_count": null,
      "outputs": [
        {
          "output_type": "display_data",
          "data": {
            "image/png": "[encoded data removed]",
            "text/plain": [
              "<Figure size 432x288 with 1 Axes>"
            ]
          },
          "metadata": {
            "tags": [],
            "needs_background": "light"
          }
        }
      ]
    },
    {
      "cell_type": "code",
      "metadata": {
        "colab": {
          "base_uri": "https://localhost:8080/",
          "height": 36
        },
        "id": "SY4zAJnUGmBv",
        "outputId": "73b0cc4f-c9e3-4d26-c92f-f39e17614a26"
      },
      "source": [
        "cp.log(x_1).curvature"
      ],
      "execution_count": null,
      "outputs": [
        {
          "output_type": "execute_result",
          "data": {
            "application/vnd.google.colaboratory.intrinsic+json": {
              "type": "string"
            },
            "text/plain": [
              "'CONCAVE'"
            ]
          },
          "metadata": {
            "tags": []
          },
          "execution_count": 67
        }
      ]
    },
    {
      "cell_type": "code",
      "metadata": {
        "colab": {
          "base_uri": "https://localhost:8080/",
          "height": 265
        },
        "id": "H9nBewOgIJos",
        "outputId": "6f3478b3-eb92-48d8-a023-ae5374f193ae"
      },
      "source": [
        "plt.plot(x_plot_pos, np.log(x_plot_pos))\n",
        "plt.show()"
      ],
      "execution_count": null,
      "outputs": [
        {
          "output_type": "display_data",
          "data": {
            "image/png": "[encoded data removed]",
            "text/plain": [
              "<Figure size 432x288 with 1 Axes>"
            ]
          },
          "metadata": {
            "tags": [],
            "needs_background": "light"
          }
        }
      ]
    },
    {
      "cell_type": "code",
      "metadata": {
        "colab": {
          "base_uri": "https://localhost:8080/",
          "height": 36
        },
        "id": "EvAszjQfGmIT",
        "outputId": "f2fec118-75d0-40e6-c545-34408c627689"
      },
      "source": [
        "(x_1 * cp.log(x_1)).curvature"
      ],
      "execution_count": null,
      "outputs": [
        {
          "output_type": "execute_result",
          "data": {
            "application/vnd.google.colaboratory.intrinsic+json": {
              "type": "string"
            },
            "text/plain": [
              "'UNKNOWN'"
            ]
          },
          "metadata": {
            "tags": []
          },
          "execution_count": 69
        }
      ]
    },
    {
      "cell_type": "code",
      "metadata": {
        "colab": {
          "base_uri": "https://localhost:8080/",
          "height": 36
        },
        "id": "_pMVqDEjG54c",
        "outputId": "8f1708dd-e58a-4823-b621-856df5300af2"
      },
      "source": [
        "(-cp.entr(x_1)).curvature"
      ],
      "execution_count": null,
      "outputs": [
        {
          "output_type": "execute_result",
          "data": {
            "application/vnd.google.colaboratory.intrinsic+json": {
              "type": "string"
            },
            "text/plain": [
              "'CONVEX'"
            ]
          },
          "metadata": {
            "tags": []
          },
          "execution_count": 70
        }
      ]
    },
    {
      "cell_type": "code",
      "metadata": {
        "colab": {
          "base_uri": "https://localhost:8080/",
          "height": 265
        },
        "id": "GFUA2idAIz0p",
        "outputId": "aacd1552-c9f5-4e68-9dec-051b382115e8"
      },
      "source": [
        "plt.plot(x_plot_pos, x_plot_pos*np.log(x_plot_pos))\n",
        "plt.show()"
      ],
      "execution_count": null,
      "outputs": [
        {
          "output_type": "display_data",
          "data": {
            "image/png": "[encoded data removed]",
            "text/plain": [
              "<Figure size 432x288 with 1 Axes>"
            ]
          },
          "metadata": {
            "tags": [],
            "needs_background": "light"
          }
        }
      ]
    },
    {
      "cell_type": "markdown",
      "metadata": {
        "id": "9qVYyG6eNW7j"
      },
      "source": [
        "## Array Variables"
      ]
    },
    {
      "cell_type": "markdown",
      "metadata": {
        "id": "DedXMcUULzvV"
      },
      "source": [
        "### Declaring Array Variables\n",
        "\n",
        "Sometimes we want to declare whole arrays (you'll do this in homework 3) rather than just single variables or vectors of variables. The syntax to this is:"
      ]
    },
    {
      "cell_type": "code",
      "metadata": {
        "id": "OJ3OJyWFMCSh"
      },
      "source": [
        "x = cp.Variable((3, 7))"
      ],
      "execution_count": null,
      "outputs": []
    },
    {
      "cell_type": "markdown",
      "metadata": {
        "id": "5kkiBNBvMKdx"
      },
      "source": [
        "This makes a matrix variable with 3 rows and 7 columns.\n",
        "\n",
        "The keen-eyed will have noticed that the function call here (and in some other places where we have initalized ranges) looks strange, why:\n",
        "\n",
        "```\n",
        "(3, 7)\n",
        "```\n",
        "\n",
        "and not\n",
        "\n",
        "```\n",
        "[3, 7]\n",
        "```\n",
        "\n",
        "inside the brackets?\n",
        "\n",
        "In the same way that [...] is a list and {...} is a dictionary, (...) gives a tuple (pronounced tupple). They sort of function like lists, but once you declare them you cannot change the elements. Something to be aware of, but not to worry about.\n",
        "\n"
      ]
    },
    {
      "cell_type": "markdown",
      "metadata": {
        "id": "QmAvkjGJNdoV"
      },
      "source": [
        "### Elementwise Multiplying array (and vector) variables\n",
        "\n",
        "For the DCP reasons explained above, CVXPY is very wary when it comes to multiplication.\n",
        "\n",
        "For less defensible reasons, when you use '*' with array variables, CVXPY will assume you mean matrix multiplication, and not element-wise multiplication. This is the opposite behavior to base python.\n",
        "\n",
        "Instead, if we look at the list of atomic functions we see that there is a function for multipliying. So elementwise multiplying a constant array and an array variable looks like this:"
      ]
    },
    {
      "cell_type": "code",
      "metadata": {
        "colab": {
          "base_uri": "https://localhost:8080/"
        },
        "id": "zw9nMFs3PKzX",
        "outputId": "aa863153-1fc8-4498-cf08-c57bb103cd9b"
      },
      "source": [
        "a = np.array([[4,  10, 9,  6,  18],\n",
        "              [8,  2,  12, 8,  10],\n",
        "              [11, 8,  10, 7,  9 ],\n",
        "              [19, 6,  10, 6,  4 ],\n",
        "              [-8, 9,  11, 8,  2]])\n",
        "\n",
        "x = cp.Variable((5, 5))\n",
        "\n",
        "cp.multiply(x, a)"
      ],
      "execution_count": null,
      "outputs": [
        {
          "output_type": "execute_result",
          "data": {
            "text/plain": [
              "Expression(AFFINE, UNKNOWN, (5, 5))"
            ]
          },
          "metadata": {
            "tags": []
          },
          "execution_count": 88
        }
      ]
    },
    {
      "cell_type": "markdown",
      "metadata": {
        "id": "gZlRcGMIQChX"
      },
      "source": [
        "## Simple Constraints"
      ]
    },
    {
      "cell_type": "markdown",
      "metadata": {
        "id": "Bm3JvEFkHEPF"
      },
      "source": [
        "Sometimes we want to add constraints to our problem. For most constaints this is very easy in CVXPY.\n",
        "\n",
        "For ease of extracting dual variables, I would suggest you always define constraints as a list outside the function call:"
      ]
    },
    {
      "cell_type": "code",
      "metadata": {
        "colab": {
          "base_uri": "https://localhost:8080/"
        },
        "id": "p_RXZlaRHFNo",
        "outputId": "b56fcef3-8fb8-4906-8e7e-4b049d4e5e12"
      },
      "source": [
        "# Create variables\n",
        "x_1 = cp.Variable(1)\n",
        "x_2 = cp.Variable(1)\n",
        "\n",
        "#Define an intermediate function\n",
        "q_1 = 3*x_1 + 4*x_2\n",
        "\n",
        "#Define constaints\n",
        "constraints = [0.7 - x_1 <= 0, \n",
        "               x_2 - 3<= 0, \n",
        "               q_1 - 4 <= 0]\n",
        "\n",
        "# Note the minus sign\n",
        "obj = -x_1 + cp.square(x_1) - x_2 + cp.power(x_2, 3)\n",
        "\n",
        "# Here we call the constraints\n",
        "prob = cp.Problem(cp.Minimize(obj), constraints)\n",
        "prob.solve()\n",
        "\n",
        "print(\"\\nThe optimal objective function is\", prob.value)\n",
        "print(\"\\nThe optimal x_1 is\", x_1.value)\n",
        "print(\"\\nThe optimal x_2 is\", x_2.value)"
      ],
      "execution_count": null,
      "outputs": [
        {
          "output_type": "stream",
          "text": [
            "\n",
            "The optimal objective function is -0.5778281253496275\n",
            "\n",
            "The optimal x_1 is [0.7]\n",
            "\n",
            "The optimal x_2 is [0.475]\n"
          ],
          "name": "stdout"
        }
      ]
    },
    {
      "cell_type": "markdown",
      "metadata": {
        "id": "_yIfNGYkHZK9"
      },
      "source": [
        "### Dual Variables\n",
        "\n",
        "We can also extract the corresponding dual variables, by calling the attribute 'dual_value' of the elements of the constraint list."
      ]
    },
    {
      "cell_type": "code",
      "metadata": {
        "colab": {
          "base_uri": "https://localhost:8080/"
        },
        "id": "G-X0RdVTHalD",
        "outputId": "60b0a2aa-3c2b-4725-c6d7-1e510a82494a"
      },
      "source": [
        "print(\"The local value of slackening constraint 'x_1 >= 0.7' is:\", constraints[0].dual_value[0])\n",
        "print(\"\\nThe local value of slackening constraint 'x_2 <= 3' is:\", constraints[1].dual_value[0])\n",
        "print(\"\\nThe local value of slackening constraint 'q_1 <= 4' is:\", constraints[2].dual_value[0])\n"
      ],
      "execution_count": null,
      "outputs": [
        {
          "output_type": "stream",
          "text": [
            "The local value of slackening constraint 'x_1 >= 0.7' is: 0.6423515058367689\n",
            "\n",
            "The local value of slackening constraint 'x_2 <= 3' is: 7.029134326934331e-11\n",
            "\n",
            "The local value of slackening constraint 'q_1 <= 4' is: 0.08078314324763167\n"
          ],
          "name": "stdout"
        }
      ]
    },
    {
      "cell_type": "markdown",
      "metadata": {
        "id": "9ePCJ8GHHgWX"
      },
      "source": [
        "If ever you see a very small value (like $1*10^{-11}$) then this is likely due to machine error and you can think of this constraint as non-binding."
      ]
    },
    {
      "cell_type": "markdown",
      "metadata": {
        "id": "fiRFf9FPL9Nz"
      },
      "source": [
        "## Constrained Optimization Example\n",
        "\n",
        "The total cost of making Hasbro's revolutionary new toy 'sphere attached via string to receptacle&trade;' is:\n",
        "\n",
        "$C(x) = x^2 - 3x + 4$\n",
        "\n",
        "Consumers, clamouring for ever more of this simple yet addicting game, are willing to pay the price:\n",
        "\n",
        "$P(x) = 190 - 50log(x) - 0.1x$\n",
        "\n",
        "Where $x$ is the number of toys produced in millions.\n",
        "\n",
        "There's a minimum production run of 3 million, and all toys produced must be sold.\n",
        "\n",
        "It looks bad to gouge desparate parents, so the price cannot exceed 80.\n",
        "\n",
        "**How many toys should Hasbro produce to maximize profits? What price do they sell for? How much profit do they make?**\n",
        "\n",
        "(This is not the best example because in reality they could fix the price at 80 and sell more - this is the issue with me making up problems quickly. Suspend disbelief and assume that price is only a function of the amount produced).\n"
      ]
    },
    {
      "cell_type": "markdown",
      "metadata": {
        "id": "zgQKuB3uRa-U"
      },
      "source": [
        "### Writing down the convex problem\n",
        "\n",
        "Profits\n",
        "\n",
        "$$\\pi = P(x)x - C(x)$$\n",
        "\n",
        "Substituting in:\n",
        "$$\\pi = (190-50log(x)-0.1x)x - x^2 +3x - 4$$\n",
        "\n",
        "Multiplying out:\n",
        "$$\\pi = 190x-50xlog(x)-0.1x^2 - x^2 +3x - 4$$\n",
        "\n",
        "Collecting terms:\n",
        "$$\\pi = 187x-50xlog(x)- 1.1x^2 - 4$$\n",
        "\n",
        "In terms of atomic functions:\n",
        "$$\\pi = 187x + 50entr(x)- 1.1square(x) - 4$$\n",
        "\n",
        "We want to phrase our problems in terms of minimization, so introduce a minus sign:\n",
        "\n",
        "$$-\\pi = -187x - 50entr(x) + 1.1square(x) + 4$$\n",
        "\n",
        "Now we can fully describe the problem in the standard form:\n",
        "\n",
        "$$min_x ( -187x - 50entr(x) + 1.1square(x) + 4)$$\n",
        "\n",
        "subject to:\n",
        "\n",
        "$$P(x) - 80 \\leq 0$$\n",
        "\n",
        "$$3-x \\leq 0$$"
      ]
    },
    {
      "cell_type": "markdown",
      "metadata": {
        "id": "XwRdx97oZ2l0"
      },
      "source": [
        "### Solving convex problem"
      ]
    },
    {
      "cell_type": "code",
      "metadata": {
        "colab": {
          "base_uri": "https://localhost:8080/"
        },
        "id": "xN3_6qchRPgm",
        "outputId": "943c20b0-792d-4108-9317-a8345c54fd48"
      },
      "source": [
        "# Create varaibles\n",
        "x = cp.Variable(1)\n",
        "\n",
        "# Define price\n",
        "p = 200 - 50*cp.log(x) - 0.1*x\n",
        "\n",
        "# Define (negative) profit as the objective function\n",
        "neg_profit = (-187*x - 50*cp.entr(x) + 0.5*cp.square(x) + 4)\n",
        "\n",
        "# Define constraints\n",
        "constraints = [p - 80 <= 0,\n",
        "               3-x <= 0]\n",
        "\n",
        "#Define problem as minimizing negative profit, s.t. constraints\n",
        "prob = cp.Problem(cp.Minimize(neg_profit), constraints)\n",
        "\n",
        "#Solve problem\n",
        "prob.solve()\n",
        "\n",
        "#Print primal variables\n",
        "print(\"\\nThe optimal profit (in millions) is $\", round(-prob.value, 3))\n",
        "print(\"\\nThe optimal production (in millions) is\", round(x.value[0],3))\n",
        "print(\"\\nThe optimal price is $\", round(p.value[0],3))\n",
        "\n",
        "#Print dual variables\n",
        "print(\"\\n\\nThe local value of slackening price constraint is:\", constraints[0].dual_value)\n",
        "print(\"\\nThe local value of slackening production constraint is:\", constraints[1].dual_value)\n"
      ],
      "execution_count": null,
      "outputs": [
        {
          "output_type": "stream",
          "text": [
            "\n",
            "The optimal profit (in millions) is $ 677.111\n",
            "\n",
            "The optimal production (in millions) is [12.147]\n",
            "\n",
            "The optimal price is $ 73.932\n",
            "\n",
            "\n",
            "The local value of slackening price constraint is: [3.1285423e-07]\n",
            "\n",
            "The local value of slackening production constraint is: [9.04901886e-08]\n"
          ],
          "name": "stdout"
        }
      ]
    },
    {
      "cell_type": "markdown",
      "metadata": {
        "id": "7X3LxMuQZ6Q2"
      },
      "source": [
        "So the **optimal production is 12.1 million units**.\n",
        "\n",
        "Each sells at **a price of $73.93**.\n",
        "\n",
        "This generates a **profit of $677 million**."
      ]
    },
    {
      "cell_type": "markdown",
      "metadata": {
        "id": "GR43pZTXbEDO"
      },
      "source": [
        "## Integer Programming\n",
        "\n",
        "Integer programming is when we restrict our variables to be integers. In this course, this will just be a restriction to 1 (on) or 0 (off). We can write:\n",
        "\n",
        "$$ x \\in \\{0, 1\\} $$\n",
        "\n",
        "In our problem forumlation we write this as a constraint, but in CVXPY (as in AMPL) we declare this when we assign the variable."
      ]
    },
    {
      "cell_type": "code",
      "metadata": {
        "id": "6gLPsWG-WpdP"
      },
      "source": [
        "x = cp.Variable(4, boolean = True)"
      ],
      "execution_count": null,
      "outputs": []
    },
    {
      "cell_type": "markdown",
      "metadata": {
        "id": "Wvd_4ZS0Ls0o"
      },
      "source": [
        "Easy!"
      ]
    },
    {
      "cell_type": "markdown",
      "metadata": {
        "id": "gWc0poApDjpR"
      },
      "source": [
        "## Trickier Constraints\n",
        "\n",
        "[A useful contraints reference](http://yetanothermathprogrammingconsultant.blogspot.com/2019/11/cvxpy-matrix-style-modeling-limits.html). In particular, their example problems 1 and 4 have some similarities in constraints to your problem on Homework 3.\n",
        "\n",
        "CVXPY can only handle constraints in matrix algebra. This is usually not a problem, especially when our variables are singular (i.e. not a matrix or a vector). This is the one area where I think AMPL is signficiantly easier than CVXPY (AMPL will let you include for loops in constaints)."
      ]
    },
    {
      "cell_type": "markdown",
      "metadata": {
        "id": "KOUIrGWIQFuB"
      },
      "source": [
        "### Tricky constraint 1\n",
        "\n",
        "Let's imagine we have an $5$ by $3$ matrix $x$ and a length $3$ vector $a$, both of which might be choice variables in our convex model.\n",
        "\n",
        "$$x= \\begin{pmatrix}\n",
        "  x_{11}  & x_{12} & x_{13}\\\\\n",
        "  x_{21}  & x_{22} & x_{23}\\\\\n",
        "  x_{31}  & x_{32} & x_{33}\\\\\n",
        "  x_{41}  & x_{42} & x_{43}\\\\\n",
        "  x_{51}  & x_{52} & x_{53}\\\\\n",
        " \\end{pmatrix}$$\n",
        "\n",
        "and\n",
        "\n",
        " $$a= \\begin{pmatrix}\n",
        "  a_{1} \\\\\n",
        "  a_{2} \\\\\n",
        "  a_{3} \\\\\n",
        " \\end{pmatrix}$$\n",
        "\n",
        " We might want to write a constraint like this:\n",
        "\n",
        "$$ \\sum_i x_{i,j} \\leq a_j$$\n",
        "\n",
        "Which we can also write:\n",
        "\n",
        "$$ \\sum_i x_{i,j} - a_j \\leq 0$$\n",
        "\n",
        "So this says that each column of $x$ must sum to less than the value of the corresponding entry in $a$.\n",
        "\n",
        "This is relatively easy to write in summations, but these won't work for every problem. A more general technique is to write this with matrix algebra, which is a little tricky. What we want to produce is a vector that contains the correct elements of $x$ in the same dimensions as $a$. Let's call this $p$. In this case:\n",
        "\n",
        " $$p \\leq a, \\begin{pmatrix}\n",
        "  x_{11} + x_{21} + x_{31} + x_{41} + x_{51} \\\\\n",
        "  x_{12} + x_{22} + x_{32} + x_{42} + x_{52} \\\\\n",
        "  x_{13} + x_{23} + x_{33} + x_{43} + x_{53} \\\\\n",
        " \\end{pmatrix}\n",
        " \\leq\n",
        " \\begin{pmatrix}\n",
        "  a_{1} \\\\\n",
        "  a_{2} \\\\\n",
        "  a_{3} \\\\\n",
        " \\end{pmatrix}$$\n",
        "\n",
        " We can create $p$ by multiplying $x$ by a vector of $1$, which I'll call $e$\n",
        "\n",
        "\n",
        "$$p^T= e^Tx =\n",
        " \\begin{pmatrix}\n",
        "  1 & 1 & 1 & 1 & 1\n",
        " \\end{pmatrix}\n",
        " \\begin{pmatrix}\n",
        "  x_{11}  & x_{12} & x_{13}\\\\\n",
        "  x_{21}  & x_{22} & x_{23}\\\\\n",
        "  x_{31}  & x_{32} & x_{33}\\\\\n",
        "  x_{41}  & x_{42} & x_{43}\\\\\n",
        "  x_{51}  & x_{52} & x_{53}\\\\\n",
        " \\end{pmatrix} \n",
        " =\n",
        " \\begin{pmatrix}\n",
        "  x_{11} + x_{21} + x_{31} + x_{41} + x_{51} \\\\\n",
        "  x_{12} + x_{22} + x_{32} + x_{42} + x_{52} \\\\\n",
        "  x_{13} + x_{23} + x_{33} + x_{43} + x_{53} \\\\\n",
        " \\end{pmatrix}^T\n",
        "$$\n",
        " \n",
        "Applying the rules for transpose, we can then write in compact form:\n",
        "\n",
        "$$p^T= e^Tx$$\n",
        "\n",
        "$$p = x^Te$$\n",
        "\n",
        "(I didn't write this out because then I'd have to flip x).\n",
        "\n",
        "And we can now write our constraint:\n",
        "\n",
        "$$x^Te - a \\leq 0$$\n",
        "\n",
        "In python this would look like:"
      ]
    },
    {
      "cell_type": "code",
      "metadata": {
        "id": "fOhVheEbV72o"
      },
      "source": [
        "x = cp.Variable((5, 3))\n",
        "\n",
        "# I choose to use the 2D representation here, but you can use 1D if you are careful with your dimensions\n",
        "a = cp.Variable((3, 1))\n",
        "\n",
        "e = np.ones((5,1))\n",
        "\n",
        "constraints = [x.T @ e - a <= 0]"
      ],
      "execution_count": null,
      "outputs": []
    },
    {
      "cell_type": "markdown",
      "metadata": {
        "id": "WzxN6XbnW9LD"
      },
      "source": [
        "### Tricky Constraint 2\n",
        "\n",
        "Or if our constaint was across $j$ instead of $i$, like this:\n",
        "\n",
        "$$ \\sum_j x_{i,j} \\leq 3$$\n",
        "\n",
        "We first rearrange:\n",
        "\n",
        "$$ \\sum_j x_{i,j} - 3 \\leq 0$$\n",
        "\n",
        "Then we can write:\n",
        "\n",
        "$$ \\begin{pmatrix}\n",
        "  x_{11}  & x_{12} & x_{13}\\\\\n",
        "  x_{21}  & x_{22} & x_{23}\\\\\n",
        "  x_{31}  & x_{32} & x_{33}\\\\\n",
        "  x_{41}  & x_{42} & x_{43}\\\\\n",
        "  x_{51}  & x_{52} & x_{53}\\\\\n",
        " \\end{pmatrix}\n",
        " \\begin{pmatrix}\n",
        "  1 \\\\\n",
        "  1 \\\\\n",
        "  1 \\\\\n",
        " \\end{pmatrix} \n",
        " -\n",
        " \\begin{pmatrix}\n",
        "  3 \\\\\n",
        "  3 \\\\\n",
        "  3 \\\\\n",
        "  3 \\\\\n",
        "  3 \\\\\n",
        " \\end{pmatrix}\n",
        " \\leq\n",
        " 0  $$\n",
        "\n",
        " We don't have to declare the vector of 3s, since the comparisons are elementwise. In python this looks like:"
      ]
    },
    {
      "cell_type": "code",
      "metadata": {
        "id": "UE3uIQQBbFgp"
      },
      "source": [
        "x = cp.Variable((5, 3))\n",
        "\n",
        "f = np.ones((3,1))\n",
        "\n",
        "constraints = [x @ f - 3 <= 0]"
      ],
      "execution_count": null,
      "outputs": []
    },
    {
      "cell_type": "markdown",
      "metadata": {
        "id": "SXuZ8C5cCqgj"
      },
      "source": [
        "In cases 1 and 2, there is a simpler way to write this constraint (example for case 2 below), but it won't always work. For this reason I suggest learning this linear algebra method."
      ]
    },
    {
      "cell_type": "code",
      "metadata": {
        "id": "GtwKKsl-C5m7"
      },
      "source": [
        "x = cp.Variable((5, 3))\n",
        "\n",
        "constraints = [cp.sum(x, axis = 1) - np.ones((5))*3 <= 0]"
      ],
      "execution_count": null,
      "outputs": []
    },
    {
      "cell_type": "markdown",
      "metadata": {
        "id": "DefHRCDBbamX"
      },
      "source": [
        "### Tricky Constraint 3\n",
        "\n",
        "One final example, what if we have the constraint:\n",
        "\n",
        "$$ x_{i,j} \\leq a_j$$\n",
        "\n",
        "$$ x_{i,j} - a_j \\leq 0$$\n",
        "\n",
        "In this case, each element in column $j$ of $x$ must be less than the corresponding value in $a$. Really we want to do a comparison like this:\n",
        "\n",
        "$$ \\begin{pmatrix}\n",
        "  x_{11}  & x_{12} & x_{13}\\\\\n",
        "  x_{21}  & x_{22} & x_{23}\\\\\n",
        "  x_{31}  & x_{32} & x_{33}\\\\\n",
        "  x_{41}  & x_{42} & x_{43}\\\\\n",
        "  x_{51}  & x_{52} & x_{53}\\\\\n",
        " \\end{pmatrix} \n",
        " \\leq\n",
        " \\begin{pmatrix}\n",
        "  a_1  & a_2 & a_3\\\\\n",
        "  a_1  & a_2 & a_3\\\\\n",
        "  a_1  & a_2 & a_3\\\\\n",
        "  a_1  & a_2 & a_3\\\\\n",
        "  a_1  & a_2 & a_3\\\\\n",
        " \\end{pmatrix}\n",
        " $$\n",
        "\n",
        " We can get this matrix by doing:\n",
        "\n",
        " $$ \n",
        "  \\begin{pmatrix}\n",
        "  1\\\\\n",
        "  1\\\\\n",
        "  1\\\\\n",
        "  1\\\\\n",
        "  1\\\\\n",
        " \\end{pmatrix}\n",
        "  \\begin{pmatrix}\n",
        "  a_{1} &  a_{2} & a_{3} \\\\\n",
        " \\end{pmatrix}\n",
        " =\n",
        " \\begin{pmatrix}\n",
        "  a_1  & a_2 & a_3\\\\\n",
        "  a_1  & a_2 & a_3\\\\\n",
        "  a_1  & a_2 & a_3\\\\\n",
        "  a_1  & a_2 & a_3\\\\\n",
        "  a_1  & a_2 & a_3\\\\\n",
        " \\end{pmatrix}\n",
        " $$\n",
        "\n",
        " So:\n",
        "\n",
        " $$x - g a^T \\leq 0$$\n",
        "\n",
        " In python:"
      ]
    },
    {
      "cell_type": "code",
      "metadata": {
        "id": "SfYLWG8QbZ0a"
      },
      "source": [
        "x = cp.Variable((5, 3))\n",
        "\n",
        "# I choose to use the 2D representation here, but you can use 1D if you are careful with your dimensions\n",
        "a = cp.Variable((3, 1))\n",
        "\n",
        "g = np.ones((5,1))\n",
        "\n",
        "constraints = [x - g @ a.T <= 0]"
      ],
      "execution_count": null,
      "outputs": []
    },
    {
      "cell_type": "markdown",
      "metadata": {
        "id": "klQBDMJrOo7i"
      },
      "source": [
        "# Homework 3 Variables\n",
        "\n",
        "Homework 3 is still a way off, but so you don't have to type out the variables when you come to it, you can just copy and paste the cell below."
      ]
    },
    {
      "cell_type": "code",
      "metadata": {
        "id": "Y84-LFDrLtaB"
      },
      "source": [
        "#Define variables\n",
        "m = 7\n",
        "n = 5\n",
        "b = 40\n",
        "\n",
        "c = np.array([[10, 4, 9, 10, 4]])\n",
        "\n",
        "d = np.array([[2,  10, 9,  9,  8 ],\n",
        "              [8,  2,  7,  8,  10],\n",
        "              [10, 9,  2,  9,  9 ],\n",
        "              [9,  12, 7,  2,  11],\n",
        "              [7,  7,  9,  11, 2 ],\n",
        "              [11, 8,  10, 7,  9 ],\n",
        "              [8,  9,  11, 8,  8]])"
      ],
      "execution_count": null,
      "outputs": []
    }
  ]
}
